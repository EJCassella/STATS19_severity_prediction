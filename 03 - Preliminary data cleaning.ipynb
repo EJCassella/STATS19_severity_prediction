{
 "cells": [
  {
   "cell_type": "markdown",
   "id": "92e2ecb1",
   "metadata": {},
   "source": [
    "# 03 - Preliminary data cleaning\n",
    "____\n",
    "\n",
    "Step 3! We have our pristine dataset split nicely into our training (and validation) and testing data. \n",
    "\n",
    "It is important to remember that any steps / transformations we apply to our training data must also be applied to the test data to avoid any errors. If we're going to drop columns, lets build up a list of cols_to_drop so we can apply this nice and easily.\n"
   ]
  },
  {
   "cell_type": "code",
   "execution_count": 69,
   "id": "e6a3a744",
   "metadata": {},
   "outputs": [],
   "source": [
    "import pandas as pd\n",
    "import numpy as np\n",
    "import matplotlib.pyplot as plt \n",
    "\n",
    "pd.options.mode.chained_assignment = None "
   ]
  },
  {
   "cell_type": "code",
   "execution_count": 70,
   "id": "78bf20e8",
   "metadata": {},
   "outputs": [],
   "source": [
    "train = pd.read_csv('training_data.csv', low_memory = False, na_values=[-1, '-1', 'Data missing or out of range', 'Unknown'])\n",
    "test = pd.read_csv('testing_data.csv', low_memory = False, na_values=[-1, '-1', 'Data missing or out of range', 'Unknown'])\n"
   ]
  },
  {
   "cell_type": "markdown",
   "id": "04cd8857",
   "metadata": {},
   "source": [
    "## Let's have a look at our data types."
   ]
  },
  {
   "cell_type": "code",
   "execution_count": 71,
   "id": "b4818108",
   "metadata": {},
   "outputs": [
    {
     "name": "stdout",
     "output_type": "stream",
     "text": [
      "<class 'pandas.core.frame.DataFrame'>\n",
      "RangeIndex: 532806 entries, 0 to 532805\n",
      "Data columns (total 57 columns):\n",
      " #   Column                                       Non-Null Count   Dtype  \n",
      "---  ------                                       --------------   -----  \n",
      " 0   accident_index                               532806 non-null  object \n",
      " 1   accident_year_x                              532806 non-null  int64  \n",
      " 2   accident_reference_x                         532806 non-null  object \n",
      " 3   location_easting_osgr                        532712 non-null  float64\n",
      " 4   location_northing_osgr                       532712 non-null  float64\n",
      " 5   longitude                                    532712 non-null  float64\n",
      " 6   latitude                                     532712 non-null  float64\n",
      " 7   police_force                                 532806 non-null  object \n",
      " 8   accident_severity                            532806 non-null  object \n",
      " 9   number_of_vehicles                           532806 non-null  int64  \n",
      " 10  number_of_casualties                         532806 non-null  int64  \n",
      " 11  date                                         532806 non-null  object \n",
      " 12  day_of_week                                  532806 non-null  object \n",
      " 13  time                                         532806 non-null  object \n",
      " 14  local_authority_district                     214127 non-null  object \n",
      " 15  local_authority_ons_district                 532806 non-null  object \n",
      " 16  local_authority_highway                      532806 non-null  object \n",
      " 17  first_road_class                             532806 non-null  object \n",
      " 18  first_road_number                            202405 non-null  object \n",
      " 19  road_type                                    521536 non-null  object \n",
      " 20  speed_limit                                  532734 non-null  float64\n",
      " 21  junction_detail                              532802 non-null  object \n",
      " 22  junction_control                             302464 non-null  object \n",
      " 23  second_road_class                            532296 non-null  object \n",
      " 24  second_road_number                           227086 non-null  object \n",
      " 25  pedestrian_crossing_human_control            528673 non-null  object \n",
      " 26  pedestrian_crossing_physical_facilities      528728 non-null  object \n",
      " 27  light_conditions                             532794 non-null  object \n",
      " 28  weather_conditions                           519333 non-null  object \n",
      " 29  road_surface_conditions                      530206 non-null  object \n",
      " 30  special_conditions_at_site                   21953 non-null   object \n",
      " 31  carriageway_hazards                          18958 non-null   object \n",
      " 32  urban_or_rural_area                          532798 non-null  object \n",
      " 33  did_police_officer_attend_scene_of_accident  532805 non-null  object \n",
      " 34  trunk_road_flag                              491456 non-null  object \n",
      " 35  lsoa_of_accident_location                    509496 non-null  object \n",
      " 36  enhanced_severity_collision                  268317 non-null  float64\n",
      " 37  accident_year_y                              532806 non-null  int64  \n",
      " 38  accident_reference_y                         532806 non-null  object \n",
      " 39  vehicle_reference                            532806 non-null  int64  \n",
      " 40  casualty_reference                           532806 non-null  int64  \n",
      " 41  casualty_class                               532806 non-null  object \n",
      " 42  sex_of_casualty                              530583 non-null  object \n",
      " 43  age_of_casualty                              524681 non-null  float64\n",
      " 44  age_band_of_casualty                         524681 non-null  object \n",
      " 45  casualty_severity                            532806 non-null  object \n",
      " 46  pedestrian_location                          532799 non-null  object \n",
      " 47  pedestrian_movement                          532801 non-null  object \n",
      " 48  car_passenger                                531738 non-null  object \n",
      " 49  bus_or_coach_passenger                       532627 non-null  object \n",
      " 50  pedestrian_road_maintenance_worker           532068 non-null  object \n",
      " 51  casualty_type                                532767 non-null  object \n",
      " 52  casualty_home_area_type                      483894 non-null  object \n",
      " 53  casualty_imd_decile                          482369 non-null  object \n",
      " 54  lsoa_of_casualty                             461212 non-null  object \n",
      " 55  enhanced_casualty_severity                   268344 non-null  float64\n",
      " 56  casualty_distance_banding                    483283 non-null  float64\n",
      "dtypes: float64(9), int64(6), object(42)\n",
      "memory usage: 231.7+ MB\n"
     ]
    }
   ],
   "source": [
    "train.info()"
   ]
  },
  {
   "cell_type": "markdown",
   "id": "3fac0f60",
   "metadata": {},
   "source": [
    "Firstly, we have a lot of features. Feature selection will be very important to make sure that our model doesn't overfit. There are also a lot of superfluous features that can easily be dropped at our feature selection stage:\n",
    "  * The geographical location columns \n",
    "  * The duplicate accident_year and accident_reference columns\n",
    "  * Whether or not a police officer attended *after* the collision occured won't have affected the seriousness\n",
    "  * vehicle and casualty reference isn't useful\n",
    "  * accident_severity should be dropped as it is highly correlated to the casualty_severity, and will just be a proxy for the model to overfit to\n",
    "  * same with the enhanced severity\n",
    "\n",
    "It also looks like we have a tonne of missing data, so first let's make sure that we drop features that have so much missing they won't really assist in our predictions.\n"
   ]
  },
  {
   "cell_type": "markdown",
   "id": "be072972",
   "metadata": {},
   "source": [
    "### Let's drop columns where we're missing a lot of data.\n",
    "\n",
    "We have a lot of NaN values, but also some more disguised missing data. Some entries are labelled with -1 (both text and numeric present), 'Data missing or out of range', and 'Unknown'. Missing greater than a third of data is going to limit our predictive power so let's remove these columns from the off. We've specified the alternative values for the NaN values in our read_csv() function above, so these will be counted with typical NaN based methods.\n",
    "\n",
    "We will evaluate the missing data in the training data set, and apply any column dropping to both datasets. No peeking at the testing data!\n"
   ]
  },
  {
   "cell_type": "code",
   "execution_count": 72,
   "id": "ba8aba97",
   "metadata": {},
   "outputs": [],
   "source": [
    "columns_to_drop = []\n",
    "\n",
    "columns_to_drop.extend(train.columns[(train.isna().sum() / train.shape[0]) * 100 > 5].to_list())\n"
   ]
  },
  {
   "cell_type": "code",
   "execution_count": 73,
   "id": "0f65c989",
   "metadata": {},
   "outputs": [
    {
     "name": "stdout",
     "output_type": "stream",
     "text": [
      "['local_authority_district', 'first_road_number', 'junction_control', 'second_road_number', 'special_conditions_at_site', 'carriageway_hazards', 'trunk_road_flag', 'enhanced_severity_collision', 'casualty_home_area_type', 'casualty_imd_decile', 'lsoa_of_casualty', 'enhanced_casualty_severity', 'casualty_distance_banding']\n"
     ]
    }
   ],
   "source": [
    "print(columns_to_drop)"
   ]
  },
  {
   "cell_type": "markdown",
   "id": "a2f61c22",
   "metadata": {},
   "source": [
    "37% of local authority district data missing, but we have the full dataset for ONS district. Let's use this to infill the local authority district and then drop the ONS district column."
   ]
  },
  {
   "cell_type": "markdown",
   "id": "03602749",
   "metadata": {},
   "source": [
    "#### Now we're ready to drop the columns with >5% of the data missing. We'll apply this to both the test and train data, and output the saved data."
   ]
  },
  {
   "cell_type": "code",
   "execution_count": 74,
   "id": "38443432",
   "metadata": {},
   "outputs": [
    {
     "data": {
      "text/plain": [
       "[None, None]"
      ]
     },
     "execution_count": 74,
     "metadata": {},
     "output_type": "execute_result"
    }
   ],
   "source": [
    "[data.drop(columns=columns_to_drop, inplace=True) for data in [train, test]]"
   ]
  },
  {
   "cell_type": "markdown",
   "id": "e12166f5",
   "metadata": {},
   "source": [
    "#### Which columns still have missing data?"
   ]
  },
  {
   "cell_type": "code",
   "execution_count": 75,
   "id": "8b4d46f4",
   "metadata": {},
   "outputs": [
    {
     "name": "stdout",
     "output_type": "stream",
     "text": [
      "lsoa_of_accident_location                      23310\n",
      "weather_conditions                             13473\n",
      "road_type                                      11270\n",
      "age_band_of_casualty                            8125\n",
      "age_of_casualty                                 8125\n",
      "pedestrian_crossing_human_control               4133\n",
      "pedestrian_crossing_physical_facilities         4078\n",
      "road_surface_conditions                         2600\n",
      "sex_of_casualty                                 2223\n",
      "car_passenger                                   1068\n",
      "pedestrian_road_maintenance_worker               738\n",
      "second_road_class                                510\n",
      "bus_or_coach_passenger                           179\n",
      "location_easting_osgr                             94\n",
      "location_northing_osgr                            94\n",
      "latitude                                          94\n",
      "longitude                                         94\n",
      "speed_limit                                       72\n",
      "casualty_type                                     39\n",
      "light_conditions                                  12\n",
      "urban_or_rural_area                                8\n",
      "pedestrian_location                                7\n",
      "pedestrian_movement                                5\n",
      "junction_detail                                    4\n",
      "did_police_officer_attend_scene_of_accident        1\n",
      "dtype: int64\n"
     ]
    }
   ],
   "source": [
    "cols_missing_data = train.loc[:, train.isnull().any()].isna().sum().sort_values(ascending=False)\n",
    "print(cols_missing_data)\n",
    "missing_numeric = train[cols_missing_data.index].describe().columns\n",
    "missing_categorical = train.describe(exclude=[np.number]).columns"
   ]
  },
  {
   "cell_type": "markdown",
   "id": "5e8785e5",
   "metadata": {},
   "source": [
    "The missing data for these features represents quite a small proportion of the dataset, so let's just infill with the most frequent value for categories, or the mean for numerics. We'll apply this to all columns in the dataframe incase our testing data has missing data in other features."
   ]
  },
  {
   "cell_type": "code",
   "execution_count": 76,
   "id": "4e29fc49",
   "metadata": {},
   "outputs": [],
   "source": [
    "[[data[col].fillna(data[col].mean(), inplace=True) for col in (data.describe().columns)] for data in [train, test]]\n",
    "\n",
    "for data in [train, test]:\n",
    "  categorical_cols = data.describe(exclude=[np.number]).columns\n",
    "  data[categorical_cols] = data[categorical_cols].apply(lambda x: x.fillna(x.value_counts().index[0]))"
   ]
  },
  {
   "cell_type": "code",
   "execution_count": 77,
   "id": "f4c9fab9",
   "metadata": {},
   "outputs": [
    {
     "name": "stdout",
     "output_type": "stream",
     "text": [
      "<class 'pandas.core.frame.DataFrame'>\n",
      "RangeIndex: 532806 entries, 0 to 532805\n",
      "Data columns (total 44 columns):\n",
      " #   Column                                       Non-Null Count   Dtype  \n",
      "---  ------                                       --------------   -----  \n",
      " 0   accident_index                               532806 non-null  object \n",
      " 1   accident_year_x                              532806 non-null  int64  \n",
      " 2   accident_reference_x                         532806 non-null  object \n",
      " 3   location_easting_osgr                        532806 non-null  float64\n",
      " 4   location_northing_osgr                       532806 non-null  float64\n",
      " 5   longitude                                    532806 non-null  float64\n",
      " 6   latitude                                     532806 non-null  float64\n",
      " 7   police_force                                 532806 non-null  object \n",
      " 8   accident_severity                            532806 non-null  object \n",
      " 9   number_of_vehicles                           532806 non-null  int64  \n",
      " 10  number_of_casualties                         532806 non-null  int64  \n",
      " 11  date                                         532806 non-null  object \n",
      " 12  day_of_week                                  532806 non-null  object \n",
      " 13  time                                         532806 non-null  object \n",
      " 14  local_authority_ons_district                 532806 non-null  object \n",
      " 15  local_authority_highway                      532806 non-null  object \n",
      " 16  first_road_class                             532806 non-null  object \n",
      " 17  road_type                                    532806 non-null  object \n",
      " 18  speed_limit                                  532806 non-null  float64\n",
      " 19  junction_detail                              532806 non-null  object \n",
      " 20  second_road_class                            532806 non-null  object \n",
      " 21  pedestrian_crossing_human_control            532806 non-null  object \n",
      " 22  pedestrian_crossing_physical_facilities      532806 non-null  object \n",
      " 23  light_conditions                             532806 non-null  object \n",
      " 24  weather_conditions                           532806 non-null  object \n",
      " 25  road_surface_conditions                      532806 non-null  object \n",
      " 26  urban_or_rural_area                          532806 non-null  object \n",
      " 27  did_police_officer_attend_scene_of_accident  532806 non-null  object \n",
      " 28  lsoa_of_accident_location                    532806 non-null  object \n",
      " 29  accident_year_y                              532806 non-null  int64  \n",
      " 30  accident_reference_y                         532806 non-null  object \n",
      " 31  vehicle_reference                            532806 non-null  int64  \n",
      " 32  casualty_reference                           532806 non-null  int64  \n",
      " 33  casualty_class                               532806 non-null  object \n",
      " 34  sex_of_casualty                              532806 non-null  object \n",
      " 35  age_of_casualty                              532806 non-null  float64\n",
      " 36  age_band_of_casualty                         532806 non-null  object \n",
      " 37  casualty_severity                            532806 non-null  object \n",
      " 38  pedestrian_location                          532806 non-null  object \n",
      " 39  pedestrian_movement                          532806 non-null  object \n",
      " 40  car_passenger                                532806 non-null  object \n",
      " 41  bus_or_coach_passenger                       532806 non-null  object \n",
      " 42  pedestrian_road_maintenance_worker           532806 non-null  object \n",
      " 43  casualty_type                                532806 non-null  object \n",
      "dtypes: float64(6), int64(6), object(32)\n",
      "memory usage: 178.9+ MB\n"
     ]
    }
   ],
   "source": [
    "train.info()"
   ]
  },
  {
   "cell_type": "code",
   "execution_count": 78,
   "id": "3b7a2e43",
   "metadata": {},
   "outputs": [],
   "source": [
    "contains_self_reported = []\n",
    "for col in train.select_dtypes(include='object'):\n",
    "  if train[col].str.contains('unknown.*self rep.*', case=False, regex=True).any(): \n",
    "    contains_self_reported.append(col)"
   ]
  },
  {
   "cell_type": "markdown",
   "id": "c07c29fc",
   "metadata": {},
   "source": [
    "Impute self-reported unknown values with column mode"
   ]
  },
  {
   "cell_type": "code",
   "execution_count": 79,
   "id": "c9f3598c",
   "metadata": {},
   "outputs": [],
   "source": [
    "for dataset in [train, test]:\n",
    "  for col in contains_self_reported:  \n",
    "    dataset[col] = np.where(dataset[col].str.contains('unknown.*self rep.*', case=False, regex=True), dataset[col].value_counts().index[0], dataset[col])"
   ]
  },
  {
   "cell_type": "code",
   "execution_count": 80,
   "id": "ae30e895",
   "metadata": {},
   "outputs": [
    {
     "data": {
      "text/plain": [
       "urban_or_rural_area\n",
       "Urban    341438\n",
       "Rural    191368\n",
       "Name: count, dtype: int64"
      ]
     },
     "execution_count": 80,
     "metadata": {},
     "output_type": "execute_result"
    }
   ],
   "source": [
    "for dataset in [train, test]:\n",
    "  dataset['urban_or_rural_area'] = np.where(dataset['urban_or_rural_area'] == 'Unallocated', dataset['urban_or_rural_area'].value_counts().index[0], dataset['urban_or_rural_area'])\n",
    "\n",
    "train.urban_or_rural_area.value_counts()"
   ]
  },
  {
   "cell_type": "markdown",
   "id": "50792931",
   "metadata": {},
   "source": [
    "Let's get rid of the duplicated columns from merging the data."
   ]
  },
  {
   "cell_type": "code",
   "execution_count": 81,
   "id": "96314e28",
   "metadata": {},
   "outputs": [],
   "source": [
    "for data in [train, test]:\n",
    "  data.rename(columns={'accident_year_x': 'accident_year', 'accident_reference_x': 'accident_reference'}, inplace=True)\n",
    "  data.drop(labels=['accident_year_y', 'accident_reference_y', 'police_force'], axis=1, inplace=True)"
   ]
  },
  {
   "cell_type": "code",
   "execution_count": 82,
   "id": "dd437e5b",
   "metadata": {},
   "outputs": [],
   "source": [
    "train.to_csv('cleaned_training_data.csv', index=False)\n",
    "test.to_csv('cleaned_testing_data.csv', index=False)"
   ]
  },
  {
   "cell_type": "code",
   "execution_count": null,
   "id": "3b373219",
   "metadata": {},
   "outputs": [],
   "source": []
  }
 ],
 "metadata": {
  "kernelspec": {
   "display_name": "DfT_project_env",
   "language": "python",
   "name": "python3"
  },
  "language_info": {
   "codemirror_mode": {
    "name": "ipython",
    "version": 3
   },
   "file_extension": ".py",
   "mimetype": "text/x-python",
   "name": "python",
   "nbconvert_exporter": "python",
   "pygments_lexer": "ipython3",
   "version": "3.12.0"
  }
 },
 "nbformat": 4,
 "nbformat_minor": 5
}
