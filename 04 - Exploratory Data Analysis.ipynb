{
 "cells": [
  {
   "cell_type": "markdown",
   "metadata": {},
   "source": [
    "# 04 - Exploratory data analysis\n",
    "____\n",
    "\n",
    "Step 4! We're sailing.\n",
    "\n",
    "We've already dropped some features by getting rid of features with too much missing data.\n",
    "\n",
    "Now we can drill down into the nitty-gritty details and poke around to see which features are more (or less) correlated with our casualty_severity predictor. We want a good idea of which features will be the most important and which we might want to drop. We also want to keep an eye out for any crazy outliers.\n",
    "\n",
    "We can also start to think about which features we might want to engineer further to boost their predictive power.\n",
    "\n",
    "Remember not to peek at the testing data at all!!!!!!\n",
    "\n",
    "We won't drop any more features here, we'll leave it all to our feature engineering stage."
   ]
  },
  {
   "cell_type": "code",
   "execution_count": 1,
   "metadata": {},
   "outputs": [],
   "source": [
    "import pandas as pd\n",
    "import numpy as np\n",
    "\n",
    "import matplotlib.pyplot as plt \n",
    "import seaborn as sns\n",
    "\n",
    "import warnings\n",
    "warnings.simplefilter(action='ignore', category=FutureWarning)"
   ]
  },
  {
   "cell_type": "code",
   "execution_count": 2,
   "metadata": {},
   "outputs": [],
   "source": [
    "train = pd.read_csv('cleaned_training_data.csv', low_memory = False)\n",
    "\n",
    "pd.options.mode.chained_assignment = None"
   ]
  },
  {
   "cell_type": "markdown",
   "metadata": {},
   "source": [
    "# Exploratory data analysis\n",
    "\n",
    "We want to investigate which features correlate with accident severity. Who, what, when, or where influences accident severity?\n",
    "\n",
    "Let's start with the numerical datatypes."
   ]
  },
  {
   "cell_type": "code",
   "execution_count": 3,
   "metadata": {},
   "outputs": [
    {
     "data": {
      "text/html": [
       "<div>\n",
       "<style scoped>\n",
       "    .dataframe tbody tr th:only-of-type {\n",
       "        vertical-align: middle;\n",
       "    }\n",
       "\n",
       "    .dataframe tbody tr th {\n",
       "        vertical-align: top;\n",
       "    }\n",
       "\n",
       "    .dataframe thead th {\n",
       "        text-align: right;\n",
       "    }\n",
       "</style>\n",
       "<table border=\"1\" class=\"dataframe\">\n",
       "  <thead>\n",
       "    <tr style=\"text-align: right;\">\n",
       "      <th></th>\n",
       "      <th>accident_index</th>\n",
       "      <th>accident_year</th>\n",
       "      <th>accident_reference</th>\n",
       "      <th>location_easting_osgr</th>\n",
       "      <th>location_northing_osgr</th>\n",
       "      <th>longitude</th>\n",
       "      <th>latitude</th>\n",
       "      <th>number_of_vehicles</th>\n",
       "      <th>number_of_casualties</th>\n",
       "      <th>speed_limit</th>\n",
       "      <th>enhanced_severity_collision</th>\n",
       "      <th>vehicle_reference</th>\n",
       "      <th>casualty_reference</th>\n",
       "      <th>age_of_casualty</th>\n",
       "      <th>enhanced_casualty_severity</th>\n",
       "    </tr>\n",
       "  </thead>\n",
       "  <tbody>\n",
       "    <tr>\n",
       "      <th>count</th>\n",
       "      <td>1.135900e+04</td>\n",
       "      <td>11359.000000</td>\n",
       "      <td>1.135900e+04</td>\n",
       "      <td>11359.000000</td>\n",
       "      <td>11359.000000</td>\n",
       "      <td>11359.000000</td>\n",
       "      <td>11359.000000</td>\n",
       "      <td>11359.000000</td>\n",
       "      <td>11359.000000</td>\n",
       "      <td>11359.000000</td>\n",
       "      <td>11359.000000</td>\n",
       "      <td>11359.000000</td>\n",
       "      <td>11359.000000</td>\n",
       "      <td>11359.000000</td>\n",
       "      <td>11359.000000</td>\n",
       "    </tr>\n",
       "    <tr>\n",
       "      <th>mean</th>\n",
       "      <td>2.021084e+12</td>\n",
       "      <td>2020.942601</td>\n",
       "      <td>1.410780e+08</td>\n",
       "      <td>443871.962233</td>\n",
       "      <td>396133.326701</td>\n",
       "      <td>-1.340571</td>\n",
       "      <td>53.460030</td>\n",
       "      <td>1.948587</td>\n",
       "      <td>1.769786</td>\n",
       "      <td>38.042962</td>\n",
       "      <td>4.075900</td>\n",
       "      <td>1.261467</td>\n",
       "      <td>1.152038</td>\n",
       "      <td>37.232233</td>\n",
       "      <td>3.892577</td>\n",
       "    </tr>\n",
       "    <tr>\n",
       "      <th>std</th>\n",
       "      <td>1.459442e+09</td>\n",
       "      <td>1.459272</td>\n",
       "      <td>1.874030e+05</td>\n",
       "      <td>10743.785035</td>\n",
       "      <td>8873.848654</td>\n",
       "      <td>0.162527</td>\n",
       "      <td>0.079295</td>\n",
       "      <td>0.774777</td>\n",
       "      <td>1.353030</td>\n",
       "      <td>13.502607</td>\n",
       "      <td>1.722738</td>\n",
       "      <td>1.053652</td>\n",
       "      <td>9.371368</td>\n",
       "      <td>18.342463</td>\n",
       "      <td>1.636143</td>\n",
       "    </tr>\n",
       "    <tr>\n",
       "      <th>min</th>\n",
       "      <td>2.019141e+12</td>\n",
       "      <td>2019.000000</td>\n",
       "      <td>1.408054e+08</td>\n",
       "      <td>413739.000000</td>\n",
       "      <td>379247.000000</td>\n",
       "      <td>-1.794360</td>\n",
       "      <td>53.307719</td>\n",
       "      <td>1.000000</td>\n",
       "      <td>1.000000</td>\n",
       "      <td>20.000000</td>\n",
       "      <td>1.000000</td>\n",
       "      <td>1.000000</td>\n",
       "      <td>1.000000</td>\n",
       "      <td>0.000000</td>\n",
       "      <td>1.000000</td>\n",
       "    </tr>\n",
       "    <tr>\n",
       "      <th>25%</th>\n",
       "      <td>2.020141e+12</td>\n",
       "      <td>2020.000000</td>\n",
       "      <td>1.409237e+08</td>\n",
       "      <td>435410.500000</td>\n",
       "      <td>388184.000000</td>\n",
       "      <td>-1.468656</td>\n",
       "      <td>53.389275</td>\n",
       "      <td>2.000000</td>\n",
       "      <td>1.000000</td>\n",
       "      <td>30.000000</td>\n",
       "      <td>3.000000</td>\n",
       "      <td>1.000000</td>\n",
       "      <td>1.000000</td>\n",
       "      <td>23.000000</td>\n",
       "      <td>3.000000</td>\n",
       "    </tr>\n",
       "    <tr>\n",
       "      <th>50%</th>\n",
       "      <td>2.021141e+12</td>\n",
       "      <td>2021.000000</td>\n",
       "      <td>1.410620e+08</td>\n",
       "      <td>441099.000000</td>\n",
       "      <td>394889.000000</td>\n",
       "      <td>-1.382666</td>\n",
       "      <td>53.448989</td>\n",
       "      <td>2.000000</td>\n",
       "      <td>1.000000</td>\n",
       "      <td>30.000000</td>\n",
       "      <td>3.000000</td>\n",
       "      <td>1.000000</td>\n",
       "      <td>1.000000</td>\n",
       "      <td>35.000000</td>\n",
       "      <td>3.000000</td>\n",
       "    </tr>\n",
       "    <tr>\n",
       "      <th>75%</th>\n",
       "      <td>2.022141e+12</td>\n",
       "      <td>2022.000000</td>\n",
       "      <td>1.412308e+08</td>\n",
       "      <td>452795.000000</td>\n",
       "      <td>403926.000000</td>\n",
       "      <td>-1.206371</td>\n",
       "      <td>53.529719</td>\n",
       "      <td>2.000000</td>\n",
       "      <td>2.000000</td>\n",
       "      <td>40.000000</td>\n",
       "      <td>6.000000</td>\n",
       "      <td>1.000000</td>\n",
       "      <td>1.000000</td>\n",
       "      <td>50.000000</td>\n",
       "      <td>5.000000</td>\n",
       "    </tr>\n",
       "    <tr>\n",
       "      <th>max</th>\n",
       "      <td>2.023141e+12</td>\n",
       "      <td>2023.000000</td>\n",
       "      <td>1.484602e+08</td>\n",
       "      <td>472943.000000</td>\n",
       "      <td>418122.000000</td>\n",
       "      <td>-0.899662</td>\n",
       "      <td>53.655353</td>\n",
       "      <td>8.000000</td>\n",
       "      <td>17.000000</td>\n",
       "      <td>70.000000</td>\n",
       "      <td>7.000000</td>\n",
       "      <td>101.000000</td>\n",
       "      <td>999.000000</td>\n",
       "      <td>97.000000</td>\n",
       "      <td>7.000000</td>\n",
       "    </tr>\n",
       "  </tbody>\n",
       "</table>\n",
       "</div>"
      ],
      "text/plain": [
       "       accident_index  accident_year  accident_reference  \\\n",
       "count    1.135900e+04   11359.000000        1.135900e+04   \n",
       "mean     2.021084e+12    2020.942601        1.410780e+08   \n",
       "std      1.459442e+09       1.459272        1.874030e+05   \n",
       "min      2.019141e+12    2019.000000        1.408054e+08   \n",
       "25%      2.020141e+12    2020.000000        1.409237e+08   \n",
       "50%      2.021141e+12    2021.000000        1.410620e+08   \n",
       "75%      2.022141e+12    2022.000000        1.412308e+08   \n",
       "max      2.023141e+12    2023.000000        1.484602e+08   \n",
       "\n",
       "       location_easting_osgr  location_northing_osgr     longitude  \\\n",
       "count           11359.000000            11359.000000  11359.000000   \n",
       "mean           443871.962233           396133.326701     -1.340571   \n",
       "std             10743.785035             8873.848654      0.162527   \n",
       "min            413739.000000           379247.000000     -1.794360   \n",
       "25%            435410.500000           388184.000000     -1.468656   \n",
       "50%            441099.000000           394889.000000     -1.382666   \n",
       "75%            452795.000000           403926.000000     -1.206371   \n",
       "max            472943.000000           418122.000000     -0.899662   \n",
       "\n",
       "           latitude  number_of_vehicles  number_of_casualties   speed_limit  \\\n",
       "count  11359.000000        11359.000000          11359.000000  11359.000000   \n",
       "mean      53.460030            1.948587              1.769786     38.042962   \n",
       "std        0.079295            0.774777              1.353030     13.502607   \n",
       "min       53.307719            1.000000              1.000000     20.000000   \n",
       "25%       53.389275            2.000000              1.000000     30.000000   \n",
       "50%       53.448989            2.000000              1.000000     30.000000   \n",
       "75%       53.529719            2.000000              2.000000     40.000000   \n",
       "max       53.655353            8.000000             17.000000     70.000000   \n",
       "\n",
       "       enhanced_severity_collision  vehicle_reference  casualty_reference  \\\n",
       "count                 11359.000000       11359.000000        11359.000000   \n",
       "mean                      4.075900           1.261467            1.152038   \n",
       "std                       1.722738           1.053652            9.371368   \n",
       "min                       1.000000           1.000000            1.000000   \n",
       "25%                       3.000000           1.000000            1.000000   \n",
       "50%                       3.000000           1.000000            1.000000   \n",
       "75%                       6.000000           1.000000            1.000000   \n",
       "max                       7.000000         101.000000          999.000000   \n",
       "\n",
       "       age_of_casualty  enhanced_casualty_severity  \n",
       "count     11359.000000                11359.000000  \n",
       "mean         37.232233                    3.892577  \n",
       "std          18.342463                    1.636143  \n",
       "min           0.000000                    1.000000  \n",
       "25%          23.000000                    3.000000  \n",
       "50%          35.000000                    3.000000  \n",
       "75%          50.000000                    5.000000  \n",
       "max          97.000000                    7.000000  "
      ]
     },
     "execution_count": 3,
     "metadata": {},
     "output_type": "execute_result"
    }
   ],
   "source": [
    "train.describe()"
   ]
  },
  {
   "cell_type": "markdown",
   "metadata": {},
   "source": [
    "Some interesting observations off the bat:\n",
    "\n",
    "* 50 % of the crashes involve 2 vehicles. There are some outliers, involving up to 8 vehicles.\n",
    "* This is similar for our number of casualties. For the most part, 1 or 2 casualties are reported, but an outlier involved 17 casualties is included - this is likely the 8 vehicle incident. We might want to consider removing this if it's just one outlying incident.\n",
    "* Half of our crashes are hapenning between 30 and 40 mph. A mean value of approximately 38 mph show this is skewed towards the higher value. We again see some outlier values up to 70 mph - as you would expect from UK motorway/dual carriageway incidents.\n",
    "* on average the casualties are in their mid-thirties. The IQR spans from 22 to 50, with some casualties as old as 98 and as young as 0.\n",
    "* I wonder if we can combine number of vehicles with number of casualties?\n",
    "* Should we use the continuous age_of_casualty or the binned categories? Is there less missing data in the binned feature? Maybe people didn't want to give an exact age, just a range?"
   ]
  },
  {
   "cell_type": "code",
   "execution_count": 4,
   "metadata": {},
   "outputs": [
    {
     "data": {
      "text/html": [
       "<div>\n",
       "<style scoped>\n",
       "    .dataframe tbody tr th:only-of-type {\n",
       "        vertical-align: middle;\n",
       "    }\n",
       "\n",
       "    .dataframe tbody tr th {\n",
       "        vertical-align: top;\n",
       "    }\n",
       "\n",
       "    .dataframe thead th {\n",
       "        text-align: right;\n",
       "    }\n",
       "</style>\n",
       "<table border=\"1\" class=\"dataframe\">\n",
       "  <thead>\n",
       "    <tr style=\"text-align: right;\">\n",
       "      <th></th>\n",
       "      <th>accident_severity</th>\n",
       "      <th>date</th>\n",
       "      <th>day_of_week</th>\n",
       "      <th>time</th>\n",
       "      <th>local_authority_district</th>\n",
       "      <th>local_authority_highway</th>\n",
       "      <th>first_road_class</th>\n",
       "      <th>road_type</th>\n",
       "      <th>junction_detail</th>\n",
       "      <th>second_road_class</th>\n",
       "      <th>pedestrian_crossing_human_control</th>\n",
       "      <th>pedestrian_crossing_physical_facilities</th>\n",
       "      <th>light_conditions</th>\n",
       "      <th>weather_conditions</th>\n",
       "      <th>road_surface_conditions</th>\n",
       "      <th>urban_or_rural_area</th>\n",
       "      <th>did_police_officer_attend_scene_of_accident</th>\n",
       "      <th>trunk_road_flag</th>\n",
       "      <th>lsoa_of_accident_location</th>\n",
       "      <th>casualty_class</th>\n",
       "      <th>sex_of_casualty</th>\n",
       "      <th>age_band_of_casualty</th>\n",
       "      <th>casualty_severity</th>\n",
       "      <th>pedestrian_location</th>\n",
       "      <th>pedestrian_movement</th>\n",
       "      <th>car_passenger</th>\n",
       "      <th>bus_or_coach_passenger</th>\n",
       "      <th>pedestrian_road_maintenance_worker</th>\n",
       "      <th>casualty_type</th>\n",
       "    </tr>\n",
       "  </thead>\n",
       "  <tbody>\n",
       "    <tr>\n",
       "      <th>count</th>\n",
       "      <td>11359</td>\n",
       "      <td>11359</td>\n",
       "      <td>11359</td>\n",
       "      <td>11359</td>\n",
       "      <td>11359</td>\n",
       "      <td>11359</td>\n",
       "      <td>11359</td>\n",
       "      <td>11359</td>\n",
       "      <td>11359</td>\n",
       "      <td>11359</td>\n",
       "      <td>11359</td>\n",
       "      <td>11359</td>\n",
       "      <td>11359</td>\n",
       "      <td>11359</td>\n",
       "      <td>11359</td>\n",
       "      <td>11359</td>\n",
       "      <td>11359</td>\n",
       "      <td>11359</td>\n",
       "      <td>11359</td>\n",
       "      <td>11359</td>\n",
       "      <td>11359</td>\n",
       "      <td>11359</td>\n",
       "      <td>11359</td>\n",
       "      <td>11359</td>\n",
       "      <td>11359</td>\n",
       "      <td>11359</td>\n",
       "      <td>11359</td>\n",
       "      <td>11359</td>\n",
       "      <td>11359</td>\n",
       "    </tr>\n",
       "    <tr>\n",
       "      <th>unique</th>\n",
       "      <td>3</td>\n",
       "      <td>1783</td>\n",
       "      <td>7</td>\n",
       "      <td>1242</td>\n",
       "      <td>4</td>\n",
       "      <td>4</td>\n",
       "      <td>6</td>\n",
       "      <td>5</td>\n",
       "      <td>9</td>\n",
       "      <td>7</td>\n",
       "      <td>4</td>\n",
       "      <td>7</td>\n",
       "      <td>5</td>\n",
       "      <td>8</td>\n",
       "      <td>5</td>\n",
       "      <td>2</td>\n",
       "      <td>3</td>\n",
       "      <td>2</td>\n",
       "      <td>828</td>\n",
       "      <td>3</td>\n",
       "      <td>2</td>\n",
       "      <td>11</td>\n",
       "      <td>2</td>\n",
       "      <td>10</td>\n",
       "      <td>10</td>\n",
       "      <td>3</td>\n",
       "      <td>5</td>\n",
       "      <td>3</td>\n",
       "      <td>21</td>\n",
       "    </tr>\n",
       "    <tr>\n",
       "      <th>top</th>\n",
       "      <td>Slight</td>\n",
       "      <td>29/01/2020</td>\n",
       "      <td>Friday</td>\n",
       "      <td>17:00</td>\n",
       "      <td>Sheffield</td>\n",
       "      <td>E08000019</td>\n",
       "      <td>Unclassified</td>\n",
       "      <td>Single carriageway</td>\n",
       "      <td>Not at junction or within 20 metres</td>\n",
       "      <td>Not at junction or within 20 metres</td>\n",
       "      <td>None within 50 metres</td>\n",
       "      <td>No physical crossing facilities within 50 metres</td>\n",
       "      <td>Daylight</td>\n",
       "      <td>Fine no high winds</td>\n",
       "      <td>Dry</td>\n",
       "      <td>Urban</td>\n",
       "      <td>Yes</td>\n",
       "      <td>Non-trunk</td>\n",
       "      <td>E01033269</td>\n",
       "      <td>Driver or rider</td>\n",
       "      <td>Male</td>\n",
       "      <td>26 - 35</td>\n",
       "      <td>Slight</td>\n",
       "      <td>Not a Pedestrian</td>\n",
       "      <td>Not a Pedestrian</td>\n",
       "      <td>Not car passenger</td>\n",
       "      <td>Not a bus or coach passenger</td>\n",
       "      <td>No / Not applicable</td>\n",
       "      <td>Car occupant</td>\n",
       "    </tr>\n",
       "    <tr>\n",
       "      <th>freq</th>\n",
       "      <td>7438</td>\n",
       "      <td>37</td>\n",
       "      <td>1891</td>\n",
       "      <td>132</td>\n",
       "      <td>4153</td>\n",
       "      <td>4153</td>\n",
       "      <td>4917</td>\n",
       "      <td>8418</td>\n",
       "      <td>5371</td>\n",
       "      <td>5370</td>\n",
       "      <td>11148</td>\n",
       "      <td>9727</td>\n",
       "      <td>7773</td>\n",
       "      <td>8964</td>\n",
       "      <td>7829</td>\n",
       "      <td>7843</td>\n",
       "      <td>8880</td>\n",
       "      <td>10451</td>\n",
       "      <td>176</td>\n",
       "      <td>8069</td>\n",
       "      <td>6985</td>\n",
       "      <td>2680</td>\n",
       "      <td>8173</td>\n",
       "      <td>9642</td>\n",
       "      <td>9642</td>\n",
       "      <td>10066</td>\n",
       "      <td>11224</td>\n",
       "      <td>11215</td>\n",
       "      <td>7115</td>\n",
       "    </tr>\n",
       "  </tbody>\n",
       "</table>\n",
       "</div>"
      ],
      "text/plain": [
       "       accident_severity        date day_of_week   time  \\\n",
       "count              11359       11359       11359  11359   \n",
       "unique                 3        1783           7   1242   \n",
       "top               Slight  29/01/2020      Friday  17:00   \n",
       "freq                7438          37        1891    132   \n",
       "\n",
       "       local_authority_district local_authority_highway first_road_class  \\\n",
       "count                     11359                   11359            11359   \n",
       "unique                        4                       4                6   \n",
       "top                   Sheffield               E08000019     Unclassified   \n",
       "freq                       4153                    4153             4917   \n",
       "\n",
       "                 road_type                      junction_detail  \\\n",
       "count                11359                                11359   \n",
       "unique                   5                                    9   \n",
       "top     Single carriageway  Not at junction or within 20 metres   \n",
       "freq                  8418                                 5371   \n",
       "\n",
       "                          second_road_class pedestrian_crossing_human_control  \\\n",
       "count                                 11359                             11359   \n",
       "unique                                    7                                 4   \n",
       "top     Not at junction or within 20 metres             None within 50 metres   \n",
       "freq                                   5370                             11148   \n",
       "\n",
       "                 pedestrian_crossing_physical_facilities light_conditions  \\\n",
       "count                                              11359            11359   \n",
       "unique                                                 7                5   \n",
       "top     No physical crossing facilities within 50 metres         Daylight   \n",
       "freq                                                9727             7773   \n",
       "\n",
       "        weather_conditions road_surface_conditions urban_or_rural_area  \\\n",
       "count                11359                   11359               11359   \n",
       "unique                   8                       5                   2   \n",
       "top     Fine no high winds                     Dry               Urban   \n",
       "freq                  8964                    7829                7843   \n",
       "\n",
       "       did_police_officer_attend_scene_of_accident trunk_road_flag  \\\n",
       "count                                        11359           11359   \n",
       "unique                                           3               2   \n",
       "top                                            Yes       Non-trunk   \n",
       "freq                                          8880           10451   \n",
       "\n",
       "       lsoa_of_accident_location   casualty_class sex_of_casualty  \\\n",
       "count                      11359            11359           11359   \n",
       "unique                       828                3               2   \n",
       "top                    E01033269  Driver or rider            Male   \n",
       "freq                         176             8069            6985   \n",
       "\n",
       "       age_band_of_casualty casualty_severity pedestrian_location  \\\n",
       "count                 11359             11359               11359   \n",
       "unique                   11                 2                  10   \n",
       "top                 26 - 35            Slight    Not a Pedestrian   \n",
       "freq                   2680              8173                9642   \n",
       "\n",
       "       pedestrian_movement      car_passenger        bus_or_coach_passenger  \\\n",
       "count                11359              11359                         11359   \n",
       "unique                  10                  3                             5   \n",
       "top       Not a Pedestrian  Not car passenger  Not a bus or coach passenger   \n",
       "freq                  9642              10066                         11224   \n",
       "\n",
       "       pedestrian_road_maintenance_worker casualty_type  \n",
       "count                               11359         11359  \n",
       "unique                                  3            21  \n",
       "top                   No / Not applicable  Car occupant  \n",
       "freq                                11215          7115  "
      ]
     },
     "execution_count": 4,
     "metadata": {},
     "output_type": "execute_result"
    }
   ],
   "source": [
    "pd.set_option('display.max_columns', None)\n",
    "train.describe(exclude=[np.number])"
   ]
  },
  {
   "cell_type": "markdown",
   "metadata": {},
   "source": [
    "Whew, lot's of information here. Let's dig in.\n",
    "\n",
    "* Firstly, we have a *tonne* of features that seem to have redundant categories, i.e. the most frequent category makes up a very high percentage. We should think about combining these into another feature (e.g. car_passenger, and bus_or_coach_passenger), reducing the feature into a binary class (e.g. pedestrian_human_control and pedestrian_crossing_physical_facilities to true or false), or potentially dropping the feature altogether\n",
    "* There are 5 different light conditions, but maybe this should be light or dark? (or streetlamps or not, as time of day would be captured in another feature.)\n",
    "* Casualty_class and casualty_type might be very similar? Look to combine these.\n",
    "* Maybe Month / day could be extracted from the date, but we shouldn't use Date itself in the model as this is highly likely to lead to overfitting."
   ]
  },
  {
   "cell_type": "code",
   "execution_count": 5,
   "metadata": {},
   "outputs": [],
   "source": [
    "numerical_feats = train.describe().columns\n",
    "categorical_feats = train.describe(exclude=[np.number]).columns"
   ]
  },
  {
   "cell_type": "markdown",
   "metadata": {},
   "source": [
    "### Time to explore the relationship of our features with the casualty_severity\n",
    "Who is involved in the most severe crashes? When do they occur? Where do they occur?"
   ]
  },
  {
   "cell_type": "markdown",
   "metadata": {},
   "source": [
    "### Who?"
   ]
  },
  {
   "cell_type": "markdown",
   "metadata": {},
   "source": [
    "Wow, it seems like far fewer females are involved in serious collisions. For both recorded genders, the histogram is right-skewed. We should see if the banded age is more normal, and consider using this instead of the highly skewed continuous age."
   ]
  },
  {
   "cell_type": "code",
   "execution_count": 6,
   "metadata": {},
   "outputs": [
    {
     "data": {
      "image/png": "[encoded data removed]",
      "text/plain": [
       "<Figure size 600x400 with 4 Axes>"
      ]
     },
     "metadata": {},
     "output_type": "display_data"
    }
   ],
   "source": [
    "sns.set_style('white')\n",
    "g = sns.FacetGrid(train, col='casualty_severity', row='sex_of_casualty', sharey=True, hue='sex_of_casualty', height=2, aspect=1.5)\n",
    "g.map(sns.histplot, 'age_of_casualty', bins=10)\n",
    "g.set_titles('{col_name}', '{row_name}')\n",
    "g.set_xlabels(label = 'Casualty age')\n",
    "labels = ['Male', 'Female']\n",
    "for ind,ax in enumerate(g.axes):\n",
    "  ax[0].annotate(labels[ind], (-80, 50), xycoords = 'axes pixels', rotation=90)"
   ]
  },
  {
   "cell_type": "code",
   "execution_count": 7,
   "metadata": {},
   "outputs": [],
   "source": [
    "train['age_band_of_casualty'] = pd.Categorical(train['age_band_of_casualty'], ordered=True, categories=['0 - 5', '6 - 10', '11 - 15', '16 - 20', '21 - 25', '26 - 35', '36 - 45', '46 - 55', '56 - 65', '66 - 75', 'Over 75'])"
   ]
  },
  {
   "cell_type": "code",
   "execution_count": 8,
   "metadata": {},
   "outputs": [
    {
     "data": {
      "image/png": "[encoded data removed]",
      "text/plain": [
       "<Figure size 600x400 with 4 Axes>"
      ]
     },
     "metadata": {},
     "output_type": "display_data"
    }
   ],
   "source": [
    "sns.set_style('white')\n",
    "g = sns.FacetGrid(train, col='casualty_severity', row='sex_of_casualty', sharey=True, hue='sex_of_casualty', height=2, aspect=1.5)\n",
    "g.map(sns.countplot, 'age_band_of_casualty', order=train.age_band_of_casualty.cat.categories)\n",
    "g.set_titles('{col_name}', '{row_name}')\n",
    "g.set_xlabels(label = 'Casualty age')\n",
    "labels = ['Male', 'Female']\n",
    "for axes in g.axes.flat:\n",
    "    for label in axes.get_xticklabels():\n",
    "        label.set_rotation(90)"
   ]
  },
  {
   "cell_type": "markdown",
   "metadata": {},
   "source": [
    "The Casualty_class and casualty_type does seem to have a lot of information overlap. 'Driver or rider' should be de-aggregated if possible, as we can fairly safely assume that motorcyclists or cyclists are going to fare worse than car drives."
   ]
  },
  {
   "cell_type": "code",
   "execution_count": 9,
   "metadata": {},
   "outputs": [
    {
     "data": {
      "text/html": [
       "<div>\n",
       "<style scoped>\n",
       "    .dataframe tbody tr th:only-of-type {\n",
       "        vertical-align: middle;\n",
       "    }\n",
       "\n",
       "    .dataframe tbody tr th {\n",
       "        vertical-align: top;\n",
       "    }\n",
       "\n",
       "    .dataframe thead th {\n",
       "        text-align: right;\n",
       "    }\n",
       "</style>\n",
       "<table border=\"1\" class=\"dataframe\">\n",
       "  <thead>\n",
       "    <tr style=\"text-align: right;\">\n",
       "      <th>casualty_severity</th>\n",
       "      <th>Serious</th>\n",
       "      <th>Slight</th>\n",
       "    </tr>\n",
       "    <tr>\n",
       "      <th>casualty_class</th>\n",
       "      <th></th>\n",
       "      <th></th>\n",
       "    </tr>\n",
       "  </thead>\n",
       "  <tbody>\n",
       "    <tr>\n",
       "      <th>Driver or rider</th>\n",
       "      <td>18.839687</td>\n",
       "      <td>52.196496</td>\n",
       "    </tr>\n",
       "    <tr>\n",
       "      <th>Passenger</th>\n",
       "      <td>3.239722</td>\n",
       "      <td>10.608328</td>\n",
       "    </tr>\n",
       "    <tr>\n",
       "      <th>Pedestrian</th>\n",
       "      <td>5.968835</td>\n",
       "      <td>9.146932</td>\n",
       "    </tr>\n",
       "  </tbody>\n",
       "</table>\n",
       "</div>"
      ],
      "text/plain": [
       "casualty_severity    Serious     Slight\n",
       "casualty_class                         \n",
       "Driver or rider    18.839687  52.196496\n",
       "Passenger           3.239722  10.608328\n",
       "Pedestrian          5.968835   9.146932"
      ]
     },
     "execution_count": 9,
     "metadata": {},
     "output_type": "execute_result"
    }
   ],
   "source": [
    "table = pd.pivot_table(train, index=['casualty_class'], columns='casualty_severity', values='accident_index', aggfunc=len)\n",
    "table / train.shape[0]*100"
   ]
  },
  {
   "cell_type": "markdown",
   "metadata": {},
   "source": [
    "There area a tonne of casualty types that I think we could combine. Some of these categories make up for such a small proportion of the data."
   ]
  },
  {
   "cell_type": "code",
   "execution_count": 10,
   "metadata": {},
   "outputs": [
    {
     "name": "stdout",
     "output_type": "stream",
     "text": [
      "casualty_severity                                   Serious  Slight\n",
      "casualty_type                                                      \n",
      "Agricultural vehicle occupant                          0.04    0.10\n",
      "Bus or coach occupant (17 or more pass seats)          0.34    1.29\n",
      "Car occupant                                          13.68   48.96\n",
      "Cyclist                                                2.88    5.44\n",
      "Electric motorcycle rider or passenger                 0.11    0.04\n",
      "Goods vehicle (7.5 tonnes mgw and over) occupant       0.10    0.28\n",
      "Goods vehicle (over 3.5t. and under 7.5t.) occu...     0.04    0.07\n",
      "Goods vehicle (unknown weight) occupant                0.12    0.31\n",
      "Horse rider                                            0.02    0.06\n",
      "Minibus (8 - 16 passenger seats) occupant              0.01    0.15\n",
      "Mobility scooter rider                                 0.10    0.20\n",
      "Motorcycle - unknown cc rider or passenger             0.63    0.48\n",
      "Motorcycle 125cc and under rider or passenger          1.31    1.43\n",
      "Motorcycle 50cc and under rider or passenger           0.18    0.25\n",
      "Motorcycle over 125cc and up to 500cc rider or ...     0.18    0.19\n",
      "Motorcycle over 500cc rider or passenger               1.17    0.93\n",
      "Other vehicle occupant                                 0.32    0.44\n",
      "Pedestrian                                             5.97    9.15\n",
      "Taxi/Private hire car occupant                         0.09    0.31\n",
      "Tram occupant                                           NaN    0.06\n",
      "Van / Goods vehicle (3.5 tonnes mgw or under) o...     0.75    1.82\n",
      "casualty_type\n",
      "Car occupant                                                 0.626376\n",
      "Pedestrian                                                   0.151158\n",
      "Cyclist                                                      0.083194\n",
      "Motorcycle 125cc and under rider or passenger                0.027467\n",
      "Van / Goods vehicle (3.5 tonnes mgw or under) occupant       0.025706\n",
      "Motorcycle over 500cc rider or passenger                     0.021041\n",
      "Bus or coach occupant (17 or more pass seats)                0.016287\n",
      "Motorcycle - unknown cc rider or passenger                   0.011093\n",
      "Other vehicle occupant                                       0.007571\n",
      "Motorcycle 50cc and under rider or passenger                 0.004314\n",
      "Goods vehicle (unknown weight) occupant                      0.004314\n",
      "Taxi/Private hire car occupant                               0.003962\n",
      "Goods vehicle (7.5 tonnes mgw and over) occupant             0.003786\n",
      "Motorcycle over 125cc and up to 500cc rider or  passenger    0.003698\n",
      "Mobility scooter rider                                       0.002993\n",
      "Minibus (8 - 16 passenger seats) occupant                    0.001585\n",
      "Electric motorcycle rider or passenger                       0.001497\n",
      "Agricultural vehicle occupant                                0.001409\n",
      "Goods vehicle (over 3.5t. and under 7.5t.) occupant          0.001144\n",
      "Horse rider                                                  0.000792\n",
      "Tram occupant                                                0.000616\n",
      "Name: proportion, dtype: float64\n"
     ]
    }
   ],
   "source": [
    "table = pd.pivot_table(train, index=['casualty_type'], columns='casualty_severity', values='accident_index', aggfunc=len)\n",
    "print(np.round(table / train.shape[0]*100, 2))\n",
    "print(train['casualty_type'].value_counts(normalize=True))"
   ]
  },
  {
   "cell_type": "markdown",
   "metadata": {},
   "source": [
    "Interesting that most serious collisions have 1 casualty - I wonder if this is due to a vehicle hitting a cyclist / motorcyclist / pedestrian. Can we emphasise this somehow?"
   ]
  },
  {
   "cell_type": "code",
   "execution_count": 11,
   "metadata": {},
   "outputs": [
    {
     "data": {
      "text/html": [
       "<div>\n",
       "<style scoped>\n",
       "    .dataframe tbody tr th:only-of-type {\n",
       "        vertical-align: middle;\n",
       "    }\n",
       "\n",
       "    .dataframe tbody tr th {\n",
       "        vertical-align: top;\n",
       "    }\n",
       "\n",
       "    .dataframe thead th {\n",
       "        text-align: right;\n",
       "    }\n",
       "</style>\n",
       "<table border=\"1\" class=\"dataframe\">\n",
       "  <thead>\n",
       "    <tr style=\"text-align: right;\">\n",
       "      <th>casualty_severity</th>\n",
       "      <th>Serious</th>\n",
       "      <th>Slight</th>\n",
       "    </tr>\n",
       "    <tr>\n",
       "      <th>number_of_casualties</th>\n",
       "      <th></th>\n",
       "      <th></th>\n",
       "    </tr>\n",
       "  </thead>\n",
       "  <tbody>\n",
       "    <tr>\n",
       "      <th>1</th>\n",
       "      <td>17.90</td>\n",
       "      <td>40.56</td>\n",
       "    </tr>\n",
       "    <tr>\n",
       "      <th>2</th>\n",
       "      <td>5.70</td>\n",
       "      <td>18.14</td>\n",
       "    </tr>\n",
       "    <tr>\n",
       "      <th>3</th>\n",
       "      <td>2.11</td>\n",
       "      <td>7.26</td>\n",
       "    </tr>\n",
       "    <tr>\n",
       "      <th>4</th>\n",
       "      <td>1.30</td>\n",
       "      <td>2.96</td>\n",
       "    </tr>\n",
       "    <tr>\n",
       "      <th>5</th>\n",
       "      <td>0.75</td>\n",
       "      <td>1.50</td>\n",
       "    </tr>\n",
       "    <tr>\n",
       "      <th>6</th>\n",
       "      <td>0.16</td>\n",
       "      <td>0.79</td>\n",
       "    </tr>\n",
       "    <tr>\n",
       "      <th>7</th>\n",
       "      <td>0.12</td>\n",
       "      <td>0.18</td>\n",
       "    </tr>\n",
       "    <tr>\n",
       "      <th>8</th>\n",
       "      <td>NaN</td>\n",
       "      <td>0.14</td>\n",
       "    </tr>\n",
       "    <tr>\n",
       "      <th>9</th>\n",
       "      <td>NaN</td>\n",
       "      <td>0.16</td>\n",
       "    </tr>\n",
       "    <tr>\n",
       "      <th>13</th>\n",
       "      <td>NaN</td>\n",
       "      <td>0.11</td>\n",
       "    </tr>\n",
       "    <tr>\n",
       "      <th>17</th>\n",
       "      <td>NaN</td>\n",
       "      <td>0.15</td>\n",
       "    </tr>\n",
       "  </tbody>\n",
       "</table>\n",
       "</div>"
      ],
      "text/plain": [
       "casualty_severity     Serious  Slight\n",
       "number_of_casualties                 \n",
       "1                       17.90   40.56\n",
       "2                        5.70   18.14\n",
       "3                        2.11    7.26\n",
       "4                        1.30    2.96\n",
       "5                        0.75    1.50\n",
       "6                        0.16    0.79\n",
       "7                        0.12    0.18\n",
       "8                         NaN    0.14\n",
       "9                         NaN    0.16\n",
       "13                        NaN    0.11\n",
       "17                        NaN    0.15"
      ]
     },
     "execution_count": 11,
     "metadata": {},
     "output_type": "execute_result"
    }
   ],
   "source": [
    "table = pd.pivot_table(train, index=['number_of_casualties'], columns='casualty_severity', values='accident_index', aggfunc=len)\n",
    "np.round(table / train.shape[0]*100, 2)"
   ]
  },
  {
   "cell_type": "markdown",
   "metadata": {},
   "source": [
    "Multi-vehicle collisions (3+) seem to make up a small amount of the data. Let's consider combining these multi-vehicle incidents into one category. We should likely do this for high casualty incidents too."
   ]
  },
  {
   "cell_type": "code",
   "execution_count": 12,
   "metadata": {},
   "outputs": [
    {
     "data": {
      "text/html": [
       "<div>\n",
       "<style scoped>\n",
       "    .dataframe tbody tr th:only-of-type {\n",
       "        vertical-align: middle;\n",
       "    }\n",
       "\n",
       "    .dataframe tbody tr th {\n",
       "        vertical-align: top;\n",
       "    }\n",
       "\n",
       "    .dataframe thead th {\n",
       "        text-align: right;\n",
       "    }\n",
       "</style>\n",
       "<table border=\"1\" class=\"dataframe\">\n",
       "  <thead>\n",
       "    <tr style=\"text-align: right;\">\n",
       "      <th>casualty_severity</th>\n",
       "      <th>Serious</th>\n",
       "      <th>Slight</th>\n",
       "    </tr>\n",
       "    <tr>\n",
       "      <th>number_of_vehicles</th>\n",
       "      <th></th>\n",
       "      <th></th>\n",
       "    </tr>\n",
       "  </thead>\n",
       "  <tbody>\n",
       "    <tr>\n",
       "      <th>1</th>\n",
       "      <td>9.66</td>\n",
       "      <td>14.52</td>\n",
       "    </tr>\n",
       "    <tr>\n",
       "      <th>2</th>\n",
       "      <td>15.05</td>\n",
       "      <td>47.35</td>\n",
       "    </tr>\n",
       "    <tr>\n",
       "      <th>3</th>\n",
       "      <td>2.30</td>\n",
       "      <td>7.47</td>\n",
       "    </tr>\n",
       "    <tr>\n",
       "      <th>4</th>\n",
       "      <td>0.71</td>\n",
       "      <td>1.76</td>\n",
       "    </tr>\n",
       "    <tr>\n",
       "      <th>5</th>\n",
       "      <td>0.22</td>\n",
       "      <td>0.46</td>\n",
       "    </tr>\n",
       "    <tr>\n",
       "      <th>6</th>\n",
       "      <td>0.11</td>\n",
       "      <td>0.27</td>\n",
       "    </tr>\n",
       "    <tr>\n",
       "      <th>7</th>\n",
       "      <td>0.01</td>\n",
       "      <td>0.06</td>\n",
       "    </tr>\n",
       "    <tr>\n",
       "      <th>8</th>\n",
       "      <td>NaN</td>\n",
       "      <td>0.07</td>\n",
       "    </tr>\n",
       "  </tbody>\n",
       "</table>\n",
       "</div>"
      ],
      "text/plain": [
       "casualty_severity   Serious  Slight\n",
       "number_of_vehicles                 \n",
       "1                      9.66   14.52\n",
       "2                     15.05   47.35\n",
       "3                      2.30    7.47\n",
       "4                      0.71    1.76\n",
       "5                      0.22    0.46\n",
       "6                      0.11    0.27\n",
       "7                      0.01    0.06\n",
       "8                       NaN    0.07"
      ]
     },
     "execution_count": 12,
     "metadata": {},
     "output_type": "execute_result"
    }
   ],
   "source": [
    "table = pd.pivot_table(train, index=['number_of_vehicles'], columns='casualty_severity', values='accident_index', aggfunc=len)\n",
    "np.round(table / train.shape[0]*100, 2)"
   ]
  },
  {
   "cell_type": "markdown",
   "metadata": {},
   "source": [
    "We have a couple of features about pedestrians that are dominated (>80%) by not being an entry containing a pedestrian. "
   ]
  },
  {
   "cell_type": "code",
   "execution_count": 13,
   "metadata": {},
   "outputs": [
    {
     "data": {
      "text/plain": [
       "pedestrian_location\n",
       "Not a Pedestrian                                                           0.848842\n",
       "In carriageway, crossing elsewhere                                         0.063650\n",
       "In carriageway, not crossing                                               0.019280\n",
       "Crossing on pedestrian crossing facility                                   0.018664\n",
       "Unknown or other                                                           0.018488\n",
       "On footway or verge                                                        0.015582\n",
       "In centre of carriageway - not on refuge, island or central reservation    0.009772\n",
       "Crossing elsewhere within 50m. of pedestrian crossing                      0.004226\n",
       "On refuge, central island or central reservation                           0.001321\n",
       "Crossing in zig-zag approach lines                                         0.000176\n",
       "Name: proportion, dtype: float64"
      ]
     },
     "execution_count": 13,
     "metadata": {},
     "output_type": "execute_result"
    }
   ],
   "source": [
    "train.pedestrian_location.value_counts(normalize=True)"
   ]
  },
  {
   "cell_type": "code",
   "execution_count": 14,
   "metadata": {},
   "outputs": [
    {
     "data": {
      "text/plain": [
       "pedestrian_movement\n",
       "Not a Pedestrian                                                                                             0.848842\n",
       "Unknown or other                                                                                             0.070165\n",
       "Crossing from driver's nearside                                                                              0.037151\n",
       "Crossing from driver's offside                                                                               0.019984\n",
       "In carriageway, stationary - not crossing  (standing or playing)                                             0.010564\n",
       "Walking along in carriageway, facing traffic                                                                 0.003433\n",
       "Crossing from nearside - masked by parked or stationary vehicle                                              0.003169\n",
       "Walking along in carriageway, back to traffic                                                                0.002641\n",
       "Crossing from offside - masked by  parked or stationary vehicle                                              0.002289\n",
       "In carriageway, stationary - not crossing  (standing or playing) - masked by parked or stationary vehicle    0.001761\n",
       "Name: proportion, dtype: float64"
      ]
     },
     "execution_count": 14,
     "metadata": {},
     "output_type": "execute_result"
    }
   ],
   "source": [
    "train.pedestrian_movement.value_counts(normalize=True)"
   ]
  },
  {
   "cell_type": "markdown",
   "metadata": {},
   "source": [
    "Maybe car_passenger can be combined with the casualty_type data."
   ]
  },
  {
   "cell_type": "code",
   "execution_count": 15,
   "metadata": {},
   "outputs": [
    {
     "data": {
      "text/plain": [
       "car_passenger\n",
       "Not car passenger       0.886170\n",
       "Front seat passenger    0.077472\n",
       "Rear seat passenger     0.036359\n",
       "Name: proportion, dtype: float64"
      ]
     },
     "execution_count": 15,
     "metadata": {},
     "output_type": "execute_result"
    }
   ],
   "source": [
    "train.car_passenger.value_counts(normalize=True)"
   ]
  },
  {
   "cell_type": "markdown",
   "metadata": {},
   "source": [
    "bus_or_coach_passenger is unlikely to give us much information gain, we can probably drop this."
   ]
  },
  {
   "cell_type": "code",
   "execution_count": 16,
   "metadata": {},
   "outputs": [
    {
     "data": {
      "text/plain": [
       "bus_or_coach_passenger\n",
       "Not a bus or coach passenger    0.988115\n",
       "Seated passenger                0.007395\n",
       "Standing passenger              0.002641\n",
       "Boarding                        0.000968\n",
       "Alighting                       0.000880\n",
       "Name: proportion, dtype: float64"
      ]
     },
     "execution_count": 16,
     "metadata": {},
     "output_type": "execute_result"
    }
   ],
   "source": [
    "train.bus_or_coach_passenger.value_counts(normalize=True)"
   ]
  },
  {
   "cell_type": "markdown",
   "metadata": {},
   "source": [
    "Same again."
   ]
  },
  {
   "cell_type": "code",
   "execution_count": 17,
   "metadata": {},
   "outputs": [
    {
     "data": {
      "text/plain": [
       "pedestrian_road_maintenance_worker\n",
       "No / Not applicable    0.987323\n",
       "Not Known              0.011973\n",
       "Yes                    0.000704\n",
       "Name: proportion, dtype: float64"
      ]
     },
     "execution_count": 17,
     "metadata": {},
     "output_type": "execute_result"
    }
   ],
   "source": [
    "train.pedestrian_road_maintenance_worker.value_counts(normalize=True)"
   ]
  },
  {
   "cell_type": "markdown",
   "metadata": {},
   "source": [
    "* Casualty_type and casualty_class could be combined for more granular information abou the casualties.\n",
    "\n",
    "* The most fatal accidents occur (almost twice that of other categories) when there is a single car and a single casualty. Is this when a car is hitting a pedestrian/cyclist? Is it the driver of a single occupancy vehicle hitting a stationary object? We could potentially engineer a feature to encapsulate the nature of these single casualty/single vehicle incidents.\n",
    "\n",
    "* The most serious injuries occur when 2 vehicles are involved, likely because this is just the most common type of collision.\n",
    "\n",
    "* Age and gender of the casualties are clearly quite relevant to the frequency/outcome of crashes. Age_band is probably preferable to the continuous age feature.\n"
   ]
  },
  {
   "cell_type": "markdown",
   "metadata": {},
   "source": [
    "### When do the most severe accidents occur?"
   ]
  },
  {
   "cell_type": "markdown",
   "metadata": {},
   "source": [
    "Fridays are a bad day to be on the road! Fewer collisions occur on sunday, as you might expect. Could reduce to weekday versus weekend (friday evenings counted as weekend?)"
   ]
  },
  {
   "cell_type": "code",
   "execution_count": 18,
   "metadata": {},
   "outputs": [
    {
     "data": {
      "text/plain": [
       "<seaborn.axisgrid.FacetGrid at 0x1f4e6411430>"
      ]
     },
     "execution_count": 18,
     "metadata": {},
     "output_type": "execute_result"
    },
    {
     "data": {
      "image/png": "[encoded data removed]",
      "text/plain": [
       "<Figure size 600x300 with 2 Axes>"
      ]
     },
     "metadata": {},
     "output_type": "display_data"
    }
   ],
   "source": [
    "g = sns.FacetGrid(train, col='casualty_severity', sharey=True)\n",
    "g.map(sns.countplot, 'day_of_week', order = ['Monday', 'Tuesday', 'Wednesday', 'Thursday', 'Friday', 'Saturday', 'Sunday'], palette='rocket', data=train)\n",
    "g.set_xticklabels(['M', 'T', 'W', 'T', 'F', 'S', 'S'])\n",
    "g.set_titles('{col_name}')\n"
   ]
  },
  {
   "cell_type": "markdown",
   "metadata": {},
   "source": [
    "## Need to convert some stuff ot look at time of day"
   ]
  },
  {
   "cell_type": "markdown",
   "metadata": {},
   "source": [
    "Rush hours clearly have a notable impact on the number of collisions. Maybe engineer a rush hour feature? Also a daytime vs. nighttime?\n"
   ]
  },
  {
   "cell_type": "code",
   "execution_count": null,
   "metadata": {},
   "outputs": [],
   "source": [
    "train['time'] = pd.to_datetime(train['time'], format='%H:%M').dt.hour"
   ]
  },
  {
   "cell_type": "code",
   "execution_count": null,
   "metadata": {},
   "outputs": [
    {
     "name": "stderr",
     "output_type": "stream",
     "text": [
      "c:\\Users\\Elena\\.conda\\envs\\DfT_project_env\\Lib\\site-packages\\seaborn\\axisgrid.py:718: UserWarning: Using the countplot function without specifying `order` is likely to produce an incorrect plot.\n",
      "  warnings.warn(warning)\n"
     ]
    },
    {
     "data": {
      "text/plain": [
       "<seaborn.axisgrid.FacetGrid at 0x1f4efd7d520>"
      ]
     },
     "execution_count": 42,
     "metadata": {},
     "output_type": "execute_result"
    },
    {
     "data": {
      "image/png": "[encoded data removed]",
      "text/plain": [
       "<Figure size 2100x600 with 14 Axes>"
      ]
     },
     "metadata": {},
     "output_type": "display_data"
    }
   ],
   "source": [
    "\n",
    "g = sns.FacetGrid(train, row='casualty_severity', col='day_of_week', col_order = ['Monday', 'Tuesday', 'Wednesday', 'Thursday', 'Friday', 'Saturday', 'Sunday'], sharey=True)\n",
    "g.map(sns.countplot, 'time', palette='rocket')\n",
    "g.set_titles('{col_name}')\n",
    "g.set_xlabels('Hour of day')"
   ]
  },
  {
   "cell_type": "markdown",
   "metadata": {},
   "source": [
    "COVID atleast reduced the number of road traffic collisions!"
   ]
  },
  {
   "cell_type": "code",
   "execution_count": 20,
   "metadata": {},
   "outputs": [
    {
     "data": {
      "text/plain": [
       "<Axes: xlabel='accident_year', ylabel='month'>"
      ]
     },
     "execution_count": 20,
     "metadata": {},
     "output_type": "execute_result"
    },
    {
     "data": {
      "image/png": "[encoded data removed]",
      "text/plain": [
       "<Figure size 1500x700 with 2 Axes>"
      ]
     },
     "metadata": {},
     "output_type": "display_data"
    }
   ],
   "source": [
    "train['month'] = pd.to_datetime(train.date, format ='%d/%m/%Y').dt.month\n",
    "\n",
    "table = pd.pivot_table(train, values='accident_index', index='month', columns='accident_year', aggfunc=len)\n",
    "plt.figure(figsize=(15,7))\n",
    "sns.set(rc={\"axes.labelsize\":18},font_scale=1)\n",
    "sns.heatmap(table,linewidths=.1,annot=False,cmap='rocket_r')"
   ]
  },
  {
   "cell_type": "markdown",
   "metadata": {},
   "source": [
    "### Where do the accidents occur, and where are they most severe?"
   ]
  },
  {
   "cell_type": "code",
   "execution_count": 21,
   "metadata": {},
   "outputs": [
    {
     "data": {
      "text/html": [
       "<div>\n",
       "<style scoped>\n",
       "    .dataframe tbody tr th:only-of-type {\n",
       "        vertical-align: middle;\n",
       "    }\n",
       "\n",
       "    .dataframe tbody tr th {\n",
       "        vertical-align: top;\n",
       "    }\n",
       "\n",
       "    .dataframe thead th {\n",
       "        text-align: right;\n",
       "    }\n",
       "</style>\n",
       "<table border=\"1\" class=\"dataframe\">\n",
       "  <thead>\n",
       "    <tr style=\"text-align: right;\">\n",
       "      <th>casualty_severity</th>\n",
       "      <th>Serious</th>\n",
       "      <th>Slight</th>\n",
       "    </tr>\n",
       "    <tr>\n",
       "      <th>local_authority_district</th>\n",
       "      <th></th>\n",
       "      <th></th>\n",
       "    </tr>\n",
       "  </thead>\n",
       "  <tbody>\n",
       "    <tr>\n",
       "      <th>Barnsley</th>\n",
       "      <td>4.9</td>\n",
       "      <td>12.2</td>\n",
       "    </tr>\n",
       "    <tr>\n",
       "      <th>Doncaster</th>\n",
       "      <td>7.4</td>\n",
       "      <td>20.3</td>\n",
       "    </tr>\n",
       "    <tr>\n",
       "      <th>Rotherham</th>\n",
       "      <td>5.3</td>\n",
       "      <td>13.3</td>\n",
       "    </tr>\n",
       "    <tr>\n",
       "      <th>Sheffield</th>\n",
       "      <td>10.4</td>\n",
       "      <td>26.2</td>\n",
       "    </tr>\n",
       "  </tbody>\n",
       "</table>\n",
       "</div>"
      ],
      "text/plain": [
       "casualty_severity         Serious  Slight\n",
       "local_authority_district                 \n",
       "Barnsley                      4.9    12.2\n",
       "Doncaster                     7.4    20.3\n",
       "Rotherham                     5.3    13.3\n",
       "Sheffield                    10.4    26.2"
      ]
     },
     "execution_count": 21,
     "metadata": {},
     "output_type": "execute_result"
    }
   ],
   "source": [
    "district_data = train.groupby(['local_authority_district', 'casualty_severity']).size().reset_index().pivot(columns='casualty_severity', index='local_authority_district', values=0) / train.shape[0]*100\n",
    "np.round(district_data, 1)"
   ]
  },
  {
   "cell_type": "markdown",
   "metadata": {},
   "source": [
    "Sheffield has the most collisions, presumably due to a greater volume of traffic. The trend of Sheffield > Doncaster > Rotherham > Barnsley holds true for both serious and slight incidents. Doesn't seem to be much info here."
   ]
  },
  {
   "cell_type": "code",
   "execution_count": 22,
   "metadata": {},
   "outputs": [
    {
     "name": "stderr",
     "output_type": "stream",
     "text": [
      "c:\\Users\\Elena\\.conda\\envs\\DfT_project_env\\Lib\\site-packages\\seaborn\\axisgrid.py:718: UserWarning: Using the countplot function without specifying `order` is likely to produce an incorrect plot.\n",
      "  warnings.warn(warning)\n"
     ]
    },
    {
     "data": {
      "image/png": "[encoded data removed]",
      "text/plain": [
       "<Figure size 800x400 with 2 Axes>"
      ]
     },
     "metadata": {},
     "output_type": "display_data"
    }
   ],
   "source": [
    "sns.set_style('white')\n",
    "g = sns.FacetGrid(train, col='casualty_severity', sharey=True, height=4, aspect=1)\n",
    "g.map(sns.countplot, 'local_authority_district', palette='rocket', hue='local_authority_district', data=train)\n",
    "g.set_titles('{col_name}')\n",
    "g.set_ylabels('')\n",
    "labels = ['Doncaster', 'Sheffield', 'Rotherham', 'Barnsley']"
   ]
  },
  {
   "cell_type": "markdown",
   "metadata": {},
   "source": [
    "Local_authority_highway is duplicated information in local_authority_district, so we can drop."
   ]
  },
  {
   "cell_type": "code",
   "execution_count": 23,
   "metadata": {},
   "outputs": [
    {
     "data": {
      "text/html": [
       "<div>\n",
       "<style scoped>\n",
       "    .dataframe tbody tr th:only-of-type {\n",
       "        vertical-align: middle;\n",
       "    }\n",
       "\n",
       "    .dataframe tbody tr th {\n",
       "        vertical-align: top;\n",
       "    }\n",
       "\n",
       "    .dataframe thead th {\n",
       "        text-align: right;\n",
       "    }\n",
       "</style>\n",
       "<table border=\"1\" class=\"dataframe\">\n",
       "  <thead>\n",
       "    <tr style=\"text-align: right;\">\n",
       "      <th>casualty_severity</th>\n",
       "      <th>Serious</th>\n",
       "      <th>Slight</th>\n",
       "    </tr>\n",
       "    <tr>\n",
       "      <th>local_authority_highway</th>\n",
       "      <th></th>\n",
       "      <th></th>\n",
       "    </tr>\n",
       "  </thead>\n",
       "  <tbody>\n",
       "    <tr>\n",
       "      <th>E08000016</th>\n",
       "      <td>4.9</td>\n",
       "      <td>12.2</td>\n",
       "    </tr>\n",
       "    <tr>\n",
       "      <th>E08000017</th>\n",
       "      <td>7.4</td>\n",
       "      <td>20.3</td>\n",
       "    </tr>\n",
       "    <tr>\n",
       "      <th>E08000018</th>\n",
       "      <td>5.3</td>\n",
       "      <td>13.3</td>\n",
       "    </tr>\n",
       "    <tr>\n",
       "      <th>E08000019</th>\n",
       "      <td>10.4</td>\n",
       "      <td>26.2</td>\n",
       "    </tr>\n",
       "  </tbody>\n",
       "</table>\n",
       "</div>"
      ],
      "text/plain": [
       "casualty_severity        Serious  Slight\n",
       "local_authority_highway                 \n",
       "E08000016                    4.9    12.2\n",
       "E08000017                    7.4    20.3\n",
       "E08000018                    5.3    13.3\n",
       "E08000019                   10.4    26.2"
      ]
     },
     "execution_count": 23,
     "metadata": {},
     "output_type": "execute_result"
    }
   ],
   "source": [
    "district_data = train.groupby(['local_authority_highway', 'casualty_severity']).size().reset_index().pivot(columns='casualty_severity', index='local_authority_highway', values=0) / train.shape[0]*100\n",
    "np.round(district_data, 1)"
   ]
  },
  {
   "cell_type": "code",
   "execution_count": 24,
   "metadata": {},
   "outputs": [
    {
     "name": "stderr",
     "output_type": "stream",
     "text": [
      "c:\\Users\\Elena\\.conda\\envs\\DfT_project_env\\Lib\\site-packages\\seaborn\\axisgrid.py:718: UserWarning: Using the countplot function without specifying `order` is likely to produce an incorrect plot.\n",
      "  warnings.warn(warning)\n"
     ]
    },
    {
     "data": {
      "text/plain": [
       "<seaborn.axisgrid.FacetGrid at 0x1f4ea241130>"
      ]
     },
     "execution_count": 24,
     "metadata": {},
     "output_type": "execute_result"
    },
    {
     "data": {
      "image/png": "[encoded data removed]",
      "text/plain": [
       "<Figure size 600x300 with 2 Axes>"
      ]
     },
     "metadata": {},
     "output_type": "display_data"
    }
   ],
   "source": [
    "sns.set_style('white')\n",
    "g = sns.FacetGrid(train, col='casualty_severity', sharey=True)\n",
    "g.map(sns.countplot, 'speed_limit', palette='rocket')\n",
    "g.set_titles('{col_name}')"
   ]
  },
  {
   "cell_type": "code",
   "execution_count": 25,
   "metadata": {},
   "outputs": [
    {
     "data": {
      "text/html": [
       "<div>\n",
       "<style scoped>\n",
       "    .dataframe tbody tr th:only-of-type {\n",
       "        vertical-align: middle;\n",
       "    }\n",
       "\n",
       "    .dataframe tbody tr th {\n",
       "        vertical-align: top;\n",
       "    }\n",
       "\n",
       "    .dataframe thead th {\n",
       "        text-align: right;\n",
       "    }\n",
       "</style>\n",
       "<table border=\"1\" class=\"dataframe\">\n",
       "  <thead>\n",
       "    <tr style=\"text-align: right;\">\n",
       "      <th>casualty_severity</th>\n",
       "      <th>Serious</th>\n",
       "      <th>Slight</th>\n",
       "    </tr>\n",
       "    <tr>\n",
       "      <th>urban_or_rural_area</th>\n",
       "      <th></th>\n",
       "      <th></th>\n",
       "    </tr>\n",
       "  </thead>\n",
       "  <tbody>\n",
       "    <tr>\n",
       "      <th>Rural</th>\n",
       "      <td>9.22</td>\n",
       "      <td>21.74</td>\n",
       "    </tr>\n",
       "    <tr>\n",
       "      <th>Urban</th>\n",
       "      <td>18.83</td>\n",
       "      <td>50.22</td>\n",
       "    </tr>\n",
       "  </tbody>\n",
       "</table>\n",
       "</div>"
      ],
      "text/plain": [
       "casualty_severity    Serious  Slight\n",
       "urban_or_rural_area                 \n",
       "Rural                   9.22   21.74\n",
       "Urban                  18.83   50.22"
      ]
     },
     "execution_count": 25,
     "metadata": {},
     "output_type": "execute_result"
    }
   ],
   "source": [
    "np.round(train.groupby(['urban_or_rural_area', 'casualty_severity']).size().reset_index().pivot(columns='casualty_severity', index='urban_or_rural_area', values=0) / train.shape[0]*100, 2)\n"
   ]
  },
  {
   "cell_type": "code",
   "execution_count": 26,
   "metadata": {},
   "outputs": [
    {
     "data": {
      "text/plain": [
       "trunk_road_flag\n",
       "Non-trunk                                    0.920063\n",
       "Trunk (Roads managed by Highways England)    0.079937\n",
       "Name: proportion, dtype: float64"
      ]
     },
     "execution_count": 26,
     "metadata": {},
     "output_type": "execute_result"
    }
   ],
   "source": [
    "train.trunk_road_flag.value_counts(normalize=True)"
   ]
  },
  {
   "cell_type": "code",
   "execution_count": 27,
   "metadata": {},
   "outputs": [
    {
     "data": {
      "text/plain": [
       "first_road_class\n",
       "Unclassified    0.432873\n",
       "A               0.367990\n",
       "B               0.127828\n",
       "Motorway        0.051149\n",
       "A(M)            0.014438\n",
       "C               0.005722\n",
       "Name: proportion, dtype: float64"
      ]
     },
     "execution_count": 27,
     "metadata": {},
     "output_type": "execute_result"
    }
   ],
   "source": [
    "train.first_road_class.value_counts(normalize=True)"
   ]
  },
  {
   "cell_type": "code",
   "execution_count": 28,
   "metadata": {},
   "outputs": [
    {
     "data": {
      "text/plain": [
       "second_road_class\n",
       "Not at junction or within 20 metres    0.472753\n",
       "Unclassified                           0.388679\n",
       "A                                      0.086627\n",
       "B                                      0.044546\n",
       "C                                      0.004666\n",
       "Motorway                               0.002025\n",
       "A(M)                                   0.000704\n",
       "Name: proportion, dtype: float64"
      ]
     },
     "execution_count": 28,
     "metadata": {},
     "output_type": "execute_result"
    }
   ],
   "source": [
    "train.second_road_class.value_counts(normalize=True)\n"
   ]
  },
  {
   "cell_type": "code",
   "execution_count": 29,
   "metadata": {},
   "outputs": [
    {
     "data": {
      "text/plain": [
       "road_type\n",
       "Single carriageway    0.741086\n",
       "Dual carriageway      0.190862\n",
       "Roundabout            0.046747\n",
       "Slip road             0.017607\n",
       "One way street        0.003698\n",
       "Name: proportion, dtype: float64"
      ]
     },
     "execution_count": 29,
     "metadata": {},
     "output_type": "execute_result"
    }
   ],
   "source": [
    "train.road_type.value_counts(normalize=True)\n"
   ]
  },
  {
   "cell_type": "code",
   "execution_count": 30,
   "metadata": {},
   "outputs": [
    {
     "data": {
      "text/plain": [
       "junction_detail\n",
       "Not at junction or within 20 metres    0.472841\n",
       "T or staggered junction                0.227661\n",
       "Crossroads                             0.114799\n",
       "Other junction                         0.085835\n",
       "Roundabout                             0.060217\n",
       "More than 4 arms (not roundabout)      0.016111\n",
       "Private drive or entrance              0.008628\n",
       "Slip road                              0.007659\n",
       "Mini-roundabout                        0.006251\n",
       "Name: proportion, dtype: float64"
      ]
     },
     "execution_count": 30,
     "metadata": {},
     "output_type": "execute_result"
    }
   ],
   "source": [
    "train.junction_detail.value_counts(normalize=True)\n"
   ]
  },
  {
   "cell_type": "markdown",
   "metadata": {},
   "source": [
    "* Over 90 % of the trunk road flag information is unclassified, so we can likely drop this column.\n",
    "* Road_type and junction_detail contain very similar information. Speed_limit likely encapsulates similar data as the road_type, seeing as the road type determines the speed limit of a road. This also applies to the *road_class columns (first_ and second_). Junction_detail might be interesting, but we likely want to reduce the number of categories as some are quite infrequent."
   ]
  },
  {
   "cell_type": "markdown",
   "metadata": {},
   "source": [
    "### What are the road conditions when crashes occur?"
   ]
  },
  {
   "cell_type": "code",
   "execution_count": 31,
   "metadata": {},
   "outputs": [
    {
     "name": "stdout",
     "output_type": "stream",
     "text": [
      "light_conditions\n",
      "Daylight                       7773\n",
      "Darkness - lights lit          2697\n",
      "Darkness - no lighting          605\n",
      "Darkness - lighting unknown     178\n",
      "Darkness - lights unlit         106\n",
      "Name: count, dtype: int64\n"
     ]
    },
    {
     "data": {
      "text/html": [
       "<div>\n",
       "<style scoped>\n",
       "    .dataframe tbody tr th:only-of-type {\n",
       "        vertical-align: middle;\n",
       "    }\n",
       "\n",
       "    .dataframe tbody tr th {\n",
       "        vertical-align: top;\n",
       "    }\n",
       "\n",
       "    .dataframe thead th {\n",
       "        text-align: right;\n",
       "    }\n",
       "</style>\n",
       "<table border=\"1\" class=\"dataframe\">\n",
       "  <thead>\n",
       "    <tr style=\"text-align: right;\">\n",
       "      <th>casualty_severity</th>\n",
       "      <th>Serious</th>\n",
       "      <th>Slight</th>\n",
       "    </tr>\n",
       "    <tr>\n",
       "      <th>light_conditions</th>\n",
       "      <th></th>\n",
       "      <th></th>\n",
       "    </tr>\n",
       "  </thead>\n",
       "  <tbody>\n",
       "    <tr>\n",
       "      <th>Darkness - lighting unknown</th>\n",
       "      <td>0.55</td>\n",
       "      <td>1.01</td>\n",
       "    </tr>\n",
       "    <tr>\n",
       "      <th>Darkness - lights lit</th>\n",
       "      <td>7.32</td>\n",
       "      <td>16.42</td>\n",
       "    </tr>\n",
       "    <tr>\n",
       "      <th>Darkness - lights unlit</th>\n",
       "      <td>0.19</td>\n",
       "      <td>0.74</td>\n",
       "    </tr>\n",
       "    <tr>\n",
       "      <th>Darkness - no lighting</th>\n",
       "      <td>1.99</td>\n",
       "      <td>3.34</td>\n",
       "    </tr>\n",
       "    <tr>\n",
       "      <th>Daylight</th>\n",
       "      <td>17.99</td>\n",
       "      <td>50.44</td>\n",
       "    </tr>\n",
       "  </tbody>\n",
       "</table>\n",
       "</div>"
      ],
      "text/plain": [
       "casualty_severity            Serious  Slight\n",
       "light_conditions                            \n",
       "Darkness - lighting unknown     0.55    1.01\n",
       "Darkness - lights lit           7.32   16.42\n",
       "Darkness - lights unlit         0.19    0.74\n",
       "Darkness - no lighting          1.99    3.34\n",
       "Daylight                       17.99   50.44"
      ]
     },
     "execution_count": 31,
     "metadata": {},
     "output_type": "execute_result"
    }
   ],
   "source": [
    "print(train.light_conditions.value_counts(dropna=False))\n",
    "np.round(train.groupby(['light_conditions', 'casualty_severity']).size().reset_index().pivot(columns='casualty_severity', index='light_conditions', values=0) / train.shape[0]*100, 2)\n"
   ]
  },
  {
   "cell_type": "code",
   "execution_count": 32,
   "metadata": {},
   "outputs": [
    {
     "name": "stdout",
     "output_type": "stream",
     "text": [
      "weather_conditions\n",
      "Fine no high winds       8964\n",
      "Raining no high winds    1501\n",
      "Other                     388\n",
      "Fine + high winds         211\n",
      "Raining + high winds      163\n",
      "Snowing no high winds      69\n",
      "Fog or mist                51\n",
      "Snowing + high winds       12\n",
      "Name: count, dtype: int64\n"
     ]
    },
    {
     "data": {
      "text/html": [
       "<div>\n",
       "<style scoped>\n",
       "    .dataframe tbody tr th:only-of-type {\n",
       "        vertical-align: middle;\n",
       "    }\n",
       "\n",
       "    .dataframe tbody tr th {\n",
       "        vertical-align: top;\n",
       "    }\n",
       "\n",
       "    .dataframe thead th {\n",
       "        text-align: right;\n",
       "    }\n",
       "</style>\n",
       "<table border=\"1\" class=\"dataframe\">\n",
       "  <thead>\n",
       "    <tr style=\"text-align: right;\">\n",
       "      <th>casualty_severity</th>\n",
       "      <th>Serious</th>\n",
       "      <th>Slight</th>\n",
       "    </tr>\n",
       "    <tr>\n",
       "      <th>weather_conditions</th>\n",
       "      <th></th>\n",
       "      <th></th>\n",
       "    </tr>\n",
       "  </thead>\n",
       "  <tbody>\n",
       "    <tr>\n",
       "      <th>Fine + high winds</th>\n",
       "      <td>0.49</td>\n",
       "      <td>1.36</td>\n",
       "    </tr>\n",
       "    <tr>\n",
       "      <th>Fine no high winds</th>\n",
       "      <td>21.75</td>\n",
       "      <td>57.16</td>\n",
       "    </tr>\n",
       "    <tr>\n",
       "      <th>Fog or mist</th>\n",
       "      <td>0.13</td>\n",
       "      <td>0.32</td>\n",
       "    </tr>\n",
       "    <tr>\n",
       "      <th>Other</th>\n",
       "      <td>1.05</td>\n",
       "      <td>2.37</td>\n",
       "    </tr>\n",
       "    <tr>\n",
       "      <th>Raining + high winds</th>\n",
       "      <td>0.51</td>\n",
       "      <td>0.92</td>\n",
       "    </tr>\n",
       "    <tr>\n",
       "      <th>Raining no high winds</th>\n",
       "      <td>3.87</td>\n",
       "      <td>9.34</td>\n",
       "    </tr>\n",
       "    <tr>\n",
       "      <th>Snowing + high winds</th>\n",
       "      <td>0.05</td>\n",
       "      <td>0.05</td>\n",
       "    </tr>\n",
       "    <tr>\n",
       "      <th>Snowing no high winds</th>\n",
       "      <td>0.18</td>\n",
       "      <td>0.42</td>\n",
       "    </tr>\n",
       "  </tbody>\n",
       "</table>\n",
       "</div>"
      ],
      "text/plain": [
       "casualty_severity      Serious  Slight\n",
       "weather_conditions                    \n",
       "Fine + high winds         0.49    1.36\n",
       "Fine no high winds       21.75   57.16\n",
       "Fog or mist               0.13    0.32\n",
       "Other                     1.05    2.37\n",
       "Raining + high winds      0.51    0.92\n",
       "Raining no high winds     3.87    9.34\n",
       "Snowing + high winds      0.05    0.05\n",
       "Snowing no high winds     0.18    0.42"
      ]
     },
     "execution_count": 32,
     "metadata": {},
     "output_type": "execute_result"
    }
   ],
   "source": [
    "print(train.weather_conditions.value_counts(dropna=False))\n",
    "np.round(train.groupby(['weather_conditions', 'casualty_severity']).size().reset_index().pivot(columns='casualty_severity', index='weather_conditions', values=0) / train.shape[0]*100, 2)"
   ]
  },
  {
   "cell_type": "code",
   "execution_count": 33,
   "metadata": {},
   "outputs": [
    {
     "name": "stdout",
     "output_type": "stream",
     "text": [
      "road_surface_conditions\n",
      "Dry                     7829\n",
      "Wet or damp             3373\n",
      "Frost or ice             106\n",
      "Snow                      44\n",
      "Flood over 3cm. deep       7\n",
      "Name: count, dtype: int64\n"
     ]
    },
    {
     "data": {
      "text/html": [
       "<div>\n",
       "<style scoped>\n",
       "    .dataframe tbody tr th:only-of-type {\n",
       "        vertical-align: middle;\n",
       "    }\n",
       "\n",
       "    .dataframe tbody tr th {\n",
       "        vertical-align: top;\n",
       "    }\n",
       "\n",
       "    .dataframe thead th {\n",
       "        text-align: right;\n",
       "    }\n",
       "</style>\n",
       "<table border=\"1\" class=\"dataframe\">\n",
       "  <thead>\n",
       "    <tr style=\"text-align: right;\">\n",
       "      <th>casualty_severity</th>\n",
       "      <th>Serious</th>\n",
       "      <th>Slight</th>\n",
       "    </tr>\n",
       "    <tr>\n",
       "      <th>road_surface_conditions</th>\n",
       "      <th></th>\n",
       "      <th></th>\n",
       "    </tr>\n",
       "  </thead>\n",
       "  <tbody>\n",
       "    <tr>\n",
       "      <th>Dry</th>\n",
       "      <td>19.10</td>\n",
       "      <td>49.82</td>\n",
       "    </tr>\n",
       "    <tr>\n",
       "      <th>Flood over 3cm. deep</th>\n",
       "      <td>0.02</td>\n",
       "      <td>0.04</td>\n",
       "    </tr>\n",
       "    <tr>\n",
       "      <th>Frost or ice</th>\n",
       "      <td>0.33</td>\n",
       "      <td>0.61</td>\n",
       "    </tr>\n",
       "    <tr>\n",
       "      <th>Snow</th>\n",
       "      <td>0.11</td>\n",
       "      <td>0.28</td>\n",
       "    </tr>\n",
       "    <tr>\n",
       "      <th>Wet or damp</th>\n",
       "      <td>8.50</td>\n",
       "      <td>21.20</td>\n",
       "    </tr>\n",
       "  </tbody>\n",
       "</table>\n",
       "</div>"
      ],
      "text/plain": [
       "casualty_severity        Serious  Slight\n",
       "road_surface_conditions                 \n",
       "Dry                        19.10   49.82\n",
       "Flood over 3cm. deep        0.02    0.04\n",
       "Frost or ice                0.33    0.61\n",
       "Snow                        0.11    0.28\n",
       "Wet or damp                 8.50   21.20"
      ]
     },
     "execution_count": 33,
     "metadata": {},
     "output_type": "execute_result"
    }
   ],
   "source": [
    "print(train.road_surface_conditions.value_counts(dropna=False))\n",
    "np.round(train.groupby(['road_surface_conditions', 'casualty_severity']).size().reset_index().pivot(columns='casualty_severity', index='road_surface_conditions', values=0) / train.shape[0]*100, 2)"
   ]
  },
  {
   "cell_type": "code",
   "execution_count": 34,
   "metadata": {},
   "outputs": [
    {
     "data": {
      "text/plain": [
       "pedestrian_crossing_human_control\n",
       "None within 50 metres                 0.981424\n",
       "Control by other authorised person    0.013558\n",
       "Control by school crossing patrol     0.004842\n",
       "unknown (self reported)               0.000176\n",
       "Name: proportion, dtype: float64"
      ]
     },
     "execution_count": 34,
     "metadata": {},
     "output_type": "execute_result"
    }
   ],
   "source": [
    "train.pedestrian_crossing_human_control.value_counts(normalize=True)"
   ]
  },
  {
   "cell_type": "code",
   "execution_count": 35,
   "metadata": {},
   "outputs": [
    {
     "data": {
      "text/plain": [
       "pedestrian_crossing_physical_facilities\n",
       "No physical crossing facilities within 50 metres                             0.856325\n",
       "Pedestrian phase at traffic signal junction                                  0.045691\n",
       "Pelican, puffin, toucan or similar non-junction pedestrian light crossing    0.042962\n",
       "Zebra                                                                        0.030020\n",
       "Central refuge                                                               0.023682\n",
       "Footbridge or subway                                                         0.001144\n",
       "unknown (self reported)                                                      0.000176\n",
       "Name: proportion, dtype: float64"
      ]
     },
     "execution_count": 35,
     "metadata": {},
     "output_type": "execute_result"
    }
   ],
   "source": [
    "train.pedestrian_crossing_physical_facilities.value_counts(normalize=True)"
   ]
  },
  {
   "cell_type": "markdown",
   "metadata": {},
   "source": [
    "* A lot of crashes are hapenning in dry, light conditions with no crazy weather.\n",
    "* A good amount of crashes are happening in dark conditions. In fact, although less than half of the total crashes are hapenning in dark conditions, an almost equivalent proportion of the crashes are fatal in the dark as during daylight (0.79 vs 0.83 %).\n",
    "* We should do some feature engineering to combine some of these categories (i.e. weather_conditions into weather and high_winds as a bool value, lighting into daylight, dark+lights, or dark no lights, and road_surface_conditions into dry, wet, or freezing."
   ]
  },
  {
   "cell_type": "markdown",
   "metadata": {},
   "source": [
    "### Actions\n",
    "\n",
    "Great stuff! There are some interesting patterns in the data and a lot of complexity that hopefully a model can begin to unpick. Before we jump into training the model, we want to prune and prepare the data a little bit more, based upon our EDA.\n",
    "\n",
    "Our next steps:\n",
    "\n",
    "* Drop columns which are unlikely to hold much / any predictive power, either due to irrelevance or because the information is already encapsulated within other features.\n",
    "\n",
    "* Some features don't contain a huge amount of information (e.g. pedestrian_location), so we should further investigate their correlation with our target variable (casualty_severity) and consider whether to include these in our model.\n",
    "\n",
    "* We can combine some columns which contain similar information, e.g. casualty_type and casualty_class columns can be combined to provide more granularity about the casualties.\n",
    "\n",
    "* We will need to convert all categorical data into numerical values, which is required by most models. We have a few features which can be mapped to boolean values, whilst others with multiple categories can be one-hot encoded. We may want to look into reducing the number of categories for certain features.\n",
    "\n"
   ]
  },
  {
   "cell_type": "code",
   "execution_count": null,
   "metadata": {},
   "outputs": [],
   "source": []
  }
 ],
 "metadata": {
  "kernelspec": {
   "display_name": "DfT_project_env",
   "language": "python",
   "name": "python3"
  },
  "language_info": {
   "codemirror_mode": {
    "name": "ipython",
    "version": 3
   },
   "file_extension": ".py",
   "mimetype": "text/x-python",
   "name": "python",
   "nbconvert_exporter": "python",
   "pygments_lexer": "ipython3",
   "version": "3.12.0"
  }
 },
 "nbformat": 4,
 "nbformat_minor": 2
}
