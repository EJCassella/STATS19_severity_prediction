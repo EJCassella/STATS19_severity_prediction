{
 "cells": [
  {
   "cell_type": "markdown",
   "metadata": {},
   "source": [
    "# 04 - Exploratory data analysis\n",
    "____\n",
    "\n",
    "Step 4! We're sailing.\n",
    "\n",
    "We've already dropped some features by getting rid of features with too much missing data.\n",
    "\n",
    "Now we can drill down into the nitty-gritty details and poke around to see which features are more (or less) correlated with our casualty_severity predictor. We want a good idea of which features will be the most important and which we might want to drop. We also want to keep an eye out for any crazy outliers.\n",
    "\n",
    "We can also start to think about which features we might want to engineer further to boost their predictive power.\n",
    "\n",
    "Remember not to peek at the testing data at all!!!!!!\n",
    "\n",
    "We won't drop any more features here, we'll leave it all to our feature engineering stage."
   ]
  },
  {
   "cell_type": "code",
   "execution_count": 10,
   "metadata": {},
   "outputs": [],
   "source": [
    "import pandas as pd\n",
    "import numpy as np\n",
    "\n",
    "import matplotlib.pyplot as plt \n",
    "import seaborn as sns\n",
    "\n",
    "import warnings\n",
    "warnings.simplefilter(action='ignore', category=FutureWarning)"
   ]
  },
  {
   "cell_type": "code",
   "execution_count": 11,
   "metadata": {},
   "outputs": [],
   "source": [
    "train = pd.read_csv('cleaned_training_data.csv', low_memory = False)\n",
    "\n",
    "pd.options.mode.chained_assignment = None"
   ]
  },
  {
   "cell_type": "markdown",
   "metadata": {},
   "source": [
    "# Exploratory data analysis\n",
    "\n",
    "We want to investigate which features correlate with accident severity. Who, what, when, or where influences accident severity?\n",
    "\n",
    "Let's start with the numerical datatypes."
   ]
  },
  {
   "cell_type": "code",
   "execution_count": 12,
   "metadata": {},
   "outputs": [
    {
     "data": {
      "text/html": [
       "<div>\n",
       "<style scoped>\n",
       "    .dataframe tbody tr th:only-of-type {\n",
       "        vertical-align: middle;\n",
       "    }\n",
       "\n",
       "    .dataframe tbody tr th {\n",
       "        vertical-align: top;\n",
       "    }\n",
       "\n",
       "    .dataframe thead th {\n",
       "        text-align: right;\n",
       "    }\n",
       "</style>\n",
       "<table border=\"1\" class=\"dataframe\">\n",
       "  <thead>\n",
       "    <tr style=\"text-align: right;\">\n",
       "      <th></th>\n",
       "      <th>accident_year</th>\n",
       "      <th>location_easting_osgr</th>\n",
       "      <th>location_northing_osgr</th>\n",
       "      <th>longitude</th>\n",
       "      <th>latitude</th>\n",
       "      <th>number_of_vehicles</th>\n",
       "      <th>number_of_casualties</th>\n",
       "      <th>speed_limit</th>\n",
       "      <th>vehicle_reference</th>\n",
       "      <th>casualty_reference</th>\n",
       "      <th>age_of_casualty</th>\n",
       "    </tr>\n",
       "  </thead>\n",
       "  <tbody>\n",
       "    <tr>\n",
       "      <th>count</th>\n",
       "      <td>532806.000000</td>\n",
       "      <td>532806.000000</td>\n",
       "      <td>5.328060e+05</td>\n",
       "      <td>532806.000000</td>\n",
       "      <td>532806.000000</td>\n",
       "      <td>532806.000000</td>\n",
       "      <td>532806.000000</td>\n",
       "      <td>532806.000000</td>\n",
       "      <td>532806.000000</td>\n",
       "      <td>532806.000000</td>\n",
       "      <td>532806.000000</td>\n",
       "    </tr>\n",
       "    <tr>\n",
       "      <th>mean</th>\n",
       "      <td>2020.969995</td>\n",
       "      <td>452965.716768</td>\n",
       "      <td>2.782573e+05</td>\n",
       "      <td>-1.240115</td>\n",
       "      <td>52.391646</td>\n",
       "      <td>1.913471</td>\n",
       "      <td>1.674899</td>\n",
       "      <td>37.574118</td>\n",
       "      <td>1.328848</td>\n",
       "      <td>1.069755</td>\n",
       "      <td>38.349952</td>\n",
       "    </tr>\n",
       "    <tr>\n",
       "      <th>std</th>\n",
       "      <td>1.447307</td>\n",
       "      <td>94393.785323</td>\n",
       "      <td>1.484379e+05</td>\n",
       "      <td>1.381008</td>\n",
       "      <td>1.337369</td>\n",
       "      <td>0.758732</td>\n",
       "      <td>1.467114</td>\n",
       "      <td>14.737641</td>\n",
       "      <td>0.769824</td>\n",
       "      <td>2.389596</td>\n",
       "      <td>18.308661</td>\n",
       "    </tr>\n",
       "    <tr>\n",
       "      <th>min</th>\n",
       "      <td>2019.000000</td>\n",
       "      <td>64084.000000</td>\n",
       "      <td>1.050200e+04</td>\n",
       "      <td>-7.525273</td>\n",
       "      <td>49.914329</td>\n",
       "      <td>1.000000</td>\n",
       "      <td>1.000000</td>\n",
       "      <td>20.000000</td>\n",
       "      <td>1.000000</td>\n",
       "      <td>1.000000</td>\n",
       "      <td>0.000000</td>\n",
       "    </tr>\n",
       "    <tr>\n",
       "      <th>25%</th>\n",
       "      <td>2020.000000</td>\n",
       "      <td>389899.000000</td>\n",
       "      <td>1.751690e+05</td>\n",
       "      <td>-2.151160</td>\n",
       "      <td>51.462374</td>\n",
       "      <td>1.000000</td>\n",
       "      <td>1.000000</td>\n",
       "      <td>30.000000</td>\n",
       "      <td>1.000000</td>\n",
       "      <td>1.000000</td>\n",
       "      <td>24.000000</td>\n",
       "    </tr>\n",
       "    <tr>\n",
       "      <th>50%</th>\n",
       "      <td>2021.000000</td>\n",
       "      <td>458547.500000</td>\n",
       "      <td>2.221925e+05</td>\n",
       "      <td>-1.135730</td>\n",
       "      <td>51.883272</td>\n",
       "      <td>2.000000</td>\n",
       "      <td>1.000000</td>\n",
       "      <td>30.000000</td>\n",
       "      <td>1.000000</td>\n",
       "      <td>1.000000</td>\n",
       "      <td>35.000000</td>\n",
       "    </tr>\n",
       "    <tr>\n",
       "      <th>75%</th>\n",
       "      <td>2022.000000</td>\n",
       "      <td>529298.000000</td>\n",
       "      <td>3.859225e+05</td>\n",
       "      <td>-0.136074</td>\n",
       "      <td>53.366932</td>\n",
       "      <td>2.000000</td>\n",
       "      <td>2.000000</td>\n",
       "      <td>50.000000</td>\n",
       "      <td>2.000000</td>\n",
       "      <td>1.000000</td>\n",
       "      <td>51.000000</td>\n",
       "    </tr>\n",
       "    <tr>\n",
       "      <th>max</th>\n",
       "      <td>2023.000000</td>\n",
       "      <td>655345.000000</td>\n",
       "      <td>1.184351e+06</td>\n",
       "      <td>1.759829</td>\n",
       "      <td>60.541144</td>\n",
       "      <td>17.000000</td>\n",
       "      <td>70.000000</td>\n",
       "      <td>70.000000</td>\n",
       "      <td>275.000000</td>\n",
       "      <td>999.000000</td>\n",
       "      <td>102.000000</td>\n",
       "    </tr>\n",
       "  </tbody>\n",
       "</table>\n",
       "</div>"
      ],
      "text/plain": [
       "       accident_year  location_easting_osgr  location_northing_osgr  \\\n",
       "count  532806.000000          532806.000000            5.328060e+05   \n",
       "mean     2020.969995          452965.716768            2.782573e+05   \n",
       "std         1.447307           94393.785323            1.484379e+05   \n",
       "min      2019.000000           64084.000000            1.050200e+04   \n",
       "25%      2020.000000          389899.000000            1.751690e+05   \n",
       "50%      2021.000000          458547.500000            2.221925e+05   \n",
       "75%      2022.000000          529298.000000            3.859225e+05   \n",
       "max      2023.000000          655345.000000            1.184351e+06   \n",
       "\n",
       "           longitude       latitude  number_of_vehicles  number_of_casualties  \\\n",
       "count  532806.000000  532806.000000       532806.000000         532806.000000   \n",
       "mean       -1.240115      52.391646            1.913471              1.674899   \n",
       "std         1.381008       1.337369            0.758732              1.467114   \n",
       "min        -7.525273      49.914329            1.000000              1.000000   \n",
       "25%        -2.151160      51.462374            1.000000              1.000000   \n",
       "50%        -1.135730      51.883272            2.000000              1.000000   \n",
       "75%        -0.136074      53.366932            2.000000              2.000000   \n",
       "max         1.759829      60.541144           17.000000             70.000000   \n",
       "\n",
       "         speed_limit  vehicle_reference  casualty_reference  age_of_casualty  \n",
       "count  532806.000000      532806.000000       532806.000000    532806.000000  \n",
       "mean       37.574118           1.328848            1.069755        38.349952  \n",
       "std        14.737641           0.769824            2.389596        18.308661  \n",
       "min        20.000000           1.000000            1.000000         0.000000  \n",
       "25%        30.000000           1.000000            1.000000        24.000000  \n",
       "50%        30.000000           1.000000            1.000000        35.000000  \n",
       "75%        50.000000           2.000000            1.000000        51.000000  \n",
       "max        70.000000         275.000000          999.000000       102.000000  "
      ]
     },
     "execution_count": 12,
     "metadata": {},
     "output_type": "execute_result"
    }
   ],
   "source": [
    "train.describe()"
   ]
  },
  {
   "cell_type": "markdown",
   "metadata": {},
   "source": [
    "Some interesting observations off the bat:\n",
    "\n",
    "* 50 % of the crashes involve 2 vehicles. There are some outliers, involving up to 8 vehicles.\n",
    "* This is similar for our number of casualties. For the most part, 1 or 2 casualties are reported, but an outlier involved 17 casualties is included - this is likely the 8 vehicle incident. We might want to consider removing this if it's just one outlying incident.\n",
    "* Half of our crashes are hapenning between 30 and 40 mph. A mean value of approximately 38 mph show this is skewed towards the higher value. We again see some outlier values up to 70 mph - as you would expect from UK motorway/dual carriageway incidents.\n",
    "* on average the casualties are in their mid-thirties. The IQR spans from 22 to 50, with some casualties as old as 98 and as young as 0.\n",
    "* I wonder if we can combine number of vehicles with number of casualties?\n",
    "* Should we use the continuous age_of_casualty or the binned categories? Is there less missing data in the binned feature? Maybe people didn't want to give an exact age, just a range?"
   ]
  },
  {
   "cell_type": "code",
   "execution_count": 13,
   "metadata": {},
   "outputs": [
    {
     "data": {
      "text/html": [
       "<div>\n",
       "<style scoped>\n",
       "    .dataframe tbody tr th:only-of-type {\n",
       "        vertical-align: middle;\n",
       "    }\n",
       "\n",
       "    .dataframe tbody tr th {\n",
       "        vertical-align: top;\n",
       "    }\n",
       "\n",
       "    .dataframe thead th {\n",
       "        text-align: right;\n",
       "    }\n",
       "</style>\n",
       "<table border=\"1\" class=\"dataframe\">\n",
       "  <thead>\n",
       "    <tr style=\"text-align: right;\">\n",
       "      <th></th>\n",
       "      <th>accident_index</th>\n",
       "      <th>accident_reference</th>\n",
       "      <th>accident_severity</th>\n",
       "      <th>date</th>\n",
       "      <th>day_of_week</th>\n",
       "      <th>time</th>\n",
       "      <th>local_authority_ons_district</th>\n",
       "      <th>local_authority_highway</th>\n",
       "      <th>first_road_class</th>\n",
       "      <th>road_type</th>\n",
       "      <th>junction_detail</th>\n",
       "      <th>second_road_class</th>\n",
       "      <th>pedestrian_crossing_human_control</th>\n",
       "      <th>pedestrian_crossing_physical_facilities</th>\n",
       "      <th>light_conditions</th>\n",
       "      <th>weather_conditions</th>\n",
       "      <th>road_surface_conditions</th>\n",
       "      <th>urban_or_rural_area</th>\n",
       "      <th>did_police_officer_attend_scene_of_accident</th>\n",
       "      <th>lsoa_of_accident_location</th>\n",
       "      <th>casualty_class</th>\n",
       "      <th>sex_of_casualty</th>\n",
       "      <th>age_band_of_casualty</th>\n",
       "      <th>casualty_severity</th>\n",
       "      <th>pedestrian_location</th>\n",
       "      <th>pedestrian_movement</th>\n",
       "      <th>car_passenger</th>\n",
       "      <th>bus_or_coach_passenger</th>\n",
       "      <th>pedestrian_road_maintenance_worker</th>\n",
       "      <th>casualty_type</th>\n",
       "    </tr>\n",
       "  </thead>\n",
       "  <tbody>\n",
       "    <tr>\n",
       "      <th>count</th>\n",
       "      <td>532806</td>\n",
       "      <td>532806</td>\n",
       "      <td>532806</td>\n",
       "      <td>532806</td>\n",
       "      <td>532806</td>\n",
       "      <td>532806</td>\n",
       "      <td>532806</td>\n",
       "      <td>532806</td>\n",
       "      <td>532806</td>\n",
       "      <td>532806</td>\n",
       "      <td>532806</td>\n",
       "      <td>532806</td>\n",
       "      <td>532806</td>\n",
       "      <td>532806</td>\n",
       "      <td>532806</td>\n",
       "      <td>532806</td>\n",
       "      <td>532806</td>\n",
       "      <td>532806</td>\n",
       "      <td>532806</td>\n",
       "      <td>532806</td>\n",
       "      <td>532806</td>\n",
       "      <td>532806</td>\n",
       "      <td>532806</td>\n",
       "      <td>532806</td>\n",
       "      <td>532806</td>\n",
       "      <td>532806</td>\n",
       "      <td>532806</td>\n",
       "      <td>532806</td>\n",
       "      <td>532806</td>\n",
       "      <td>532806</td>\n",
       "    </tr>\n",
       "    <tr>\n",
       "      <th>unique</th>\n",
       "      <td>416067</td>\n",
       "      <td>415715</td>\n",
       "      <td>3</td>\n",
       "      <td>1826</td>\n",
       "      <td>7</td>\n",
       "      <td>1440</td>\n",
       "      <td>383</td>\n",
       "      <td>210</td>\n",
       "      <td>6</td>\n",
       "      <td>5</td>\n",
       "      <td>9</td>\n",
       "      <td>7</td>\n",
       "      <td>3</td>\n",
       "      <td>6</td>\n",
       "      <td>5</td>\n",
       "      <td>8</td>\n",
       "      <td>5</td>\n",
       "      <td>3</td>\n",
       "      <td>3</td>\n",
       "      <td>33463</td>\n",
       "      <td>3</td>\n",
       "      <td>2</td>\n",
       "      <td>11</td>\n",
       "      <td>2</td>\n",
       "      <td>11</td>\n",
       "      <td>10</td>\n",
       "      <td>3</td>\n",
       "      <td>5</td>\n",
       "      <td>3</td>\n",
       "      <td>21</td>\n",
       "    </tr>\n",
       "    <tr>\n",
       "      <th>top</th>\n",
       "      <td>2023520300610</td>\n",
       "      <td>520300610</td>\n",
       "      <td>Slight</td>\n",
       "      <td>20/12/2019</td>\n",
       "      <td>Friday</td>\n",
       "      <td>17:00</td>\n",
       "      <td>E08000025</td>\n",
       "      <td>E10000016</td>\n",
       "      <td>A</td>\n",
       "      <td>Single carriageway</td>\n",
       "      <td>Not at junction or within 20 metres</td>\n",
       "      <td>Not at junction or within 20 metres</td>\n",
       "      <td>None within 50 metres</td>\n",
       "      <td>No physical crossing facilities within 50 metres</td>\n",
       "      <td>Daylight</td>\n",
       "      <td>Fine no high winds</td>\n",
       "      <td>Dry</td>\n",
       "      <td>Urban</td>\n",
       "      <td>Yes</td>\n",
       "      <td>E01032739</td>\n",
       "      <td>Driver or rider</td>\n",
       "      <td>Male</td>\n",
       "      <td>26 - 35</td>\n",
       "      <td>Slight</td>\n",
       "      <td>Not a Pedestrian</td>\n",
       "      <td>Not a Pedestrian</td>\n",
       "      <td>Not car passenger</td>\n",
       "      <td>Not a bus or coach passenger</td>\n",
       "      <td>No / Not applicable</td>\n",
       "      <td>Car occupant</td>\n",
       "    </tr>\n",
       "    <tr>\n",
       "      <th>freq</th>\n",
       "      <td>70</td>\n",
       "      <td>70</td>\n",
       "      <td>403560</td>\n",
       "      <td>479</td>\n",
       "      <td>87823</td>\n",
       "      <td>4817</td>\n",
       "      <td>12036</td>\n",
       "      <td>17903</td>\n",
       "      <td>242175</td>\n",
       "      <td>395725</td>\n",
       "      <td>235605</td>\n",
       "      <td>228056</td>\n",
       "      <td>524816</td>\n",
       "      <td>428283</td>\n",
       "      <td>377769</td>\n",
       "      <td>437779</td>\n",
       "      <td>384936</td>\n",
       "      <td>341352</td>\n",
       "      <td>382891</td>\n",
       "      <td>23824</td>\n",
       "      <td>404806</td>\n",
       "      <td>338268</td>\n",
       "      <td>126308</td>\n",
       "      <td>426501</td>\n",
       "      <td>460510</td>\n",
       "      <td>460506</td>\n",
       "      <td>488106</td>\n",
       "      <td>526112</td>\n",
       "      <td>525472</td>\n",
       "      <td>292258</td>\n",
       "    </tr>\n",
       "  </tbody>\n",
       "</table>\n",
       "</div>"
      ],
      "text/plain": [
       "       accident_index accident_reference accident_severity        date  \\\n",
       "count          532806             532806            532806      532806   \n",
       "unique         416067             415715                 3        1826   \n",
       "top     2023520300610          520300610            Slight  20/12/2019   \n",
       "freq               70                 70            403560         479   \n",
       "\n",
       "       day_of_week    time local_authority_ons_district  \\\n",
       "count       532806  532806                       532806   \n",
       "unique           7    1440                          383   \n",
       "top         Friday   17:00                    E08000025   \n",
       "freq         87823    4817                        12036   \n",
       "\n",
       "       local_authority_highway first_road_class           road_type  \\\n",
       "count                   532806           532806              532806   \n",
       "unique                     210                6                   5   \n",
       "top                  E10000016                A  Single carriageway   \n",
       "freq                     17903           242175              395725   \n",
       "\n",
       "                            junction_detail  \\\n",
       "count                                532806   \n",
       "unique                                    9   \n",
       "top     Not at junction or within 20 metres   \n",
       "freq                                 235605   \n",
       "\n",
       "                          second_road_class pedestrian_crossing_human_control  \\\n",
       "count                                532806                            532806   \n",
       "unique                                    7                                 3   \n",
       "top     Not at junction or within 20 metres             None within 50 metres   \n",
       "freq                                 228056                            524816   \n",
       "\n",
       "                 pedestrian_crossing_physical_facilities light_conditions  \\\n",
       "count                                             532806           532806   \n",
       "unique                                                 6                5   \n",
       "top     No physical crossing facilities within 50 metres         Daylight   \n",
       "freq                                              428283           377769   \n",
       "\n",
       "        weather_conditions road_surface_conditions urban_or_rural_area  \\\n",
       "count               532806                  532806              532806   \n",
       "unique                   8                       5                   3   \n",
       "top     Fine no high winds                     Dry               Urban   \n",
       "freq                437779                  384936              341352   \n",
       "\n",
       "       did_police_officer_attend_scene_of_accident lsoa_of_accident_location  \\\n",
       "count                                       532806                    532806   \n",
       "unique                                           3                     33463   \n",
       "top                                            Yes                 E01032739   \n",
       "freq                                        382891                     23824   \n",
       "\n",
       "         casualty_class sex_of_casualty age_band_of_casualty  \\\n",
       "count            532806          532806               532806   \n",
       "unique                3               2                   11   \n",
       "top     Driver or rider            Male              26 - 35   \n",
       "freq             404806          338268               126308   \n",
       "\n",
       "       casualty_severity pedestrian_location pedestrian_movement  \\\n",
       "count             532806              532806              532806   \n",
       "unique                 2                  11                  10   \n",
       "top               Slight    Not a Pedestrian    Not a Pedestrian   \n",
       "freq              426501              460510              460506   \n",
       "\n",
       "            car_passenger        bus_or_coach_passenger  \\\n",
       "count              532806                        532806   \n",
       "unique                  3                             5   \n",
       "top     Not car passenger  Not a bus or coach passenger   \n",
       "freq               488106                        526112   \n",
       "\n",
       "       pedestrian_road_maintenance_worker casualty_type  \n",
       "count                              532806        532806  \n",
       "unique                                  3            21  \n",
       "top                   No / Not applicable  Car occupant  \n",
       "freq                               525472        292258  "
      ]
     },
     "execution_count": 13,
     "metadata": {},
     "output_type": "execute_result"
    }
   ],
   "source": [
    "pd.set_option('display.max_columns', None)\n",
    "train.describe(exclude=[np.number])"
   ]
  },
  {
   "cell_type": "markdown",
   "metadata": {},
   "source": [
    "Whew, lot's of information here. Let's dig in.\n",
    "\n",
    "* Firstly, we have a *tonne* of features that seem to have redundant categories, i.e. the most frequent category makes up a very high percentage. We should think about combining these into another feature (e.g. car_passenger, and bus_or_coach_passenger), reducing the feature into a binary class (e.g. pedestrian_human_control and pedestrian_crossing_physical_facilities to true or false), or potentially dropping the feature altogether\n",
    "* There are 5 different light conditions, but maybe this should be light or dark? (or streetlamps or not, as time of day would be captured in another feature.)\n",
    "* Casualty_class and casualty_type might be very similar? Look to combine these.\n",
    "* Maybe Month / day could be extracted from the date, but we shouldn't use Date itself in the model as this is highly likely to lead to overfitting."
   ]
  },
  {
   "cell_type": "code",
   "execution_count": 14,
   "metadata": {},
   "outputs": [],
   "source": [
    "numerical_feats = train.describe().columns\n",
    "categorical_feats = train.describe(exclude=[np.number]).columns"
   ]
  },
  {
   "cell_type": "markdown",
   "metadata": {},
   "source": [
    "### Time to explore the relationship of our features with the casualty_severity\n",
    "Who is involved in the most severe crashes? When do they occur? Where do they occur?"
   ]
  },
  {
   "cell_type": "markdown",
   "metadata": {},
   "source": [
    "### Who?"
   ]
  },
  {
   "cell_type": "markdown",
   "metadata": {},
   "source": [
    "Wow, it seems like far fewer females are involved in serious collisions. For both recorded genders, the histogram is right-skewed. We should see if the banded age is more normal, and consider using this instead of the highly skewed continuous age."
   ]
  },
  {
   "cell_type": "code",
   "execution_count": 15,
   "metadata": {},
   "outputs": [
    {
     "data": {
      "image/png": "[encoded data removed]",
      "text/plain": [
       "<Figure size 600x400 with 4 Axes>"
      ]
     },
     "metadata": {},
     "output_type": "display_data"
    }
   ],
   "source": [
    "sns.set_style('white')\n",
    "g = sns.FacetGrid(train, col='casualty_severity', row='sex_of_casualty', sharey=True, hue='sex_of_casualty', height=2, aspect=1.5)\n",
    "g.map(sns.histplot, 'age_of_casualty', bins=10)\n",
    "g.set_titles('{col_name}', '{row_name}')\n",
    "g.set_xlabels(label = 'Casualty age')\n",
    "labels = ['Male', 'Female']\n",
    "for ind,ax in enumerate(g.axes):\n",
    "  ax[0].annotate(labels[ind], (-80, 50), xycoords = 'axes pixels', rotation=90)"
   ]
  },
  {
   "cell_type": "code",
   "execution_count": 16,
   "metadata": {},
   "outputs": [],
   "source": [
    "train['age_band_of_casualty'] = pd.Categorical(train['age_band_of_casualty'], ordered=True, categories=['0 - 5', '6 - 10', '11 - 15', '16 - 20', '21 - 25', '26 - 35', '36 - 45', '46 - 55', '56 - 65', '66 - 75', 'Over 75'])"
   ]
  },
  {
   "cell_type": "code",
   "execution_count": 17,
   "metadata": {},
   "outputs": [
    {
     "data": {
      "image/png": "[encoded data removed]",
      "text/plain": [
       "<Figure size 600x400 with 4 Axes>"
      ]
     },
     "metadata": {},
     "output_type": "display_data"
    }
   ],
   "source": [
    "sns.set_style('white')\n",
    "g = sns.FacetGrid(train, col='casualty_severity', row='sex_of_casualty', sharey=True, hue='sex_of_casualty', height=2, aspect=1.5)\n",
    "g.map(sns.countplot, 'age_band_of_casualty', order=train.age_band_of_casualty.cat.categories)\n",
    "g.set_titles('{col_name}', '{row_name}')\n",
    "g.set_xlabels(label = 'Casualty age')\n",
    "labels = ['Male', 'Female']\n",
    "for axes in g.axes.flat:\n",
    "    for label in axes.get_xticklabels():\n",
    "        label.set_rotation(90)"
   ]
  },
  {
   "cell_type": "markdown",
   "metadata": {},
   "source": [
    "The Casualty_class and casualty_type does seem to have a lot of information overlap. 'Driver or rider' should be de-aggregated if possible, as we can fairly safely assume that motorcyclists or cyclists are going to fare worse than car drives."
   ]
  },
  {
   "cell_type": "code",
   "execution_count": 18,
   "metadata": {},
   "outputs": [
    {
     "data": {
      "text/html": [
       "<div>\n",
       "<style scoped>\n",
       "    .dataframe tbody tr th:only-of-type {\n",
       "        vertical-align: middle;\n",
       "    }\n",
       "\n",
       "    .dataframe tbody tr th {\n",
       "        vertical-align: top;\n",
       "    }\n",
       "\n",
       "    .dataframe thead th {\n",
       "        text-align: right;\n",
       "    }\n",
       "</style>\n",
       "<table border=\"1\" class=\"dataframe\">\n",
       "  <thead>\n",
       "    <tr style=\"text-align: right;\">\n",
       "      <th>casualty_severity</th>\n",
       "      <th>Serious</th>\n",
       "      <th>Slight</th>\n",
       "    </tr>\n",
       "    <tr>\n",
       "      <th>casualty_class</th>\n",
       "      <th></th>\n",
       "      <th></th>\n",
       "    </tr>\n",
       "  </thead>\n",
       "  <tbody>\n",
       "    <tr>\n",
       "      <th>Driver or rider</th>\n",
       "      <td>14.108700</td>\n",
       "      <td>61.867547</td>\n",
       "    </tr>\n",
       "    <tr>\n",
       "      <th>Passenger</th>\n",
       "      <td>1.764620</td>\n",
       "      <td>8.690030</td>\n",
       "    </tr>\n",
       "    <tr>\n",
       "      <th>Pedestrian</th>\n",
       "      <td>4.078595</td>\n",
       "      <td>9.490509</td>\n",
       "    </tr>\n",
       "  </tbody>\n",
       "</table>\n",
       "</div>"
      ],
      "text/plain": [
       "casualty_severity    Serious     Slight\n",
       "casualty_class                         \n",
       "Driver or rider    14.108700  61.867547\n",
       "Passenger           1.764620   8.690030\n",
       "Pedestrian          4.078595   9.490509"
      ]
     },
     "execution_count": 18,
     "metadata": {},
     "output_type": "execute_result"
    }
   ],
   "source": [
    "table = pd.pivot_table(train, index=['casualty_class'], columns='casualty_severity', values='accident_index', aggfunc=len)\n",
    "table / train.shape[0]*100"
   ]
  },
  {
   "cell_type": "markdown",
   "metadata": {},
   "source": [
    "There area a tonne of casualty types that I think we could combine. Some of these categories make up for such a small proportion of the data."
   ]
  },
  {
   "cell_type": "code",
   "execution_count": 19,
   "metadata": {},
   "outputs": [
    {
     "name": "stdout",
     "output_type": "stream",
     "text": [
      "casualty_severity                                   Serious  Slight\n",
      "casualty_type                                                      \n",
      "Agricultural vehicle occupant                          0.02    0.03\n",
      "Bus or coach occupant (17 or more pass seats)          0.19    1.32\n",
      "Car occupant                                           7.76   47.09\n",
      "Cyclist                                                2.88    9.09\n",
      "Electric motorcycle rider or passenger                 0.05    0.08\n",
      "Goods vehicle (7.5 tonnes mgw and over) occupant       0.09    0.27\n",
      "Goods vehicle (over 3.5t. and under 7.5t.) occu...     0.03    0.14\n",
      "Goods vehicle (unknown weight) occupant                0.02    0.07\n",
      "Horse rider                                            0.02    0.04\n",
      "Minibus (8 - 16 passenger seats) occupant              0.02    0.10\n",
      "Mobility scooter rider                                 0.04    0.13\n",
      "Motorcycle - unknown cc rider or passenger             0.12    0.12\n",
      "Motorcycle 125cc and under rider or passenger          1.45    4.73\n",
      "Motorcycle 50cc and under rider or passenger           0.20    0.59\n",
      "Motorcycle over 125cc and up to 500cc rider or ...     0.49    0.91\n",
      "Motorcycle over 500cc rider or passenger               1.69    1.67\n",
      "Other vehicle occupant                                 0.27    0.63\n",
      "Pedestrian                                             4.08    9.49\n",
      "Taxi/Private hire car occupant                         0.08    1.10\n",
      "Tram occupant                                          0.00    0.00\n",
      "Van / Goods vehicle (3.5 tonnes mgw or under) o...     0.44    2.45\n",
      "casualty_type\n",
      "Car occupant                                                 0.548526\n",
      "Pedestrian                                                   0.135695\n",
      "Cyclist                                                      0.119723\n",
      "Motorcycle 125cc and under rider or passenger                0.061779\n",
      "Motorcycle over 500cc rider or passenger                     0.033581\n",
      "Van / Goods vehicle (3.5 tonnes mgw or under) occupant       0.028932\n",
      "Bus or coach occupant (17 or more pass seats)                0.015004\n",
      "Motorcycle over 125cc and up to 500cc rider or  passenger    0.013996\n",
      "Taxi/Private hire car occupant                               0.011820\n",
      "Other vehicle occupant                                       0.009001\n",
      "Motorcycle 50cc and under rider or passenger                 0.007947\n",
      "Goods vehicle (7.5 tonnes mgw and over) occupant             0.003559\n",
      "Motorcycle - unknown cc rider or passenger                   0.002363\n",
      "Goods vehicle (over 3.5t. and under 7.5t.) occupant          0.001742\n",
      "Mobility scooter rider                                       0.001717\n",
      "Electric motorcycle rider or passenger                       0.001363\n",
      "Minibus (8 - 16 passenger seats) occupant                    0.001214\n",
      "Goods vehicle (unknown weight) occupant                      0.000980\n",
      "Horse rider                                                  0.000516\n",
      "Agricultural vehicle occupant                                0.000509\n",
      "Tram occupant                                                0.000036\n",
      "Name: proportion, dtype: float64\n"
     ]
    }
   ],
   "source": [
    "table = pd.pivot_table(train, index=['casualty_type'], columns='casualty_severity', values='accident_index', aggfunc=len)\n",
    "print(np.round(table / train.shape[0]*100, 2))\n",
    "print(train['casualty_type'].value_counts(normalize=True))"
   ]
  },
  {
   "cell_type": "markdown",
   "metadata": {},
   "source": [
    "Interesting that most serious collisions have 1 casualty - I wonder if this is due to a vehicle hitting a cyclist / motorcyclist / pedestrian. Can we emphasise this somehow?"
   ]
  },
  {
   "cell_type": "code",
   "execution_count": 20,
   "metadata": {},
   "outputs": [
    {
     "data": {
      "text/html": [
       "<div>\n",
       "<style scoped>\n",
       "    .dataframe tbody tr th:only-of-type {\n",
       "        vertical-align: middle;\n",
       "    }\n",
       "\n",
       "    .dataframe tbody tr th {\n",
       "        vertical-align: top;\n",
       "    }\n",
       "\n",
       "    .dataframe thead th {\n",
       "        text-align: right;\n",
       "    }\n",
       "</style>\n",
       "<table border=\"1\" class=\"dataframe\">\n",
       "  <thead>\n",
       "    <tr style=\"text-align: right;\">\n",
       "      <th>casualty_severity</th>\n",
       "      <th>Serious</th>\n",
       "      <th>Slight</th>\n",
       "    </tr>\n",
       "    <tr>\n",
       "      <th>number_of_casualties</th>\n",
       "      <th></th>\n",
       "      <th></th>\n",
       "    </tr>\n",
       "  </thead>\n",
       "  <tbody>\n",
       "    <tr>\n",
       "      <th>1</th>\n",
       "      <td>13.51</td>\n",
       "      <td>49.63</td>\n",
       "    </tr>\n",
       "    <tr>\n",
       "      <th>2</th>\n",
       "      <td>3.41</td>\n",
       "      <td>17.58</td>\n",
       "    </tr>\n",
       "    <tr>\n",
       "      <th>3</th>\n",
       "      <td>1.54</td>\n",
       "      <td>7.18</td>\n",
       "    </tr>\n",
       "    <tr>\n",
       "      <th>4</th>\n",
       "      <td>0.77</td>\n",
       "      <td>3.21</td>\n",
       "    </tr>\n",
       "    <tr>\n",
       "      <th>5</th>\n",
       "      <td>0.38</td>\n",
       "      <td>1.42</td>\n",
       "    </tr>\n",
       "    <tr>\n",
       "      <th>6</th>\n",
       "      <td>0.17</td>\n",
       "      <td>0.51</td>\n",
       "    </tr>\n",
       "    <tr>\n",
       "      <th>7</th>\n",
       "      <td>0.08</td>\n",
       "      <td>0.24</td>\n",
       "    </tr>\n",
       "    <tr>\n",
       "      <th>8</th>\n",
       "      <td>0.02</td>\n",
       "      <td>0.11</td>\n",
       "    </tr>\n",
       "    <tr>\n",
       "      <th>9</th>\n",
       "      <td>0.02</td>\n",
       "      <td>0.04</td>\n",
       "    </tr>\n",
       "    <tr>\n",
       "      <th>10</th>\n",
       "      <td>0.00</td>\n",
       "      <td>0.03</td>\n",
       "    </tr>\n",
       "    <tr>\n",
       "      <th>11</th>\n",
       "      <td>0.02</td>\n",
       "      <td>0.02</td>\n",
       "    </tr>\n",
       "    <tr>\n",
       "      <th>12</th>\n",
       "      <td>0.01</td>\n",
       "      <td>0.02</td>\n",
       "    </tr>\n",
       "    <tr>\n",
       "      <th>13</th>\n",
       "      <td>0.00</td>\n",
       "      <td>0.01</td>\n",
       "    </tr>\n",
       "    <tr>\n",
       "      <th>14</th>\n",
       "      <td>0.01</td>\n",
       "      <td>0.01</td>\n",
       "    </tr>\n",
       "    <tr>\n",
       "      <th>15</th>\n",
       "      <td>0.00</td>\n",
       "      <td>0.00</td>\n",
       "    </tr>\n",
       "    <tr>\n",
       "      <th>16</th>\n",
       "      <td>0.00</td>\n",
       "      <td>0.00</td>\n",
       "    </tr>\n",
       "    <tr>\n",
       "      <th>17</th>\n",
       "      <td>NaN</td>\n",
       "      <td>0.00</td>\n",
       "    </tr>\n",
       "    <tr>\n",
       "      <th>19</th>\n",
       "      <td>0.01</td>\n",
       "      <td>NaN</td>\n",
       "    </tr>\n",
       "    <tr>\n",
       "      <th>20</th>\n",
       "      <td>NaN</td>\n",
       "      <td>0.00</td>\n",
       "    </tr>\n",
       "    <tr>\n",
       "      <th>22</th>\n",
       "      <td>0.00</td>\n",
       "      <td>NaN</td>\n",
       "    </tr>\n",
       "    <tr>\n",
       "      <th>25</th>\n",
       "      <td>NaN</td>\n",
       "      <td>0.00</td>\n",
       "    </tr>\n",
       "    <tr>\n",
       "      <th>41</th>\n",
       "      <td>NaN</td>\n",
       "      <td>0.01</td>\n",
       "    </tr>\n",
       "    <tr>\n",
       "      <th>70</th>\n",
       "      <td>NaN</td>\n",
       "      <td>0.01</td>\n",
       "    </tr>\n",
       "  </tbody>\n",
       "</table>\n",
       "</div>"
      ],
      "text/plain": [
       "casualty_severity     Serious  Slight\n",
       "number_of_casualties                 \n",
       "1                       13.51   49.63\n",
       "2                        3.41   17.58\n",
       "3                        1.54    7.18\n",
       "4                        0.77    3.21\n",
       "5                        0.38    1.42\n",
       "6                        0.17    0.51\n",
       "7                        0.08    0.24\n",
       "8                        0.02    0.11\n",
       "9                        0.02    0.04\n",
       "10                       0.00    0.03\n",
       "11                       0.02    0.02\n",
       "12                       0.01    0.02\n",
       "13                       0.00    0.01\n",
       "14                       0.01    0.01\n",
       "15                       0.00    0.00\n",
       "16                       0.00    0.00\n",
       "17                        NaN    0.00\n",
       "19                       0.01     NaN\n",
       "20                        NaN    0.00\n",
       "22                       0.00     NaN\n",
       "25                        NaN    0.00\n",
       "41                        NaN    0.01\n",
       "70                        NaN    0.01"
      ]
     },
     "execution_count": 20,
     "metadata": {},
     "output_type": "execute_result"
    }
   ],
   "source": [
    "table = pd.pivot_table(train, index=['number_of_casualties'], columns='casualty_severity', values='accident_index', aggfunc=len)\n",
    "np.round(table / train.shape[0]*100, 2)"
   ]
  },
  {
   "cell_type": "markdown",
   "metadata": {},
   "source": [
    "Multi-vehicle collisions (3+) seem to make up a small amount of the data. Let's consider combining these multi-vehicle incidents into one category. We should likely do this for high casualty incidents too."
   ]
  },
  {
   "cell_type": "code",
   "execution_count": 21,
   "metadata": {},
   "outputs": [
    {
     "data": {
      "text/html": [
       "<div>\n",
       "<style scoped>\n",
       "    .dataframe tbody tr th:only-of-type {\n",
       "        vertical-align: middle;\n",
       "    }\n",
       "\n",
       "    .dataframe tbody tr th {\n",
       "        vertical-align: top;\n",
       "    }\n",
       "\n",
       "    .dataframe thead th {\n",
       "        text-align: right;\n",
       "    }\n",
       "</style>\n",
       "<table border=\"1\" class=\"dataframe\">\n",
       "  <thead>\n",
       "    <tr style=\"text-align: right;\">\n",
       "      <th>casualty_severity</th>\n",
       "      <th>Serious</th>\n",
       "      <th>Slight</th>\n",
       "    </tr>\n",
       "    <tr>\n",
       "      <th>number_of_vehicles</th>\n",
       "      <th></th>\n",
       "      <th></th>\n",
       "    </tr>\n",
       "  </thead>\n",
       "  <tbody>\n",
       "    <tr>\n",
       "      <th>1</th>\n",
       "      <td>7.37</td>\n",
       "      <td>18.20</td>\n",
       "    </tr>\n",
       "    <tr>\n",
       "      <th>2</th>\n",
       "      <td>10.33</td>\n",
       "      <td>51.98</td>\n",
       "    </tr>\n",
       "    <tr>\n",
       "      <th>3</th>\n",
       "      <td>1.64</td>\n",
       "      <td>7.35</td>\n",
       "    </tr>\n",
       "    <tr>\n",
       "      <th>4</th>\n",
       "      <td>0.41</td>\n",
       "      <td>1.76</td>\n",
       "    </tr>\n",
       "    <tr>\n",
       "      <th>5</th>\n",
       "      <td>0.12</td>\n",
       "      <td>0.46</td>\n",
       "    </tr>\n",
       "    <tr>\n",
       "      <th>6</th>\n",
       "      <td>0.05</td>\n",
       "      <td>0.18</td>\n",
       "    </tr>\n",
       "    <tr>\n",
       "      <th>7</th>\n",
       "      <td>0.02</td>\n",
       "      <td>0.06</td>\n",
       "    </tr>\n",
       "    <tr>\n",
       "      <th>8</th>\n",
       "      <td>0.01</td>\n",
       "      <td>0.03</td>\n",
       "    </tr>\n",
       "    <tr>\n",
       "      <th>9</th>\n",
       "      <td>0.00</td>\n",
       "      <td>0.01</td>\n",
       "    </tr>\n",
       "    <tr>\n",
       "      <th>10</th>\n",
       "      <td>0.00</td>\n",
       "      <td>0.01</td>\n",
       "    </tr>\n",
       "    <tr>\n",
       "      <th>11</th>\n",
       "      <td>NaN</td>\n",
       "      <td>0.00</td>\n",
       "    </tr>\n",
       "    <tr>\n",
       "      <th>12</th>\n",
       "      <td>0.00</td>\n",
       "      <td>0.00</td>\n",
       "    </tr>\n",
       "    <tr>\n",
       "      <th>13</th>\n",
       "      <td>0.00</td>\n",
       "      <td>0.00</td>\n",
       "    </tr>\n",
       "    <tr>\n",
       "      <th>14</th>\n",
       "      <td>0.00</td>\n",
       "      <td>0.00</td>\n",
       "    </tr>\n",
       "    <tr>\n",
       "      <th>15</th>\n",
       "      <td>0.00</td>\n",
       "      <td>0.00</td>\n",
       "    </tr>\n",
       "    <tr>\n",
       "      <th>16</th>\n",
       "      <td>0.00</td>\n",
       "      <td>NaN</td>\n",
       "    </tr>\n",
       "    <tr>\n",
       "      <th>17</th>\n",
       "      <td>NaN</td>\n",
       "      <td>0.00</td>\n",
       "    </tr>\n",
       "  </tbody>\n",
       "</table>\n",
       "</div>"
      ],
      "text/plain": [
       "casualty_severity   Serious  Slight\n",
       "number_of_vehicles                 \n",
       "1                      7.37   18.20\n",
       "2                     10.33   51.98\n",
       "3                      1.64    7.35\n",
       "4                      0.41    1.76\n",
       "5                      0.12    0.46\n",
       "6                      0.05    0.18\n",
       "7                      0.02    0.06\n",
       "8                      0.01    0.03\n",
       "9                      0.00    0.01\n",
       "10                     0.00    0.01\n",
       "11                      NaN    0.00\n",
       "12                     0.00    0.00\n",
       "13                     0.00    0.00\n",
       "14                     0.00    0.00\n",
       "15                     0.00    0.00\n",
       "16                     0.00     NaN\n",
       "17                      NaN    0.00"
      ]
     },
     "execution_count": 21,
     "metadata": {},
     "output_type": "execute_result"
    }
   ],
   "source": [
    "table = pd.pivot_table(train, index=['number_of_vehicles'], columns='casualty_severity', values='accident_index', aggfunc=len)\n",
    "np.round(table / train.shape[0]*100, 2)"
   ]
  },
  {
   "cell_type": "markdown",
   "metadata": {},
   "source": [
    "We have a couple of features about pedestrians that are dominated (>80%) by not being an entry containing a pedestrian. "
   ]
  },
  {
   "cell_type": "code",
   "execution_count": 22,
   "metadata": {},
   "outputs": [
    {
     "data": {
      "text/plain": [
       "pedestrian_location\n",
       "Not a Pedestrian                                                           0.864311\n",
       "In carriageway, crossing elsewhere                                         0.051803\n",
       "Crossing on pedestrian crossing facility                                   0.022353\n",
       "On footway or verge                                                        0.016169\n",
       "In carriageway, not crossing                                               0.014101\n",
       "Unknown or other                                                           0.013084\n",
       "Crossing elsewhere within 50m. of pedestrian crossing                      0.008223\n",
       "In centre of carriageway - not on refuge, island or central reservation    0.008221\n",
       "On refuge, central island or central reservation                           0.000890\n",
       "Crossing in zig-zag approach lines                                         0.000550\n",
       "Crossing in zig-zag exit lines                                             0.000297\n",
       "Name: proportion, dtype: float64"
      ]
     },
     "execution_count": 22,
     "metadata": {},
     "output_type": "execute_result"
    }
   ],
   "source": [
    "train.pedestrian_location.value_counts(normalize=True)"
   ]
  },
  {
   "cell_type": "code",
   "execution_count": 23,
   "metadata": {},
   "outputs": [
    {
     "data": {
      "text/plain": [
       "pedestrian_movement\n",
       "Not a Pedestrian                                                                                             0.864303\n",
       "Crossing from driver's nearside                                                                              0.042764\n",
       "Unknown or other                                                                                             0.038297\n",
       "Crossing from driver's offside                                                                               0.027841\n",
       "In carriageway, stationary - not crossing  (standing or playing)                                             0.006991\n",
       "Crossing from nearside - masked by parked or stationary vehicle                                              0.006732\n",
       "Crossing from offside - masked by  parked or stationary vehicle                                              0.005028\n",
       "Walking along in carriageway, back to traffic                                                                0.003692\n",
       "Walking along in carriageway, facing traffic                                                                 0.003328\n",
       "In carriageway, stationary - not crossing  (standing or playing) - masked by parked or stationary vehicle    0.001023\n",
       "Name: proportion, dtype: float64"
      ]
     },
     "execution_count": 23,
     "metadata": {},
     "output_type": "execute_result"
    }
   ],
   "source": [
    "train.pedestrian_movement.value_counts(normalize=True)"
   ]
  },
  {
   "cell_type": "markdown",
   "metadata": {},
   "source": [
    "Maybe car_passenger can be combined with the casualty_type data."
   ]
  },
  {
   "cell_type": "code",
   "execution_count": 24,
   "metadata": {},
   "outputs": [
    {
     "data": {
      "text/plain": [
       "car_passenger\n",
       "Not car passenger       0.916105\n",
       "Front seat passenger    0.055313\n",
       "Rear seat passenger     0.028583\n",
       "Name: proportion, dtype: float64"
      ]
     },
     "execution_count": 24,
     "metadata": {},
     "output_type": "execute_result"
    }
   ],
   "source": [
    "train.car_passenger.value_counts(normalize=True)"
   ]
  },
  {
   "cell_type": "markdown",
   "metadata": {},
   "source": [
    "bus_or_coach_passenger is unlikely to give us much information gain, we can probably drop this."
   ]
  },
  {
   "cell_type": "code",
   "execution_count": 25,
   "metadata": {},
   "outputs": [
    {
     "data": {
      "text/plain": [
       "bus_or_coach_passenger\n",
       "Not a bus or coach passenger    0.987436\n",
       "Seated passenger                0.007260\n",
       "Standing passenger              0.003853\n",
       "Alighting                       0.000798\n",
       "Boarding                        0.000653\n",
       "Name: proportion, dtype: float64"
      ]
     },
     "execution_count": 25,
     "metadata": {},
     "output_type": "execute_result"
    }
   ],
   "source": [
    "train.bus_or_coach_passenger.value_counts(normalize=True)"
   ]
  },
  {
   "cell_type": "markdown",
   "metadata": {},
   "source": [
    "Same again."
   ]
  },
  {
   "cell_type": "code",
   "execution_count": 26,
   "metadata": {},
   "outputs": [
    {
     "data": {
      "text/plain": [
       "pedestrian_road_maintenance_worker\n",
       "No / Not applicable    0.986235\n",
       "Not Known              0.012592\n",
       "Yes                    0.001173\n",
       "Name: proportion, dtype: float64"
      ]
     },
     "execution_count": 26,
     "metadata": {},
     "output_type": "execute_result"
    }
   ],
   "source": [
    "train.pedestrian_road_maintenance_worker.value_counts(normalize=True)"
   ]
  },
  {
   "cell_type": "markdown",
   "metadata": {},
   "source": [
    "* Casualty_type and casualty_class could be combined for more granular information abou the casualties.\n",
    "\n",
    "* The most fatal accidents occur (almost twice that of other categories) when there is a single car and a single casualty. Is this when a car is hitting a pedestrian/cyclist? Is it the driver of a single occupancy vehicle hitting a stationary object? We could potentially engineer a feature to encapsulate the nature of these single casualty/single vehicle incidents.\n",
    "\n",
    "* The most serious injuries occur when 2 vehicles are involved, likely because this is just the most common type of collision.\n",
    "\n",
    "* Age and gender of the casualties are clearly quite relevant to the frequency/outcome of crashes. Age_band is probably preferable to the continuous age feature.\n"
   ]
  },
  {
   "cell_type": "markdown",
   "metadata": {},
   "source": [
    "### When do the most severe accidents occur?"
   ]
  },
  {
   "cell_type": "markdown",
   "metadata": {},
   "source": [
    "Fridays are a bad day to be on the road! Fewer collisions occur on sunday, as you might expect. Could reduce to weekday versus weekend (friday evenings counted as weekend?)"
   ]
  },
  {
   "cell_type": "code",
   "execution_count": 27,
   "metadata": {},
   "outputs": [
    {
     "data": {
      "text/plain": [
       "<seaborn.axisgrid.FacetGrid at 0x23f68e872f0>"
      ]
     },
     "execution_count": 27,
     "metadata": {},
     "output_type": "execute_result"
    },
    {
     "data": {
      "image/png": "[encoded data removed]",
      "text/plain": [
       "<Figure size 600x300 with 2 Axes>"
      ]
     },
     "metadata": {},
     "output_type": "display_data"
    }
   ],
   "source": [
    "g = sns.FacetGrid(train, col='casualty_severity', sharey=True)\n",
    "g.map(sns.countplot, 'day_of_week', order = ['Monday', 'Tuesday', 'Wednesday', 'Thursday', 'Friday', 'Saturday', 'Sunday'], palette='rocket', data=train)\n",
    "g.set_xticklabels(['M', 'T', 'W', 'T', 'F', 'S', 'S'])\n",
    "g.set_titles('{col_name}')\n"
   ]
  },
  {
   "cell_type": "markdown",
   "metadata": {},
   "source": [
    "## Need to convert some stuff ot look at time of day"
   ]
  },
  {
   "cell_type": "markdown",
   "metadata": {},
   "source": [
    "Rush hours clearly have a notable impact on the number of collisions. Maybe engineer a rush hour feature? Also a daytime vs. nighttime?\n"
   ]
  },
  {
   "cell_type": "code",
   "execution_count": 28,
   "metadata": {},
   "outputs": [],
   "source": [
    "train['time'] = pd.to_datetime(train['time'], format='%H:%M').dt.hour"
   ]
  },
  {
   "cell_type": "code",
   "execution_count": 29,
   "metadata": {},
   "outputs": [
    {
     "name": "stderr",
     "output_type": "stream",
     "text": [
      "c:\\Users\\ph1ejc\\.conda\\envs\\DfT_project_env\\Lib\\site-packages\\seaborn\\axisgrid.py:718: UserWarning: Using the countplot function without specifying `order` is likely to produce an incorrect plot.\n",
      "  warnings.warn(warning)\n"
     ]
    },
    {
     "data": {
      "text/plain": [
       "<seaborn.axisgrid.FacetGrid at 0x23f68e863f0>"
      ]
     },
     "execution_count": 29,
     "metadata": {},
     "output_type": "execute_result"
    },
    {
     "data": {
      "image/png": "[encoded data removed]",
      "text/plain": [
       "<Figure size 2100x600 with 14 Axes>"
      ]
     },
     "metadata": {},
     "output_type": "display_data"
    }
   ],
   "source": [
    "\n",
    "g = sns.FacetGrid(train, row='casualty_severity', col='day_of_week', col_order = ['Monday', 'Tuesday', 'Wednesday', 'Thursday', 'Friday', 'Saturday', 'Sunday'], sharey=True)\n",
    "g.map(sns.countplot, 'time', palette='rocket')\n",
    "g.set_titles('{col_name}')\n",
    "g.set_xlabels('Hour of day')"
   ]
  },
  {
   "cell_type": "markdown",
   "metadata": {},
   "source": [
    "COVID atleast reduced the number of road traffic collisions!"
   ]
  },
  {
   "cell_type": "code",
   "execution_count": 30,
   "metadata": {},
   "outputs": [
    {
     "data": {
      "text/plain": [
       "<Axes: xlabel='accident_year', ylabel='month'>"
      ]
     },
     "execution_count": 30,
     "metadata": {},
     "output_type": "execute_result"
    },
    {
     "data": {
      "image/png": "[encoded data removed]",
      "text/plain": [
       "<Figure size 1500x700 with 2 Axes>"
      ]
     },
     "metadata": {},
     "output_type": "display_data"
    }
   ],
   "source": [
    "train['month'] = pd.to_datetime(train.date, format ='%d/%m/%Y').dt.month\n",
    "\n",
    "table = pd.pivot_table(train, values='accident_index', index='month', columns='accident_year', aggfunc=len)\n",
    "plt.figure(figsize=(15,7))\n",
    "sns.set(rc={\"axes.labelsize\":18},font_scale=1)\n",
    "sns.heatmap(table,linewidths=.1,annot=False,cmap='rocket_r')"
   ]
  },
  {
   "cell_type": "markdown",
   "metadata": {},
   "source": [
    "### Where do the accidents occur, and where are they most severe?"
   ]
  },
  {
   "cell_type": "code",
   "execution_count": 33,
   "metadata": {},
   "outputs": [
    {
     "name": "stderr",
     "output_type": "stream",
     "text": [
      "c:\\Users\\ph1ejc\\.conda\\envs\\DfT_project_env\\Lib\\site-packages\\seaborn\\axisgrid.py:718: UserWarning: Using the countplot function without specifying `order` is likely to produce an incorrect plot.\n",
      "  warnings.warn(warning)\n"
     ]
    },
    {
     "data": {
      "text/plain": [
       "<seaborn.axisgrid.FacetGrid at 0x23f5b06eab0>"
      ]
     },
     "execution_count": 33,
     "metadata": {},
     "output_type": "execute_result"
    },
    {
     "data": {
      "image/png": "[encoded data removed]",
      "text/plain": [
       "<Figure size 600x300 with 2 Axes>"
      ]
     },
     "metadata": {},
     "output_type": "display_data"
    }
   ],
   "source": [
    "sns.set_style('white')\n",
    "g = sns.FacetGrid(train, col='casualty_severity', sharey=True)\n",
    "g.map(sns.countplot, 'speed_limit', palette='rocket')\n",
    "g.set_titles('{col_name}')"
   ]
  },
  {
   "cell_type": "code",
   "execution_count": 34,
   "metadata": {},
   "outputs": [
    {
     "data": {
      "text/html": [
       "<div>\n",
       "<style scoped>\n",
       "    .dataframe tbody tr th:only-of-type {\n",
       "        vertical-align: middle;\n",
       "    }\n",
       "\n",
       "    .dataframe tbody tr th {\n",
       "        vertical-align: top;\n",
       "    }\n",
       "\n",
       "    .dataframe thead th {\n",
       "        text-align: right;\n",
       "    }\n",
       "</style>\n",
       "<table border=\"1\" class=\"dataframe\">\n",
       "  <thead>\n",
       "    <tr style=\"text-align: right;\">\n",
       "      <th>casualty_severity</th>\n",
       "      <th>Serious</th>\n",
       "      <th>Slight</th>\n",
       "    </tr>\n",
       "    <tr>\n",
       "      <th>urban_or_rural_area</th>\n",
       "      <th></th>\n",
       "      <th></th>\n",
       "    </tr>\n",
       "  </thead>\n",
       "  <tbody>\n",
       "    <tr>\n",
       "      <th>Rural</th>\n",
       "      <td>8.65</td>\n",
       "      <td>27.26</td>\n",
       "    </tr>\n",
       "    <tr>\n",
       "      <th>Unallocated</th>\n",
       "      <td>0.00</td>\n",
       "      <td>0.01</td>\n",
       "    </tr>\n",
       "    <tr>\n",
       "      <th>Urban</th>\n",
       "      <td>11.29</td>\n",
       "      <td>52.77</td>\n",
       "    </tr>\n",
       "  </tbody>\n",
       "</table>\n",
       "</div>"
      ],
      "text/plain": [
       "casualty_severity    Serious  Slight\n",
       "urban_or_rural_area                 \n",
       "Rural                   8.65   27.26\n",
       "Unallocated             0.00    0.01\n",
       "Urban                  11.29   52.77"
      ]
     },
     "execution_count": 34,
     "metadata": {},
     "output_type": "execute_result"
    }
   ],
   "source": [
    "np.round(train.groupby(['urban_or_rural_area', 'casualty_severity']).size().reset_index().pivot(columns='casualty_severity', index='urban_or_rural_area', values=0) / train.shape[0]*100, 2)\n"
   ]
  },
  {
   "cell_type": "code",
   "execution_count": 36,
   "metadata": {},
   "outputs": [
    {
     "data": {
      "text/plain": [
       "first_road_class\n",
       "A               0.454528\n",
       "Unclassified    0.334681\n",
       "B               0.125655\n",
       "C               0.045204\n",
       "Motorway        0.036908\n",
       "A(M)            0.003024\n",
       "Name: proportion, dtype: float64"
      ]
     },
     "execution_count": 36,
     "metadata": {},
     "output_type": "execute_result"
    }
   ],
   "source": [
    "train.first_road_class.value_counts(normalize=True)"
   ]
  },
  {
   "cell_type": "code",
   "execution_count": 37,
   "metadata": {},
   "outputs": [
    {
     "data": {
      "text/plain": [
       "second_road_class\n",
       "Not at junction or within 20 metres    0.428028\n",
       "Unclassified                           0.397218\n",
       "A                                      0.101634\n",
       "B                                      0.039844\n",
       "C                                      0.028990\n",
       "Motorway                               0.003870\n",
       "A(M)                                   0.000417\n",
       "Name: proportion, dtype: float64"
      ]
     },
     "execution_count": 37,
     "metadata": {},
     "output_type": "execute_result"
    }
   ],
   "source": [
    "train.second_road_class.value_counts(normalize=True)\n"
   ]
  },
  {
   "cell_type": "code",
   "execution_count": 38,
   "metadata": {},
   "outputs": [
    {
     "data": {
      "text/plain": [
       "road_type\n",
       "Single carriageway    0.742719\n",
       "Dual carriageway      0.164407\n",
       "Roundabout            0.055523\n",
       "One way street        0.019523\n",
       "Slip road             0.017828\n",
       "Name: proportion, dtype: float64"
      ]
     },
     "execution_count": 38,
     "metadata": {},
     "output_type": "execute_result"
    }
   ],
   "source": [
    "train.road_type.value_counts(normalize=True)\n"
   ]
  },
  {
   "cell_type": "code",
   "execution_count": 39,
   "metadata": {},
   "outputs": [
    {
     "data": {
      "text/plain": [
       "junction_detail\n",
       "Not at junction or within 20 metres    0.442197\n",
       "T or staggered junction                0.272501\n",
       "Crossroads                             0.097103\n",
       "Roundabout                             0.073496\n",
       "Other junction                         0.052875\n",
       "Private drive or entrance              0.021088\n",
       "More than 4 arms (not roundabout)      0.014298\n",
       "Mini-roundabout                        0.013725\n",
       "Slip road                              0.012718\n",
       "Name: proportion, dtype: float64"
      ]
     },
     "execution_count": 39,
     "metadata": {},
     "output_type": "execute_result"
    }
   ],
   "source": [
    "train.junction_detail.value_counts(normalize=True)\n"
   ]
  },
  {
   "cell_type": "markdown",
   "metadata": {},
   "source": [
    "* Over 90 % of the trunk road flag information is unclassified, so we can likely drop this column.\n",
    "* Road_type and junction_detail contain very similar information. Speed_limit likely encapsulates similar data as the road_type, seeing as the road type determines the speed limit of a road. This also applies to the *road_class columns (first_ and second_). Junction_detail might be interesting, but we likely want to reduce the number of categories as some are quite infrequent."
   ]
  },
  {
   "cell_type": "markdown",
   "metadata": {},
   "source": [
    "### What are the road conditions when crashes occur?"
   ]
  },
  {
   "cell_type": "code",
   "execution_count": 40,
   "metadata": {},
   "outputs": [
    {
     "name": "stdout",
     "output_type": "stream",
     "text": [
      "light_conditions\n",
      "Daylight                       377769\n",
      "Darkness - lights lit          109387\n",
      "Darkness - no lighting          32046\n",
      "Darkness - lighting unknown      9671\n",
      "Darkness - lights unlit          3933\n",
      "Name: count, dtype: int64\n"
     ]
    },
    {
     "data": {
      "text/html": [
       "<div>\n",
       "<style scoped>\n",
       "    .dataframe tbody tr th:only-of-type {\n",
       "        vertical-align: middle;\n",
       "    }\n",
       "\n",
       "    .dataframe tbody tr th {\n",
       "        vertical-align: top;\n",
       "    }\n",
       "\n",
       "    .dataframe thead th {\n",
       "        text-align: right;\n",
       "    }\n",
       "</style>\n",
       "<table border=\"1\" class=\"dataframe\">\n",
       "  <thead>\n",
       "    <tr style=\"text-align: right;\">\n",
       "      <th>casualty_severity</th>\n",
       "      <th>Serious</th>\n",
       "      <th>Slight</th>\n",
       "    </tr>\n",
       "    <tr>\n",
       "      <th>light_conditions</th>\n",
       "      <th></th>\n",
       "      <th></th>\n",
       "    </tr>\n",
       "  </thead>\n",
       "  <tbody>\n",
       "    <tr>\n",
       "      <th>Darkness - lighting unknown</th>\n",
       "      <td>0.29</td>\n",
       "      <td>1.53</td>\n",
       "    </tr>\n",
       "    <tr>\n",
       "      <th>Darkness - lights lit</th>\n",
       "      <td>4.23</td>\n",
       "      <td>16.30</td>\n",
       "    </tr>\n",
       "    <tr>\n",
       "      <th>Darkness - lights unlit</th>\n",
       "      <td>0.17</td>\n",
       "      <td>0.56</td>\n",
       "    </tr>\n",
       "    <tr>\n",
       "      <th>Darkness - no lighting</th>\n",
       "      <td>1.74</td>\n",
       "      <td>4.28</td>\n",
       "    </tr>\n",
       "    <tr>\n",
       "      <th>Daylight</th>\n",
       "      <td>13.52</td>\n",
       "      <td>57.38</td>\n",
       "    </tr>\n",
       "  </tbody>\n",
       "</table>\n",
       "</div>"
      ],
      "text/plain": [
       "casualty_severity            Serious  Slight\n",
       "light_conditions                            \n",
       "Darkness - lighting unknown     0.29    1.53\n",
       "Darkness - lights lit           4.23   16.30\n",
       "Darkness - lights unlit         0.17    0.56\n",
       "Darkness - no lighting          1.74    4.28\n",
       "Daylight                       13.52   57.38"
      ]
     },
     "execution_count": 40,
     "metadata": {},
     "output_type": "execute_result"
    }
   ],
   "source": [
    "print(train.light_conditions.value_counts(dropna=False))\n",
    "np.round(train.groupby(['light_conditions', 'casualty_severity']).size().reset_index().pivot(columns='casualty_severity', index='light_conditions', values=0) / train.shape[0]*100, 2)\n"
   ]
  },
  {
   "cell_type": "code",
   "execution_count": null,
   "metadata": {},
   "outputs": [
    {
     "name": "stdout",
     "output_type": "stream",
     "text": [
      "weather_conditions\n",
      "Fine no high winds       8964\n",
      "Raining no high winds    1501\n",
      "Other                     388\n",
      "Fine + high winds         211\n",
      "Raining + high winds      163\n",
      "Snowing no high winds      69\n",
      "Fog or mist                51\n",
      "Snowing + high winds       12\n",
      "Name: count, dtype: int64\n"
     ]
    },
    {
     "data": {
      "text/html": [
       "<div>\n",
       "<style scoped>\n",
       "    .dataframe tbody tr th:only-of-type {\n",
       "        vertical-align: middle;\n",
       "    }\n",
       "\n",
       "    .dataframe tbody tr th {\n",
       "        vertical-align: top;\n",
       "    }\n",
       "\n",
       "    .dataframe thead th {\n",
       "        text-align: right;\n",
       "    }\n",
       "</style>\n",
       "<table border=\"1\" class=\"dataframe\">\n",
       "  <thead>\n",
       "    <tr style=\"text-align: right;\">\n",
       "      <th>casualty_severity</th>\n",
       "      <th>Serious</th>\n",
       "      <th>Slight</th>\n",
       "    </tr>\n",
       "    <tr>\n",
       "      <th>weather_conditions</th>\n",
       "      <th></th>\n",
       "      <th></th>\n",
       "    </tr>\n",
       "  </thead>\n",
       "  <tbody>\n",
       "    <tr>\n",
       "      <th>Fine + high winds</th>\n",
       "      <td>0.49</td>\n",
       "      <td>1.36</td>\n",
       "    </tr>\n",
       "    <tr>\n",
       "      <th>Fine no high winds</th>\n",
       "      <td>21.75</td>\n",
       "      <td>57.16</td>\n",
       "    </tr>\n",
       "    <tr>\n",
       "      <th>Fog or mist</th>\n",
       "      <td>0.13</td>\n",
       "      <td>0.32</td>\n",
       "    </tr>\n",
       "    <tr>\n",
       "      <th>Other</th>\n",
       "      <td>1.05</td>\n",
       "      <td>2.37</td>\n",
       "    </tr>\n",
       "    <tr>\n",
       "      <th>Raining + high winds</th>\n",
       "      <td>0.51</td>\n",
       "      <td>0.92</td>\n",
       "    </tr>\n",
       "    <tr>\n",
       "      <th>Raining no high winds</th>\n",
       "      <td>3.87</td>\n",
       "      <td>9.34</td>\n",
       "    </tr>\n",
       "    <tr>\n",
       "      <th>Snowing + high winds</th>\n",
       "      <td>0.05</td>\n",
       "      <td>0.05</td>\n",
       "    </tr>\n",
       "    <tr>\n",
       "      <th>Snowing no high winds</th>\n",
       "      <td>0.18</td>\n",
       "      <td>0.42</td>\n",
       "    </tr>\n",
       "  </tbody>\n",
       "</table>\n",
       "</div>"
      ],
      "text/plain": [
       "casualty_severity      Serious  Slight\n",
       "weather_conditions                    \n",
       "Fine + high winds         0.49    1.36\n",
       "Fine no high winds       21.75   57.16\n",
       "Fog or mist               0.13    0.32\n",
       "Other                     1.05    2.37\n",
       "Raining + high winds      0.51    0.92\n",
       "Raining no high winds     3.87    9.34\n",
       "Snowing + high winds      0.05    0.05\n",
       "Snowing no high winds     0.18    0.42"
      ]
     },
     "execution_count": 32,
     "metadata": {},
     "output_type": "execute_result"
    }
   ],
   "source": [
    "print(train.weather_conditions.value_counts(dropna=False))\n",
    "np.round(train.groupby(['weather_conditions', 'casualty_severity']).size().reset_index().pivot(columns='casualty_severity', index='weather_conditions', values=0) / train.shape[0]*100, 2)"
   ]
  },
  {
   "cell_type": "code",
   "execution_count": 41,
   "metadata": {},
   "outputs": [
    {
     "name": "stdout",
     "output_type": "stream",
     "text": [
      "road_surface_conditions\n",
      "Dry                     384936\n",
      "Wet or damp             138909\n",
      "Frost or ice              6574\n",
      "Snow                      1455\n",
      "Flood over 3cm. deep       932\n",
      "Name: count, dtype: int64\n"
     ]
    },
    {
     "data": {
      "text/html": [
       "<div>\n",
       "<style scoped>\n",
       "    .dataframe tbody tr th:only-of-type {\n",
       "        vertical-align: middle;\n",
       "    }\n",
       "\n",
       "    .dataframe tbody tr th {\n",
       "        vertical-align: top;\n",
       "    }\n",
       "\n",
       "    .dataframe thead th {\n",
       "        text-align: right;\n",
       "    }\n",
       "</style>\n",
       "<table border=\"1\" class=\"dataframe\">\n",
       "  <thead>\n",
       "    <tr style=\"text-align: right;\">\n",
       "      <th>casualty_severity</th>\n",
       "      <th>Serious</th>\n",
       "      <th>Slight</th>\n",
       "    </tr>\n",
       "    <tr>\n",
       "      <th>road_surface_conditions</th>\n",
       "      <th></th>\n",
       "      <th></th>\n",
       "    </tr>\n",
       "  </thead>\n",
       "  <tbody>\n",
       "    <tr>\n",
       "      <th>Dry</th>\n",
       "      <td>14.28</td>\n",
       "      <td>57.97</td>\n",
       "    </tr>\n",
       "    <tr>\n",
       "      <th>Flood over 3cm. deep</th>\n",
       "      <td>0.04</td>\n",
       "      <td>0.14</td>\n",
       "    </tr>\n",
       "    <tr>\n",
       "      <th>Frost or ice</th>\n",
       "      <td>0.23</td>\n",
       "      <td>1.00</td>\n",
       "    </tr>\n",
       "    <tr>\n",
       "      <th>Snow</th>\n",
       "      <td>0.05</td>\n",
       "      <td>0.23</td>\n",
       "    </tr>\n",
       "    <tr>\n",
       "      <th>Wet or damp</th>\n",
       "      <td>5.36</td>\n",
       "      <td>20.72</td>\n",
       "    </tr>\n",
       "  </tbody>\n",
       "</table>\n",
       "</div>"
      ],
      "text/plain": [
       "casualty_severity        Serious  Slight\n",
       "road_surface_conditions                 \n",
       "Dry                        14.28   57.97\n",
       "Flood over 3cm. deep        0.04    0.14\n",
       "Frost or ice                0.23    1.00\n",
       "Snow                        0.05    0.23\n",
       "Wet or damp                 5.36   20.72"
      ]
     },
     "execution_count": 41,
     "metadata": {},
     "output_type": "execute_result"
    }
   ],
   "source": [
    "print(train.road_surface_conditions.value_counts(dropna=False))\n",
    "np.round(train.groupby(['road_surface_conditions', 'casualty_severity']).size().reset_index().pivot(columns='casualty_severity', index='road_surface_conditions', values=0) / train.shape[0]*100, 2)"
   ]
  },
  {
   "cell_type": "code",
   "execution_count": 42,
   "metadata": {},
   "outputs": [
    {
     "data": {
      "text/plain": [
       "pedestrian_crossing_human_control\n",
       "None within 50 metres                 0.985004\n",
       "Control by other authorised person    0.011008\n",
       "Control by school crossing patrol     0.003988\n",
       "Name: proportion, dtype: float64"
      ]
     },
     "execution_count": 42,
     "metadata": {},
     "output_type": "execute_result"
    }
   ],
   "source": [
    "train.pedestrian_crossing_human_control.value_counts(normalize=True)"
   ]
  },
  {
   "cell_type": "code",
   "execution_count": 43,
   "metadata": {},
   "outputs": [
    {
     "data": {
      "text/plain": [
       "pedestrian_crossing_physical_facilities\n",
       "No physical crossing facilities within 50 metres                             0.803825\n",
       "Pedestrian phase at traffic signal junction                                  0.077268\n",
       "Pelican, puffin, toucan or similar non-junction pedestrian light crossing    0.053849\n",
       "Zebra                                                                        0.038404\n",
       "Central refuge                                                               0.024317\n",
       "Footbridge or subway                                                         0.002337\n",
       "Name: proportion, dtype: float64"
      ]
     },
     "execution_count": 43,
     "metadata": {},
     "output_type": "execute_result"
    }
   ],
   "source": [
    "train.pedestrian_crossing_physical_facilities.value_counts(normalize=True)"
   ]
  },
  {
   "cell_type": "markdown",
   "metadata": {},
   "source": [
    "* A lot of crashes are hapenning in dry, light conditions with no crazy weather.\n",
    "* A good amount of crashes are happening in dark conditions. In fact, although less than half of the total crashes are hapenning in dark conditions, an almost equivalent proportion of the crashes are fatal in the dark as during daylight (0.79 vs 0.83 %).\n",
    "* We should do some feature engineering to combine some of these categories (i.e. weather_conditions into weather and high_winds as a bool value, lighting into daylight, dark+lights, or dark no lights, and road_surface_conditions into dry, wet, or freezing."
   ]
  },
  {
   "cell_type": "markdown",
   "metadata": {},
   "source": [
    "### Actions\n",
    "\n",
    "Great stuff! There are some interesting patterns in the data and a lot of complexity that hopefully a model can begin to unpick. Before we jump into training the model, we want to prune and prepare the data a little bit more, based upon our EDA.\n",
    "\n",
    "Our next steps:\n",
    "\n",
    "* Drop columns which are unlikely to hold much / any predictive power, either due to irrelevance or because the information is already encapsulated within other features.\n",
    "\n",
    "* Some features don't contain a huge amount of information (e.g. pedestrian_location), so we should further investigate their correlation with our target variable (casualty_severity) and consider whether to include these in our model.\n",
    "\n",
    "* We can combine some columns which contain similar information, e.g. casualty_type and casualty_class columns can be combined to provide more granularity about the casualties.\n",
    "\n",
    "* We will need to convert all categorical data into numerical values, which is required by most models. We have a few features which can be mapped to boolean values, whilst others with multiple categories can be one-hot encoded. We may want to look into reducing the number of categories for certain features.\n",
    "\n"
   ]
  },
  {
   "cell_type": "code",
   "execution_count": null,
   "metadata": {},
   "outputs": [],
   "source": []
  }
 ],
 "metadata": {
  "kernelspec": {
   "display_name": "DfT_project_env",
   "language": "python",
   "name": "python3"
  },
  "language_info": {
   "codemirror_mode": {
    "name": "ipython",
    "version": 3
   },
   "file_extension": ".py",
   "mimetype": "text/x-python",
   "name": "python",
   "nbconvert_exporter": "python",
   "pygments_lexer": "ipython3",
   "version": "3.12.0"
  }
 },
 "nbformat": 4,
 "nbformat_minor": 2
}
