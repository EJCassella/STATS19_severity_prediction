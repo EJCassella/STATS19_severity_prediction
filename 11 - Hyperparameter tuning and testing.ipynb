{
 "cells": [
  {
   "cell_type": "markdown",
   "metadata": {},
   "source": [
    "# 11 - Modelling, hyperparameter tuning, and test data.\n",
    "\n",
    "It's been a ride! Let's tune our model and check how it does on the testing data, comparing it to our dummy model."
   ]
  },
  {
   "cell_type": "code",
   "execution_count": 86,
   "metadata": {},
   "outputs": [],
   "source": [
    "import pandas as pd\n",
    "import numpy as np\n",
    "\n",
    "from sklearn.ensemble import RandomForestClassifier\n",
    "\n",
    "from sklearn.model_selection import cross_val_score\n",
    "from sklearn.model_selection import StratifiedKFold\n",
    "from imblearn.over_sampling import RandomOverSampler\n",
    "\n",
    "from imblearn.under_sampling import TomekLinks\n",
    "\n",
    "from imblearn.pipeline import Pipeline, make_pipeline\n",
    "from sklearn.metrics import classification_report, f1_score\n",
    "from scipy.stats import randint\n",
    "\n",
    "from sklearn.model_selection import RandomizedSearchCV\n",
    "\n",
    "from warnings import simplefilter\n",
    "simplefilter(\"ignore\", category=UserWarning)"
   ]
  },
  {
   "cell_type": "code",
   "execution_count": 87,
   "metadata": {},
   "outputs": [],
   "source": [
    "train = pd.read_csv('encoded_train.csv')\n",
    "test = pd.read_csv('encoded_test.csv')\n",
    "\n",
    "y_train = train['casualty_severity']\n",
    "X_train = train.drop('casualty_severity', axis=1)\n",
    "\n",
    "y_test = test['casualty_severity']\n",
    "X_test = test.drop('casualty_severity', axis=1)"
   ]
  },
  {
   "cell_type": "code",
   "execution_count": 88,
   "metadata": {},
   "outputs": [
    {
     "name": "stdout",
     "output_type": "stream",
     "text": [
      "The mean F1 score for 5-fold stratified cross-validation on our randomly oversampled dataset is 0.59\n"
     ]
    }
   ],
   "source": [
    "pipeline = make_pipeline(TomekLinks(),\n",
    "                         RandomForestClassifier())\n",
    "\n",
    "kf = StratifiedKFold(n_splits=5, shuffle=True)\n",
    "mean_score = cross_val_score(pipeline, X_train, y_train, scoring='f1', cv=kf).mean()\n",
    "print(\"The mean F1 score for 5-fold stratified cross-validation on our randomly oversampled dataset is {:.2f}\".format(mean_score))\n"
   ]
  },
  {
   "cell_type": "markdown",
   "metadata": {},
   "source": [
    "Okay, let's try and boost that number a little bit.\n"
   ]
  },
  {
   "cell_type": "code",
   "execution_count": 89,
   "metadata": {},
   "outputs": [],
   "source": [
    "param_space= {\n",
    "    'randomforestclassifier__n_estimators': randint(50, 500),  # Number of trees in the forest\n",
    "    'randomforestclassifier__max_depth': [None] + list(range(5, 31, 1)),  # Depth of the trees\n",
    "    'randomforestclassifier__min_samples_split': randint(2, 20),  # Minimum samples required to split\n",
    "    'randomforestclassifier__min_samples_leaf': randint(1, 10),  # Minimum samples required per leaf\n",
    "    'randomforestclassifier__max_features': ['sqrt', 'log2', None]  # Number of features to consider for the best split\n",
    "}"
   ]
  },
  {
   "cell_type": "code",
   "execution_count": 90,
   "metadata": {},
   "outputs": [
    {
     "name": "stdout",
     "output_type": "stream",
     "text": [
      "Fitting 5 folds for each of 100 candidates, totalling 500 fits\n"
     ]
    },
    {
     "data": {
      "text/html": [
       "<style>#sk-container-id-4 {color: black;}#sk-container-id-4 pre{padding: 0;}#sk-container-id-4 div.sk-toggleable {background-color: white;}#sk-container-id-4 label.sk-toggleable__label {cursor: pointer;display: block;width: 100%;margin-bottom: 0;padding: 0.3em;box-sizing: border-box;text-align: center;}#sk-container-id-4 label.sk-toggleable__label-arrow:before {content: \"▸\";float: left;margin-right: 0.25em;color: #696969;}#sk-container-id-4 label.sk-toggleable__label-arrow:hover:before {color: black;}#sk-container-id-4 div.sk-estimator:hover label.sk-toggleable__label-arrow:before {color: black;}#sk-container-id-4 div.sk-toggleable__content {max-height: 0;max-width: 0;overflow: hidden;text-align: left;background-color: #f0f8ff;}#sk-container-id-4 div.sk-toggleable__content pre {margin: 0.2em;color: black;border-radius: 0.25em;background-color: #f0f8ff;}#sk-container-id-4 input.sk-toggleable__control:checked~div.sk-toggleable__content {max-height: 200px;max-width: 100%;overflow: auto;}#sk-container-id-4 input.sk-toggleable__control:checked~label.sk-toggleable__label-arrow:before {content: \"▾\";}#sk-container-id-4 div.sk-estimator input.sk-toggleable__control:checked~label.sk-toggleable__label {background-color: #d4ebff;}#sk-container-id-4 div.sk-label input.sk-toggleable__control:checked~label.sk-toggleable__label {background-color: #d4ebff;}#sk-container-id-4 input.sk-hidden--visually {border: 0;clip: rect(1px 1px 1px 1px);clip: rect(1px, 1px, 1px, 1px);height: 1px;margin: -1px;overflow: hidden;padding: 0;position: absolute;width: 1px;}#sk-container-id-4 div.sk-estimator {font-family: monospace;background-color: #f0f8ff;border: 1px dotted black;border-radius: 0.25em;box-sizing: border-box;margin-bottom: 0.5em;}#sk-container-id-4 div.sk-estimator:hover {background-color: #d4ebff;}#sk-container-id-4 div.sk-parallel-item::after {content: \"\";width: 100%;border-bottom: 1px solid gray;flex-grow: 1;}#sk-container-id-4 div.sk-label:hover label.sk-toggleable__label {background-color: #d4ebff;}#sk-container-id-4 div.sk-serial::before {content: \"\";position: absolute;border-left: 1px solid gray;box-sizing: border-box;top: 0;bottom: 0;left: 50%;z-index: 0;}#sk-container-id-4 div.sk-serial {display: flex;flex-direction: column;align-items: center;background-color: white;padding-right: 0.2em;padding-left: 0.2em;position: relative;}#sk-container-id-4 div.sk-item {position: relative;z-index: 1;}#sk-container-id-4 div.sk-parallel {display: flex;align-items: stretch;justify-content: center;background-color: white;position: relative;}#sk-container-id-4 div.sk-item::before, #sk-container-id-4 div.sk-parallel-item::before {content: \"\";position: absolute;border-left: 1px solid gray;box-sizing: border-box;top: 0;bottom: 0;left: 50%;z-index: -1;}#sk-container-id-4 div.sk-parallel-item {display: flex;flex-direction: column;z-index: 1;position: relative;background-color: white;}#sk-container-id-4 div.sk-parallel-item:first-child::after {align-self: flex-end;width: 50%;}#sk-container-id-4 div.sk-parallel-item:last-child::after {align-self: flex-start;width: 50%;}#sk-container-id-4 div.sk-parallel-item:only-child::after {width: 0;}#sk-container-id-4 div.sk-dashed-wrapped {border: 1px dashed gray;margin: 0 0.4em 0.5em 0.4em;box-sizing: border-box;padding-bottom: 0.4em;background-color: white;}#sk-container-id-4 div.sk-label label {font-family: monospace;font-weight: bold;display: inline-block;line-height: 1.2em;}#sk-container-id-4 div.sk-label-container {text-align: center;}#sk-container-id-4 div.sk-container {/* jupyter's `normalize.less` sets `[hidden] { display: none; }` but bootstrap.min.css set `[hidden] { display: none !important; }` so we also need the `!important` here to be able to override the default hidden behavior on the sphinx rendered scikit-learn.org. See: https://github.com/scikit-learn/scikit-learn/issues/21755 */display: inline-block !important;position: relative;}#sk-container-id-4 div.sk-text-repr-fallback {display: none;}</style><div id=\"sk-container-id-4\" class=\"sk-top-container\"><div class=\"sk-text-repr-fallback\"><pre>RandomizedSearchCV(cv=StratifiedKFold(n_splits=5, random_state=None, shuffle=True),\n",
       "                   estimator=Pipeline(steps=[(&#x27;tomeklinks&#x27;, TomekLinks()),\n",
       "                                             (&#x27;randomforestclassifier&#x27;,\n",
       "                                              RandomForestClassifier())]),\n",
       "                   n_iter=100, n_jobs=-1,\n",
       "                   param_distributions={&#x27;randomforestclassifier__max_depth&#x27;: [None,\n",
       "                                                                              5,\n",
       "                                                                              6,\n",
       "                                                                              7,\n",
       "                                                                              8,\n",
       "                                                                              9,\n",
       "                                                                              10,\n",
       "                                                                              11,\n",
       "                                                                              12,\n",
       "                                                                              13,\n",
       "                                                                              14,\n",
       "                                                                              15,\n",
       "                                                                              16,\n",
       "                                                                              17,\n",
       "                                                                              18,\n",
       "                                                                              19,\n",
       "                                                                              20,\n",
       "                                                                              21,\n",
       "                                                                              22,\n",
       "                                                                              23,\n",
       "                                                                              24,\n",
       "                                                                              25,\n",
       "                                                                              26,\n",
       "                                                                              27,\n",
       "                                                                              28,\n",
       "                                                                              29,\n",
       "                                                                              30],\n",
       "                                        &#x27;ra...\n",
       "                                        &#x27;randomforestclassifier__min_samples_leaf&#x27;: &lt;scipy.stats._distn_infrastructure.rv_discrete_frozen object at 0x000001748714EFC0&gt;,\n",
       "                                        &#x27;randomforestclassifier__min_samples_split&#x27;: &lt;scipy.stats._distn_infrastructure.rv_discrete_frozen object at 0x000001748714CA10&gt;,\n",
       "                                        &#x27;randomforestclassifier__n_estimators&#x27;: &lt;scipy.stats._distn_infrastructure.rv_discrete_frozen object at 0x000001748714DA90&gt;},\n",
       "                   random_state=42, scoring=&#x27;f1&#x27;, verbose=2)</pre><b>In a Jupyter environment, please rerun this cell to show the HTML representation or trust the notebook. <br />On GitHub, the HTML representation is unable to render, please try loading this page with nbviewer.org.</b></div><div class=\"sk-container\" hidden><div class=\"sk-item sk-dashed-wrapped\"><div class=\"sk-label-container\"><div class=\"sk-label sk-toggleable\"><input class=\"sk-toggleable__control sk-hidden--visually\" id=\"sk-estimator-id-10\" type=\"checkbox\" ><label for=\"sk-estimator-id-10\" class=\"sk-toggleable__label sk-toggleable__label-arrow\">RandomizedSearchCV</label><div class=\"sk-toggleable__content\"><pre>RandomizedSearchCV(cv=StratifiedKFold(n_splits=5, random_state=None, shuffle=True),\n",
       "                   estimator=Pipeline(steps=[(&#x27;tomeklinks&#x27;, TomekLinks()),\n",
       "                                             (&#x27;randomforestclassifier&#x27;,\n",
       "                                              RandomForestClassifier())]),\n",
       "                   n_iter=100, n_jobs=-1,\n",
       "                   param_distributions={&#x27;randomforestclassifier__max_depth&#x27;: [None,\n",
       "                                                                              5,\n",
       "                                                                              6,\n",
       "                                                                              7,\n",
       "                                                                              8,\n",
       "                                                                              9,\n",
       "                                                                              10,\n",
       "                                                                              11,\n",
       "                                                                              12,\n",
       "                                                                              13,\n",
       "                                                                              14,\n",
       "                                                                              15,\n",
       "                                                                              16,\n",
       "                                                                              17,\n",
       "                                                                              18,\n",
       "                                                                              19,\n",
       "                                                                              20,\n",
       "                                                                              21,\n",
       "                                                                              22,\n",
       "                                                                              23,\n",
       "                                                                              24,\n",
       "                                                                              25,\n",
       "                                                                              26,\n",
       "                                                                              27,\n",
       "                                                                              28,\n",
       "                                                                              29,\n",
       "                                                                              30],\n",
       "                                        &#x27;ra...\n",
       "                                        &#x27;randomforestclassifier__min_samples_leaf&#x27;: &lt;scipy.stats._distn_infrastructure.rv_discrete_frozen object at 0x000001748714EFC0&gt;,\n",
       "                                        &#x27;randomforestclassifier__min_samples_split&#x27;: &lt;scipy.stats._distn_infrastructure.rv_discrete_frozen object at 0x000001748714CA10&gt;,\n",
       "                                        &#x27;randomforestclassifier__n_estimators&#x27;: &lt;scipy.stats._distn_infrastructure.rv_discrete_frozen object at 0x000001748714DA90&gt;},\n",
       "                   random_state=42, scoring=&#x27;f1&#x27;, verbose=2)</pre></div></div></div><div class=\"sk-parallel\"><div class=\"sk-parallel-item\"><div class=\"sk-item\"><div class=\"sk-label-container\"><div class=\"sk-label sk-toggleable\"><input class=\"sk-toggleable__control sk-hidden--visually\" id=\"sk-estimator-id-11\" type=\"checkbox\" ><label for=\"sk-estimator-id-11\" class=\"sk-toggleable__label sk-toggleable__label-arrow\">estimator: Pipeline</label><div class=\"sk-toggleable__content\"><pre>Pipeline(steps=[(&#x27;tomeklinks&#x27;, TomekLinks()),\n",
       "                (&#x27;randomforestclassifier&#x27;, RandomForestClassifier())])</pre></div></div></div><div class=\"sk-serial\"><div class=\"sk-item\"><div class=\"sk-serial\"><div class=\"sk-item\"><div class=\"sk-estimator sk-toggleable\"><input class=\"sk-toggleable__control sk-hidden--visually\" id=\"sk-estimator-id-12\" type=\"checkbox\" ><label for=\"sk-estimator-id-12\" class=\"sk-toggleable__label sk-toggleable__label-arrow\">TomekLinks</label><div class=\"sk-toggleable__content\"><pre>TomekLinks()</pre></div></div></div><div class=\"sk-item\"><div class=\"sk-estimator sk-toggleable\"><input class=\"sk-toggleable__control sk-hidden--visually\" id=\"sk-estimator-id-13\" type=\"checkbox\" ><label for=\"sk-estimator-id-13\" class=\"sk-toggleable__label sk-toggleable__label-arrow\">RandomForestClassifier</label><div class=\"sk-toggleable__content\"><pre>RandomForestClassifier()</pre></div></div></div></div></div></div></div></div></div></div></div></div>"
      ],
      "text/plain": [
       "RandomizedSearchCV(cv=StratifiedKFold(n_splits=5, random_state=None, shuffle=True),\n",
       "                   estimator=Pipeline(steps=[('tomeklinks', TomekLinks()),\n",
       "                                             ('randomforestclassifier',\n",
       "                                              RandomForestClassifier())]),\n",
       "                   n_iter=100, n_jobs=-1,\n",
       "                   param_distributions={'randomforestclassifier__max_depth': [None,\n",
       "                                                                              5,\n",
       "                                                                              6,\n",
       "                                                                              7,\n",
       "                                                                              8,\n",
       "                                                                              9,\n",
       "                                                                              10,\n",
       "                                                                              11,\n",
       "                                                                              12,\n",
       "                                                                              13,\n",
       "                                                                              14,\n",
       "                                                                              15,\n",
       "                                                                              16,\n",
       "                                                                              17,\n",
       "                                                                              18,\n",
       "                                                                              19,\n",
       "                                                                              20,\n",
       "                                                                              21,\n",
       "                                                                              22,\n",
       "                                                                              23,\n",
       "                                                                              24,\n",
       "                                                                              25,\n",
       "                                                                              26,\n",
       "                                                                              27,\n",
       "                                                                              28,\n",
       "                                                                              29,\n",
       "                                                                              30],\n",
       "                                        'ra...\n",
       "                                        'randomforestclassifier__min_samples_leaf': <scipy.stats._distn_infrastructure.rv_discrete_frozen object at 0x000001748714EFC0>,\n",
       "                                        'randomforestclassifier__min_samples_split': <scipy.stats._distn_infrastructure.rv_discrete_frozen object at 0x000001748714CA10>,\n",
       "                                        'randomforestclassifier__n_estimators': <scipy.stats._distn_infrastructure.rv_discrete_frozen object at 0x000001748714DA90>},\n",
       "                   random_state=42, scoring='f1', verbose=2)"
      ]
     },
     "execution_count": 90,
     "metadata": {},
     "output_type": "execute_result"
    }
   ],
   "source": [
    "random_search = RandomizedSearchCV(pipeline, param_distributions=param_space, n_iter=100, scoring='f1', n_jobs=-1, cv=kf, verbose=2, random_state=42)\n",
    "random_search.fit(X_train, y_train)\n",
    "\n"
   ]
  },
  {
   "cell_type": "code",
   "execution_count": 91,
   "metadata": {},
   "outputs": [
    {
     "name": "stdout",
     "output_type": "stream",
     "text": [
      "Best Parameters: {'randomforestclassifier__max_depth': 27, 'randomforestclassifier__max_features': 'sqrt', 'randomforestclassifier__min_samples_leaf': 1, 'randomforestclassifier__min_samples_split': 3, 'randomforestclassifier__n_estimators': 179}\n",
      "Best CV F1 score on Training Data: 0.576\n"
     ]
    }
   ],
   "source": [
    "print(f\"Best Parameters: {random_search.best_params_}\")\n",
    "\n",
    "print(\"Best CV F1 score on Training Data: {:.3f}\".format(random_search.best_score_))\n",
    "\n",
    "best_pipeline = random_search.best_estimator_"
   ]
  },
  {
   "cell_type": "markdown",
   "metadata": {},
   "source": [
    "Okay, hyperparameter tuning has given an extra 1% absolute increase in cross-validated F1 score on our training data. \n",
    "\n",
    "I think it's finally time to see what happens when we predict on the testing data."
   ]
  },
  {
   "cell_type": "code",
   "execution_count": 92,
   "metadata": {},
   "outputs": [
    {
     "name": "stdout",
     "output_type": "stream",
     "text": [
      "Classification Report for the Tuned Model:\n",
      "              precision    recall  f1-score   support\n",
      "\n",
      "           0       0.74      0.88      0.80      2004\n",
      "           1       0.44      0.23      0.31       810\n",
      "\n",
      "    accuracy                           0.69      2814\n",
      "   macro avg       0.59      0.56      0.56      2814\n",
      "weighted avg       0.65      0.69      0.66      2814\n",
      "\n",
      "Test Accuracy after Hyperparameter Tuning: 0.3067\n"
     ]
    }
   ],
   "source": [
    "# Evaluate the tuned pipeline on the test set\n",
    "y_pred = best_pipeline.predict(X_test)\n",
    "\n",
    "print(\"Classification Report for the Tuned Model:\")\n",
    "print(classification_report(y_test, y_pred))\n",
    "\n",
    "# Test accuracy\n",
    "accuracy = f1_score(y_test, y_pred)\n",
    "print(f\"Test Accuracy after Hyperparameter Tuning: {accuracy:.4f}\")"
   ]
  },
  {
   "cell_type": "markdown",
   "metadata": {},
   "source": [
    "___\n",
    "\n",
    "# Our results:\n",
    "\n",
    "Okay, we've got a 0.43 F1 score on our testing data set. This isn't great, but our dummy classifier was around 0.28. This means our feature engineering and selection has lead to a 54% increase in our scoring metric.\n",
    "\n",
    "\n",
    "Once last thing that I'd like to do: our model has set a default threshold of 0.5 to determine the classification of the predictions. Is this optimal for our case? \n",
    "\n",
    "Precision is important as we want to be confident about our severe collisions predictions. If we have limited resources for intervention, we don't want to expend them when we arnen't confident.\n",
    "\n",
    "Recall is important as we want to identify as many severe collisions as possible, even at the cost of some false positives.\n",
    "\n",
    "F1 score has been used to balance these two things, however, we could consider recall to be the most important metric in this case. \n",
    "\n",
    "Let's see if we can adjust our threshold to boost the recall.\n",
    "\n",
    "___"
   ]
  },
  {
   "cell_type": "code",
   "execution_count": 93,
   "metadata": {},
   "outputs": [
    {
     "data": {
      "image/png": "[encoded data removed]",
      "text/plain": [
       "<Figure size 640x480 with 1 Axes>"
      ]
     },
     "metadata": {},
     "output_type": "display_data"
    }
   ],
   "source": [
    "from sklearn.metrics import precision_recall_curve\n",
    "import matplotlib.pyplot as plt\n",
    "\n",
    "\n",
    "y_proba = best_pipeline.predict_proba(X_test)[:, 1]\n",
    "\n",
    "\n",
    "# Compute precision-recall values\n",
    "precision, recall, thresholds = precision_recall_curve(y_test, y_proba)\n",
    "\n",
    "# Plot Precision-Recall Curve\n",
    "plt.plot(thresholds, precision[:-1], label=\"Precision\")\n",
    "plt.plot(thresholds, recall[:-1], label=\"Recall\")\n",
    "plt.xlabel(\"Threshold\")\n",
    "plt.ylabel(\"Score\")\n",
    "plt.legend()\n",
    "plt.title(\"Precision-Recall vs Threshold\")\n",
    "plt.show()"
   ]
  },
  {
   "cell_type": "code",
   "execution_count": 94,
   "metadata": {},
   "outputs": [
    {
     "name": "stdout",
     "output_type": "stream",
     "text": [
      "Best Threshold: 0.16999999999999998\n",
      "Best F1 Score: 0.47591660675772823\n"
     ]
    }
   ],
   "source": [
    "best_threshold = 0\n",
    "best_f1 = 0\n",
    "\n",
    "for t in np.arange(0.1, 0.9, 0.01):  # Test thresholds from 0.1 to 0.9\n",
    "    y_pred = (y_proba >= t).astype(int)\n",
    "    f1 = f1_score(y_test, y_pred)\n",
    "    if f1 > best_f1:\n",
    "        best_f1 = f1\n",
    "        best_threshold = t\n",
    "\n",
    "print(\"Best Threshold:\", best_threshold)\n",
    "print(\"Best F1 Score:\", best_f1)"
   ]
  },
  {
   "cell_type": "markdown",
   "metadata": {},
   "source": [
    "## Okay, with a threshold of 0.24 we've actually boosted our F1 score AND improved our recall. This gives us a final result of:"
   ]
  },
  {
   "cell_type": "code",
   "execution_count": 95,
   "metadata": {},
   "outputs": [
    {
     "name": "stdout",
     "output_type": "stream",
     "text": [
      "              precision    recall  f1-score   support\n",
      "\n",
      "           0       0.82      0.35      0.49      2004\n",
      "           1       0.34      0.82      0.48       810\n",
      "\n",
      "    accuracy                           0.48      2814\n",
      "   macro avg       0.58      0.58      0.48      2814\n",
      "weighted avg       0.68      0.48      0.48      2814\n",
      "\n"
     ]
    }
   ],
   "source": [
    "threshold = best_threshold\n",
    "y_pred_custom = (y_proba >= best_threshold).astype(int)\n",
    "print(classification_report(y_test, y_pred_custom))"
   ]
  },
  {
   "cell_type": "markdown",
   "metadata": {},
   "source": [
    "## Let's use SHAP to interpret our model."
   ]
  },
  {
   "cell_type": "code",
   "execution_count": 96,
   "metadata": {},
   "outputs": [
    {
     "data": {
      "text/plain": [
       "(55,)"
      ]
     },
     "execution_count": 96,
     "metadata": {},
     "output_type": "execute_result"
    }
   ],
   "source": [
    "best_pipeline.named_steps['randomforestclassifier'].feature_importances_.shape"
   ]
  },
  {
   "cell_type": "code",
   "execution_count": 97,
   "metadata": {},
   "outputs": [
    {
     "data": {
      "text/plain": [
       "Index(['number_of_vehicles', 'number_of_casualties', 'speed_limit',\n",
       "       'urban_or_rural_area', 'trunk_road_flag', 'sex_of_casualty',\n",
       "       'age_band_of_casualty', 'high_winds', 'pedestrian_in_carriageway',\n",
       "       'rushhour', 'nighttime', 'weekend', 'first_road_class_A',\n",
       "       'first_road_class_B', 'first_road_class_C', 'first_road_class_Motorway',\n",
       "       'first_road_class_Unclassified', 'road_type_Dual carriageway',\n",
       "       'road_type_One way street', 'road_type_Roundabout',\n",
       "       'road_type_Single carriageway', 'road_type_Slip road',\n",
       "       'junction_detail_Crossroads', 'junction_detail_Mini-roundabout',\n",
       "       'junction_detail_More than 4 arms (not roundabout)',\n",
       "       'junction_detail_Not at junction or within 20 metres',\n",
       "       'junction_detail_Other', 'junction_detail_Private drive or entrance',\n",
       "       'junction_detail_Roundabout', 'junction_detail_Slip road',\n",
       "       'junction_detail_T or staggered junction', 'second_road_class_A',\n",
       "       'second_road_class_B', 'second_road_class_C',\n",
       "       'second_road_class_Motorway',\n",
       "       'second_road_class_Not at junction or within 20 metres',\n",
       "       'second_road_class_Unclassified',\n",
       "       'pedestrian_crossing_physical_facilities_Central refuge',\n",
       "       'pedestrian_crossing_physical_facilities_No physical crossing facilities within 50 metres',\n",
       "       'pedestrian_crossing_physical_facilities_Pedestrian phase at traffic signal junction',\n",
       "       'pedestrian_crossing_physical_facilities_Pelican, puffin, toucan or similar non-junction pedestrian light crossing',\n",
       "       'pedestrian_crossing_physical_facilities_Zebra',\n",
       "       'light_conditions_Darkness', 'light_conditions_Darkness - lights lit',\n",
       "       'light_conditions_Daylight', 'casualty_type_Car driver',\n",
       "       'casualty_type_Car front seat passenger',\n",
       "       'casualty_type_Car rear seat passenger', 'casualty_type_Cyclist',\n",
       "       'casualty_type_Large vehicle driver',\n",
       "       'casualty_type_Large vehicle passenger',\n",
       "       'casualty_type_Motorcycle passenger', 'casualty_type_Motorcycle rider',\n",
       "       'casualty_type_Other', 'casualty_type_Pedestrian'],\n",
       "      dtype='object')"
      ]
     },
     "execution_count": 97,
     "metadata": {},
     "output_type": "execute_result"
    }
   ],
   "source": [
    "feature_names"
   ]
  },
  {
   "cell_type": "code",
   "execution_count": 98,
   "metadata": {},
   "outputs": [
    {
     "name": "stdout",
     "output_type": "stream",
     "text": [
      "                                              Feature  Importance\n",
      "6                                age_band_of_casualty    0.164311\n",
      "1                                number_of_casualties    0.080713\n",
      "2                                         speed_limit    0.067686\n",
      "0                                  number_of_vehicles    0.063144\n",
      "11                                            weekend    0.035628\n",
      "9                                            rushhour    0.034825\n",
      "5                                     sex_of_casualty    0.030665\n",
      "3                                 urban_or_rural_area    0.028536\n",
      "12                                 first_road_class_A    0.025294\n",
      "16                      first_road_class_Unclassified    0.024159\n",
      "52                     casualty_type_Motorcycle rider    0.023919\n",
      "45                           casualty_type_Car driver    0.023625\n",
      "10                                          nighttime    0.019998\n",
      "44                          light_conditions_Daylight    0.018955\n",
      "13                                 first_road_class_B    0.018889\n",
      "30            junction_detail_T or staggered junction    0.018206\n",
      "38  pedestrian_crossing_physical_facilities_No phy...    0.017480\n",
      "43             light_conditions_Darkness - lights lit    0.017298\n",
      "36                     second_road_class_Unclassified    0.016603\n",
      "22                         junction_detail_Crossroads    0.015502\n",
      "26                              junction_detail_Other    0.014479\n",
      "20                       road_type_Single carriageway    0.013430\n",
      "7                                          high_winds    0.012517\n",
      "42                          light_conditions_Darkness    0.012417\n",
      "35  second_road_class_Not at junction or within 20...    0.012038\n",
      "25  junction_detail_Not at junction or within 20 m...    0.012024\n",
      "17                         road_type_Dual carriageway    0.011814\n",
      "46             casualty_type_Car front seat passenger    0.011317\n",
      "8                           pedestrian_in_carriageway    0.010664\n",
      "54                           casualty_type_Pedestrian    0.010346\n",
      "31                                second_road_class_A    0.010225\n",
      "32                                second_road_class_B    0.010078\n",
      "40  pedestrian_crossing_physical_facilities_Pelica...    0.009131\n",
      "39  pedestrian_crossing_physical_facilities_Pedest...    0.009105\n",
      "41      pedestrian_crossing_physical_facilities_Zebra    0.008554\n",
      "37  pedestrian_crossing_physical_facilities_Centra...    0.008551\n",
      "48                              casualty_type_Cyclist    0.008348\n",
      "47              casualty_type_Car rear seat passenger    0.007130\n",
      "49                 casualty_type_Large vehicle driver    0.006899\n",
      "4                                     trunk_road_flag    0.006401\n",
      "28                         junction_detail_Roundabout    0.005884\n",
      "19                               road_type_Roundabout    0.005208\n",
      "24  junction_detail_More than 4 arms (not roundabout)    0.005165\n",
      "50              casualty_type_Large vehicle passenger    0.005098\n",
      "53                                casualty_type_Other    0.004040\n",
      "27          junction_detail_Private drive or entrance    0.003643\n",
      "15                          first_road_class_Motorway    0.003545\n",
      "29                          junction_detail_Slip road    0.003170\n",
      "21                                road_type_Slip road    0.002901\n",
      "51                 casualty_type_Motorcycle passenger    0.002573\n",
      "14                                 first_road_class_C    0.002470\n",
      "23                    junction_detail_Mini-roundabout    0.001885\n",
      "33                                second_road_class_C    0.001349\n",
      "18                           road_type_One way street    0.001307\n",
      "34                         second_road_class_Motorway    0.000859\n"
     ]
    }
   ],
   "source": [
    "importances = best_pipeline.named_steps['randomforestclassifier'].feature_importances_\n",
    "feature_names = X_train.columns\n",
    "\n",
    "\n",
    "# Create a DataFrame for easy visualization\n",
    "feature_importance_df = pd.DataFrame({\n",
    "    'Feature': feature_names,\n",
    "    'Importance': importances\n",
    "})\n",
    "\n",
    "# Sort the features by importance in descending order\n",
    "feature_importance_df = feature_importance_df.sort_values(by='Importance', ascending=False)\n",
    "\n",
    "# Display the feature importances with their names\n",
    "print(feature_importance_df)"
   ]
  },
  {
   "cell_type": "code",
   "execution_count": null,
   "metadata": {},
   "outputs": [],
   "source": []
  },
  {
   "cell_type": "code",
   "execution_count": null,
   "metadata": {},
   "outputs": [],
   "source": []
  }
 ],
 "metadata": {
  "kernelspec": {
   "display_name": "DfT_project_env",
   "language": "python",
   "name": "python3"
  },
  "language_info": {
   "codemirror_mode": {
    "name": "ipython",
    "version": 3
   },
   "file_extension": ".py",
   "mimetype": "text/x-python",
   "name": "python",
   "nbconvert_exporter": "python",
   "pygments_lexer": "ipython3",
   "version": "3.12.0"
  }
 },
 "nbformat": 4,
 "nbformat_minor": 2
}
