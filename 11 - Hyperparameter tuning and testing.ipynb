{
 "cells": [
  {
   "cell_type": "markdown",
   "metadata": {},
   "source": [
    "# 11 - Modelling, hyperparameter tuning, and test data.\n",
    "\n",
    "It's been a ride! Let's tune our model and check how it does on the testing data, comparing it to our dummy model."
   ]
  },
  {
   "cell_type": "code",
   "execution_count": 11,
   "metadata": {},
   "outputs": [],
   "source": [
    "import pandas as pd\n",
    "import numpy as np\n",
    "\n",
    "from sklearn.ensemble import RandomForestClassifier\n",
    "from xgboost import XGBClassifier\n",
    "\n",
    "\n",
    "from sklearn.model_selection import cross_val_score\n",
    "from sklearn.model_selection import StratifiedGroupKFold\n",
    "\n",
    "from imblearn.under_sampling import RandomUnderSampler\n",
    "\n",
    "from imblearn.pipeline import make_pipeline\n",
    "from sklearn.metrics import classification_report, f1_score\n",
    "from scipy.stats import randint\n",
    "\n",
    "from sklearn.model_selection import RandomizedSearchCV\n",
    "\n",
    "from warnings import simplefilter\n",
    "simplefilter(\"ignore\", category=UserWarning)"
   ]
  },
  {
   "cell_type": "code",
   "execution_count": 12,
   "metadata": {},
   "outputs": [],
   "source": [
    "train = pd.read_csv('encoded_train.csv')\n",
    "test = pd.read_csv('encoded_test.csv')\n",
    "\n",
    "groups = train['accident_index'].copy().tolist()\n",
    "\n",
    "y_train = train['casualty_severity']\n",
    "X_train = train.drop(['casualty_severity', 'accident_index'], axis=1)\n",
    "\n",
    "y_test = test['casualty_severity']\n",
    "X_test = test.drop(['casualty_severity', 'accident_index'], axis=1)"
   ]
  },
  {
   "cell_type": "code",
   "execution_count": 13,
   "metadata": {},
   "outputs": [
    {
     "data": {
      "text/html": [
       "<div>\n",
       "<style scoped>\n",
       "    .dataframe tbody tr th:only-of-type {\n",
       "        vertical-align: middle;\n",
       "    }\n",
       "\n",
       "    .dataframe tbody tr th {\n",
       "        vertical-align: top;\n",
       "    }\n",
       "\n",
       "    .dataframe thead th {\n",
       "        text-align: right;\n",
       "    }\n",
       "</style>\n",
       "<table border=\"1\" class=\"dataframe\">\n",
       "  <thead>\n",
       "    <tr style=\"text-align: right;\">\n",
       "      <th></th>\n",
       "      <th>number_of_vehicles</th>\n",
       "      <th>number_of_casualties</th>\n",
       "      <th>first_road_class</th>\n",
       "      <th>road_type</th>\n",
       "      <th>speed_limit</th>\n",
       "      <th>junction_detail</th>\n",
       "      <th>second_road_class</th>\n",
       "      <th>pedestrian_crossing_physical_facilities</th>\n",
       "      <th>light_conditions</th>\n",
       "      <th>urban_or_rural_area</th>\n",
       "      <th>trunk_road_flag</th>\n",
       "      <th>sex_of_casualty</th>\n",
       "      <th>age_band_of_casualty</th>\n",
       "      <th>casualty_type</th>\n",
       "      <th>high_winds</th>\n",
       "      <th>pedestrian_in_carriageway</th>\n",
       "      <th>rushhour</th>\n",
       "      <th>nighttime</th>\n",
       "      <th>weekend</th>\n",
       "    </tr>\n",
       "  </thead>\n",
       "  <tbody>\n",
       "    <tr>\n",
       "      <th>0</th>\n",
       "      <td>0.252679</td>\n",
       "      <td>0.304636</td>\n",
       "      <td>0.275732</td>\n",
       "      <td>0.3081</td>\n",
       "      <td>0.294521</td>\n",
       "      <td>0.300993</td>\n",
       "      <td>0.300993</td>\n",
       "      <td>0.28465</td>\n",
       "      <td>0.262131</td>\n",
       "      <td>0</td>\n",
       "      <td>0</td>\n",
       "      <td>0</td>\n",
       "      <td>0.234136</td>\n",
       "      <td>0.307692</td>\n",
       "      <td>0</td>\n",
       "      <td>0</td>\n",
       "      <td>0</td>\n",
       "      <td>0</td>\n",
       "      <td>1</td>\n",
       "    </tr>\n",
       "    <tr>\n",
       "      <th>1</th>\n",
       "      <td>0.398473</td>\n",
       "      <td>0.304636</td>\n",
       "      <td>0.311237</td>\n",
       "      <td>0.3081</td>\n",
       "      <td>0.294521</td>\n",
       "      <td>0.299270</td>\n",
       "      <td>0.204082</td>\n",
       "      <td>0.28465</td>\n",
       "      <td>0.262131</td>\n",
       "      <td>0</td>\n",
       "      <td>0</td>\n",
       "      <td>1</td>\n",
       "      <td>0.319876</td>\n",
       "      <td>0.388626</td>\n",
       "      <td>0</td>\n",
       "      <td>1</td>\n",
       "      <td>0</td>\n",
       "      <td>0</td>\n",
       "      <td>0</td>\n",
       "    </tr>\n",
       "    <tr>\n",
       "      <th>2</th>\n",
       "      <td>0.252679</td>\n",
       "      <td>0.304636</td>\n",
       "      <td>0.311237</td>\n",
       "      <td>0.3081</td>\n",
       "      <td>0.288991</td>\n",
       "      <td>0.299270</td>\n",
       "      <td>0.301141</td>\n",
       "      <td>0.28465</td>\n",
       "      <td>0.347889</td>\n",
       "      <td>0</td>\n",
       "      <td>0</td>\n",
       "      <td>0</td>\n",
       "      <td>0.243243</td>\n",
       "      <td>0.221841</td>\n",
       "      <td>0</td>\n",
       "      <td>0</td>\n",
       "      <td>0</td>\n",
       "      <td>1</td>\n",
       "      <td>1</td>\n",
       "    </tr>\n",
       "    <tr>\n",
       "      <th>3</th>\n",
       "      <td>0.398473</td>\n",
       "      <td>0.304636</td>\n",
       "      <td>0.311237</td>\n",
       "      <td>0.3081</td>\n",
       "      <td>0.294521</td>\n",
       "      <td>0.305466</td>\n",
       "      <td>0.301141</td>\n",
       "      <td>0.28465</td>\n",
       "      <td>0.320346</td>\n",
       "      <td>0</td>\n",
       "      <td>0</td>\n",
       "      <td>0</td>\n",
       "      <td>0.247261</td>\n",
       "      <td>0.388626</td>\n",
       "      <td>0</td>\n",
       "      <td>1</td>\n",
       "      <td>0</td>\n",
       "      <td>1</td>\n",
       "      <td>0</td>\n",
       "    </tr>\n",
       "    <tr>\n",
       "      <th>4</th>\n",
       "      <td>0.252679</td>\n",
       "      <td>0.304636</td>\n",
       "      <td>0.311237</td>\n",
       "      <td>0.3081</td>\n",
       "      <td>0.294521</td>\n",
       "      <td>0.299270</td>\n",
       "      <td>0.301141</td>\n",
       "      <td>0.28465</td>\n",
       "      <td>0.262131</td>\n",
       "      <td>0</td>\n",
       "      <td>0</td>\n",
       "      <td>1</td>\n",
       "      <td>0.243243</td>\n",
       "      <td>0.221841</td>\n",
       "      <td>0</td>\n",
       "      <td>0</td>\n",
       "      <td>1</td>\n",
       "      <td>0</td>\n",
       "      <td>0</td>\n",
       "    </tr>\n",
       "  </tbody>\n",
       "</table>\n",
       "</div>"
      ],
      "text/plain": [
       "   number_of_vehicles  number_of_casualties  first_road_class  road_type  \\\n",
       "0            0.252679              0.304636          0.275732     0.3081   \n",
       "1            0.398473              0.304636          0.311237     0.3081   \n",
       "2            0.252679              0.304636          0.311237     0.3081   \n",
       "3            0.398473              0.304636          0.311237     0.3081   \n",
       "4            0.252679              0.304636          0.311237     0.3081   \n",
       "\n",
       "   speed_limit  junction_detail  second_road_class  \\\n",
       "0     0.294521         0.300993           0.300993   \n",
       "1     0.294521         0.299270           0.204082   \n",
       "2     0.288991         0.299270           0.301141   \n",
       "3     0.294521         0.305466           0.301141   \n",
       "4     0.294521         0.299270           0.301141   \n",
       "\n",
       "   pedestrian_crossing_physical_facilities  light_conditions  \\\n",
       "0                                  0.28465          0.262131   \n",
       "1                                  0.28465          0.262131   \n",
       "2                                  0.28465          0.347889   \n",
       "3                                  0.28465          0.320346   \n",
       "4                                  0.28465          0.262131   \n",
       "\n",
       "   urban_or_rural_area  trunk_road_flag  sex_of_casualty  \\\n",
       "0                    0                0                0   \n",
       "1                    0                0                1   \n",
       "2                    0                0                0   \n",
       "3                    0                0                0   \n",
       "4                    0                0                1   \n",
       "\n",
       "   age_band_of_casualty  casualty_type  high_winds  pedestrian_in_carriageway  \\\n",
       "0              0.234136       0.307692           0                          0   \n",
       "1              0.319876       0.388626           0                          1   \n",
       "2              0.243243       0.221841           0                          0   \n",
       "3              0.247261       0.388626           0                          1   \n",
       "4              0.243243       0.221841           0                          0   \n",
       "\n",
       "   rushhour  nighttime  weekend  \n",
       "0         0          0        1  \n",
       "1         0          0        0  \n",
       "2         0          1        1  \n",
       "3         0          1        0  \n",
       "4         1          0        0  "
      ]
     },
     "execution_count": 13,
     "metadata": {},
     "output_type": "execute_result"
    }
   ],
   "source": [
    "X_test.head()"
   ]
  },
  {
   "cell_type": "code",
   "execution_count": 17,
   "metadata": {},
   "outputs": [
    {
     "name": "stdout",
     "output_type": "stream",
     "text": [
      "The mean F1 score for 5-fold stratified cross-validation on our randomly oversampled dataset is 0.44\n"
     ]
    }
   ],
   "source": [
    "pipeline = make_pipeline(RandomUnderSampler(random_state=42),\n",
    "                         RandomForestClassifier())\n",
    "\n",
    "sgkf = StratifiedGroupKFold(n_splits=5, shuffle=True)\n",
    "mean_score = cross_val_score(pipeline, X_train, y_train, scoring='f1', cv=sgkf, groups=groups).mean()\n",
    "print(\"The mean F1 score for 5-fold stratified cross-validation on our randomly oversampled dataset is {:.2f}\".format(mean_score))\n"
   ]
  },
  {
   "cell_type": "code",
   "execution_count": 18,
   "metadata": {},
   "outputs": [
    {
     "name": "stdout",
     "output_type": "stream",
     "text": [
      "Classification Report for the Tuned Model:\n",
      "              precision    recall  f1-score   support\n",
      "\n",
      "           0       0.81      0.51      0.63      2004\n",
      "           1       0.37      0.70      0.48       810\n",
      "\n",
      "    accuracy                           0.57      2814\n",
      "   macro avg       0.59      0.61      0.55      2814\n",
      "weighted avg       0.68      0.57      0.59      2814\n",
      "\n",
      "Test F1 before Hyperparameter Tuning: 0.4824\n"
     ]
    }
   ],
   "source": [
    "# Evaluate the tuned pipeline on the test set\n",
    "clf = pipeline.fit(X_train, y_train)\n",
    "y_pred = clf.predict(X_test)\n",
    "\n",
    "print(\"Classification Report for the Tuned Model:\")\n",
    "print(classification_report(y_test, y_pred))\n",
    "\n",
    "# Test accuracy\n",
    "accuracy = f1_score(y_test, y_pred)\n",
    "print(f\"Test F1 before Hyperparameter Tuning: {accuracy:.4f}\")"
   ]
  },
  {
   "cell_type": "markdown",
   "metadata": {},
   "source": [
    "Okay, let's try and boost that number a little bit.\n"
   ]
  },
  {
   "cell_type": "code",
   "execution_count": 19,
   "metadata": {},
   "outputs": [],
   "source": [
    "param_space= {\n",
    "    'randomforestclassifier__n_estimators': randint(50, 500),  # Number of trees in the forest\n",
    "    'randomforestclassifier__max_depth': [None] + list(range(5, 31, 1)),  # Depth of the trees\n",
    "    'randomforestclassifier__min_samples_split': randint(2, 20),  # Minimum samples required to split\n",
    "    'randomforestclassifier__min_samples_leaf': randint(1, 10),  # Minimum samples required per leaf\n",
    "    'randomforestclassifier__max_features': ['sqrt', 'log2', None]  # Number of features to consider for the best split\n",
    "}"
   ]
  },
  {
   "cell_type": "code",
   "execution_count": 21,
   "metadata": {},
   "outputs": [
    {
     "name": "stdout",
     "output_type": "stream",
     "text": [
      "Fitting 5 folds for each of 100 candidates, totalling 500 fits\n"
     ]
    },
    {
     "data": {
      "text/html": [
       "<style>#sk-container-id-1 {color: black;}#sk-container-id-1 pre{padding: 0;}#sk-container-id-1 div.sk-toggleable {background-color: white;}#sk-container-id-1 label.sk-toggleable__label {cursor: pointer;display: block;width: 100%;margin-bottom: 0;padding: 0.3em;box-sizing: border-box;text-align: center;}#sk-container-id-1 label.sk-toggleable__label-arrow:before {content: \"▸\";float: left;margin-right: 0.25em;color: #696969;}#sk-container-id-1 label.sk-toggleable__label-arrow:hover:before {color: black;}#sk-container-id-1 div.sk-estimator:hover label.sk-toggleable__label-arrow:before {color: black;}#sk-container-id-1 div.sk-toggleable__content {max-height: 0;max-width: 0;overflow: hidden;text-align: left;background-color: #f0f8ff;}#sk-container-id-1 div.sk-toggleable__content pre {margin: 0.2em;color: black;border-radius: 0.25em;background-color: #f0f8ff;}#sk-container-id-1 input.sk-toggleable__control:checked~div.sk-toggleable__content {max-height: 200px;max-width: 100%;overflow: auto;}#sk-container-id-1 input.sk-toggleable__control:checked~label.sk-toggleable__label-arrow:before {content: \"▾\";}#sk-container-id-1 div.sk-estimator input.sk-toggleable__control:checked~label.sk-toggleable__label {background-color: #d4ebff;}#sk-container-id-1 div.sk-label input.sk-toggleable__control:checked~label.sk-toggleable__label {background-color: #d4ebff;}#sk-container-id-1 input.sk-hidden--visually {border: 0;clip: rect(1px 1px 1px 1px);clip: rect(1px, 1px, 1px, 1px);height: 1px;margin: -1px;overflow: hidden;padding: 0;position: absolute;width: 1px;}#sk-container-id-1 div.sk-estimator {font-family: monospace;background-color: #f0f8ff;border: 1px dotted black;border-radius: 0.25em;box-sizing: border-box;margin-bottom: 0.5em;}#sk-container-id-1 div.sk-estimator:hover {background-color: #d4ebff;}#sk-container-id-1 div.sk-parallel-item::after {content: \"\";width: 100%;border-bottom: 1px solid gray;flex-grow: 1;}#sk-container-id-1 div.sk-label:hover label.sk-toggleable__label {background-color: #d4ebff;}#sk-container-id-1 div.sk-serial::before {content: \"\";position: absolute;border-left: 1px solid gray;box-sizing: border-box;top: 0;bottom: 0;left: 50%;z-index: 0;}#sk-container-id-1 div.sk-serial {display: flex;flex-direction: column;align-items: center;background-color: white;padding-right: 0.2em;padding-left: 0.2em;position: relative;}#sk-container-id-1 div.sk-item {position: relative;z-index: 1;}#sk-container-id-1 div.sk-parallel {display: flex;align-items: stretch;justify-content: center;background-color: white;position: relative;}#sk-container-id-1 div.sk-item::before, #sk-container-id-1 div.sk-parallel-item::before {content: \"\";position: absolute;border-left: 1px solid gray;box-sizing: border-box;top: 0;bottom: 0;left: 50%;z-index: -1;}#sk-container-id-1 div.sk-parallel-item {display: flex;flex-direction: column;z-index: 1;position: relative;background-color: white;}#sk-container-id-1 div.sk-parallel-item:first-child::after {align-self: flex-end;width: 50%;}#sk-container-id-1 div.sk-parallel-item:last-child::after {align-self: flex-start;width: 50%;}#sk-container-id-1 div.sk-parallel-item:only-child::after {width: 0;}#sk-container-id-1 div.sk-dashed-wrapped {border: 1px dashed gray;margin: 0 0.4em 0.5em 0.4em;box-sizing: border-box;padding-bottom: 0.4em;background-color: white;}#sk-container-id-1 div.sk-label label {font-family: monospace;font-weight: bold;display: inline-block;line-height: 1.2em;}#sk-container-id-1 div.sk-label-container {text-align: center;}#sk-container-id-1 div.sk-container {/* jupyter's `normalize.less` sets `[hidden] { display: none; }` but bootstrap.min.css set `[hidden] { display: none !important; }` so we also need the `!important` here to be able to override the default hidden behavior on the sphinx rendered scikit-learn.org. See: https://github.com/scikit-learn/scikit-learn/issues/21755 */display: inline-block !important;position: relative;}#sk-container-id-1 div.sk-text-repr-fallback {display: none;}</style><div id=\"sk-container-id-1\" class=\"sk-top-container\"><div class=\"sk-text-repr-fallback\"><pre>RandomizedSearchCV(cv=StratifiedGroupKFold(n_splits=5, random_state=None, shuffle=True),\n",
       "                   estimator=Pipeline(steps=[(&#x27;randomundersampler&#x27;,\n",
       "                                              RandomUnderSampler(random_state=42)),\n",
       "                                             (&#x27;randomforestclassifier&#x27;,\n",
       "                                              RandomForestClassifier())]),\n",
       "                   n_iter=100, n_jobs=-1,\n",
       "                   param_distributions={&#x27;randomforestclassifier__max_depth&#x27;: [None,\n",
       "                                                                              5,\n",
       "                                                                              6,\n",
       "                                                                              7,\n",
       "                                                                              8,\n",
       "                                                                              9,\n",
       "                                                                              10,\n",
       "                                                                              11,\n",
       "                                                                              12,\n",
       "                                                                              13,\n",
       "                                                                              14,\n",
       "                                                                              15,\n",
       "                                                                              16,\n",
       "                                                                              17,\n",
       "                                                                              18,\n",
       "                                                                              19,\n",
       "                                                                              2...\n",
       "                                        &#x27;randomforestclassifier__min_samples_leaf&#x27;: &lt;scipy.stats._distn_infrastructure.rv_discrete_frozen object at 0x00000204B56116A0&gt;,\n",
       "                                        &#x27;randomforestclassifier__min_samples_split&#x27;: &lt;scipy.stats._distn_infrastructure.rv_discrete_frozen object at 0x00000204B56118B0&gt;,\n",
       "                                        &#x27;randomforestclassifier__n_estimators&#x27;: &lt;scipy.stats._distn_infrastructure.rv_discrete_frozen object at 0x00000204B555A090&gt;},\n",
       "                   random_state=42, scoring=&#x27;f1&#x27;, verbose=2)</pre><b>In a Jupyter environment, please rerun this cell to show the HTML representation or trust the notebook. <br />On GitHub, the HTML representation is unable to render, please try loading this page with nbviewer.org.</b></div><div class=\"sk-container\" hidden><div class=\"sk-item sk-dashed-wrapped\"><div class=\"sk-label-container\"><div class=\"sk-label sk-toggleable\"><input class=\"sk-toggleable__control sk-hidden--visually\" id=\"sk-estimator-id-1\" type=\"checkbox\" ><label for=\"sk-estimator-id-1\" class=\"sk-toggleable__label sk-toggleable__label-arrow\">RandomizedSearchCV</label><div class=\"sk-toggleable__content\"><pre>RandomizedSearchCV(cv=StratifiedGroupKFold(n_splits=5, random_state=None, shuffle=True),\n",
       "                   estimator=Pipeline(steps=[(&#x27;randomundersampler&#x27;,\n",
       "                                              RandomUnderSampler(random_state=42)),\n",
       "                                             (&#x27;randomforestclassifier&#x27;,\n",
       "                                              RandomForestClassifier())]),\n",
       "                   n_iter=100, n_jobs=-1,\n",
       "                   param_distributions={&#x27;randomforestclassifier__max_depth&#x27;: [None,\n",
       "                                                                              5,\n",
       "                                                                              6,\n",
       "                                                                              7,\n",
       "                                                                              8,\n",
       "                                                                              9,\n",
       "                                                                              10,\n",
       "                                                                              11,\n",
       "                                                                              12,\n",
       "                                                                              13,\n",
       "                                                                              14,\n",
       "                                                                              15,\n",
       "                                                                              16,\n",
       "                                                                              17,\n",
       "                                                                              18,\n",
       "                                                                              19,\n",
       "                                                                              2...\n",
       "                                        &#x27;randomforestclassifier__min_samples_leaf&#x27;: &lt;scipy.stats._distn_infrastructure.rv_discrete_frozen object at 0x00000204B56116A0&gt;,\n",
       "                                        &#x27;randomforestclassifier__min_samples_split&#x27;: &lt;scipy.stats._distn_infrastructure.rv_discrete_frozen object at 0x00000204B56118B0&gt;,\n",
       "                                        &#x27;randomforestclassifier__n_estimators&#x27;: &lt;scipy.stats._distn_infrastructure.rv_discrete_frozen object at 0x00000204B555A090&gt;},\n",
       "                   random_state=42, scoring=&#x27;f1&#x27;, verbose=2)</pre></div></div></div><div class=\"sk-parallel\"><div class=\"sk-parallel-item\"><div class=\"sk-item\"><div class=\"sk-label-container\"><div class=\"sk-label sk-toggleable\"><input class=\"sk-toggleable__control sk-hidden--visually\" id=\"sk-estimator-id-2\" type=\"checkbox\" ><label for=\"sk-estimator-id-2\" class=\"sk-toggleable__label sk-toggleable__label-arrow\">estimator: Pipeline</label><div class=\"sk-toggleable__content\"><pre>Pipeline(steps=[(&#x27;randomundersampler&#x27;, RandomUnderSampler(random_state=42)),\n",
       "                (&#x27;randomforestclassifier&#x27;, RandomForestClassifier())])</pre></div></div></div><div class=\"sk-serial\"><div class=\"sk-item\"><div class=\"sk-serial\"><div class=\"sk-item\"><div class=\"sk-estimator sk-toggleable\"><input class=\"sk-toggleable__control sk-hidden--visually\" id=\"sk-estimator-id-3\" type=\"checkbox\" ><label for=\"sk-estimator-id-3\" class=\"sk-toggleable__label sk-toggleable__label-arrow\">RandomUnderSampler</label><div class=\"sk-toggleable__content\"><pre>RandomUnderSampler(random_state=42)</pre></div></div></div><div class=\"sk-item\"><div class=\"sk-estimator sk-toggleable\"><input class=\"sk-toggleable__control sk-hidden--visually\" id=\"sk-estimator-id-4\" type=\"checkbox\" ><label for=\"sk-estimator-id-4\" class=\"sk-toggleable__label sk-toggleable__label-arrow\">RandomForestClassifier</label><div class=\"sk-toggleable__content\"><pre>RandomForestClassifier()</pre></div></div></div></div></div></div></div></div></div></div></div></div>"
      ],
      "text/plain": [
       "RandomizedSearchCV(cv=StratifiedGroupKFold(n_splits=5, random_state=None, shuffle=True),\n",
       "                   estimator=Pipeline(steps=[('randomundersampler',\n",
       "                                              RandomUnderSampler(random_state=42)),\n",
       "                                             ('randomforestclassifier',\n",
       "                                              RandomForestClassifier())]),\n",
       "                   n_iter=100, n_jobs=-1,\n",
       "                   param_distributions={'randomforestclassifier__max_depth': [None,\n",
       "                                                                              5,\n",
       "                                                                              6,\n",
       "                                                                              7,\n",
       "                                                                              8,\n",
       "                                                                              9,\n",
       "                                                                              10,\n",
       "                                                                              11,\n",
       "                                                                              12,\n",
       "                                                                              13,\n",
       "                                                                              14,\n",
       "                                                                              15,\n",
       "                                                                              16,\n",
       "                                                                              17,\n",
       "                                                                              18,\n",
       "                                                                              19,\n",
       "                                                                              2...\n",
       "                                        'randomforestclassifier__min_samples_leaf': <scipy.stats._distn_infrastructure.rv_discrete_frozen object at 0x00000204B56116A0>,\n",
       "                                        'randomforestclassifier__min_samples_split': <scipy.stats._distn_infrastructure.rv_discrete_frozen object at 0x00000204B56118B0>,\n",
       "                                        'randomforestclassifier__n_estimators': <scipy.stats._distn_infrastructure.rv_discrete_frozen object at 0x00000204B555A090>},\n",
       "                   random_state=42, scoring='f1', verbose=2)"
      ]
     },
     "execution_count": 21,
     "metadata": {},
     "output_type": "execute_result"
    }
   ],
   "source": [
    "random_search = RandomizedSearchCV(pipeline, param_distributions=param_space, n_iter=100, scoring='f1', n_jobs=-1, cv=sgkf, verbose=2, random_state=42)\n",
    "random_search.fit(X_train, y_train, groups=groups)\n",
    "\n"
   ]
  },
  {
   "cell_type": "code",
   "execution_count": 22,
   "metadata": {},
   "outputs": [
    {
     "name": "stdout",
     "output_type": "stream",
     "text": [
      "Best Parameters: {'randomforestclassifier__max_depth': 12, 'randomforestclassifier__max_features': 'sqrt', 'randomforestclassifier__min_samples_leaf': 8, 'randomforestclassifier__min_samples_split': 18, 'randomforestclassifier__n_estimators': 351}\n",
      "Best CV F1 score on Training Data: 0.491\n"
     ]
    }
   ],
   "source": [
    "print(f\"Best Parameters: {random_search.best_params_}\")\n",
    "\n",
    "print(\"Best CV F1 score on Training Data: {:.3f}\".format(random_search.best_score_))\n",
    "\n",
    "best_pipeline = random_search.best_estimator_"
   ]
  },
  {
   "cell_type": "markdown",
   "metadata": {},
   "source": [
    "Okay, hyperparameter tuning has given an extra 1% absolute increase in cross-validated F1 score on our training data. \n",
    "\n",
    "I think it's finally time to see what happens when we predict on the testing data."
   ]
  },
  {
   "cell_type": "code",
   "execution_count": 23,
   "metadata": {},
   "outputs": [
    {
     "name": "stdout",
     "output_type": "stream",
     "text": [
      "Classification Report for the Tuned Model:\n",
      "              precision    recall  f1-score   support\n",
      "\n",
      "           0       0.84      0.47      0.60      2004\n",
      "           1       0.37      0.77      0.50       810\n",
      "\n",
      "    accuracy                           0.56      2814\n",
      "   macro avg       0.60      0.62      0.55      2814\n",
      "weighted avg       0.70      0.56      0.57      2814\n",
      "\n",
      "Test F1 after Hyperparameter Tuning: 0.5020\n"
     ]
    }
   ],
   "source": [
    "# Evaluate the tuned pipeline on the test set\n",
    "y_pred = best_pipeline.predict(X_test)\n",
    "\n",
    "print(\"Classification Report for the Tuned Model:\")\n",
    "print(classification_report(y_test, y_pred))\n",
    "\n",
    "# Test accuracy\n",
    "accuracy = f1_score(y_test, y_pred)\n",
    "print(f\"Test F1 after Hyperparameter Tuning: {accuracy:.4f}\")"
   ]
  },
  {
   "cell_type": "markdown",
   "metadata": {},
   "source": [
    "___\n",
    "\n",
    "# Our results:\n",
    "\n",
    "Okay, we've got a 0.43 F1 score on our testing data set. This isn't great, but our dummy classifier was around 0.28. This means our feature engineering and selection has lead to a 54% increase in our scoring metric.\n",
    "\n",
    "\n",
    "Once last thing that I'd like to do: our model has set a default threshold of 0.5 to determine the classification of the predictions. Is this optimal for our case? \n",
    "\n",
    "Precision is important as we want to be confident about our severe collisions predictions. If we have limited resources for intervention, we don't want to expend them when we arnen't confident.\n",
    "\n",
    "Recall is important as we want to identify as many severe collisions as possible, even at the cost of some false positives.\n",
    "\n",
    "F1 score has been used to balance these two things, however, we could consider recall to be the most important metric in this case. \n",
    "\n",
    "Let's see if we can adjust our threshold to boost the recall.\n",
    "\n",
    "___"
   ]
  },
  {
   "cell_type": "code",
   "execution_count": 25,
   "metadata": {},
   "outputs": [
    {
     "data": {
      "image/png": "[encoded data removed]",
      "text/plain": [
       "<Figure size 640x480 with 1 Axes>"
      ]
     },
     "metadata": {},
     "output_type": "display_data"
    }
   ],
   "source": [
    "from sklearn.metrics import precision_recall_curve\n",
    "import matplotlib.pyplot as plt\n",
    "\n",
    "\n",
    "y_proba = best_pipeline.predict_proba(X_test)[:, 1]\n",
    "\n",
    "\n",
    "# Compute precision-recall values\n",
    "precision, recall, thresholds = precision_recall_curve(y_test, y_proba)\n",
    "\n",
    "# Plot Precision-Recall Curve\n",
    "plt.plot(thresholds, precision[:-1], label=\"Precision\")\n",
    "plt.plot(thresholds, recall[:-1], label=\"Recall\")\n",
    "plt.xlabel(\"Threshold\")\n",
    "plt.ylabel(\"Score\")\n",
    "plt.legend()\n",
    "plt.title(\"Precision-Recall vs Threshold\")\n",
    "plt.show()"
   ]
  },
  {
   "cell_type": "code",
   "execution_count": 29,
   "metadata": {},
   "outputs": [
    {
     "data": {
      "image/png": "[encoded data removed]",
      "text/plain": [
       "<Figure size 640x480 with 1 Axes>"
      ]
     },
     "metadata": {},
     "output_type": "display_data"
    }
   ],
   "source": [
    "from sklearn.metrics import PrecisionRecallDisplay\n",
    "\n",
    "display = PrecisionRecallDisplay.from_estimator(\n",
    "    best_pipeline, X_test, y_test, name=\"RFundersampled\", plot_chance_level=True)\n",
    "_ = display.ax_.set_title(\"2-class Precision-Recall curve\")"
   ]
  },
  {
   "cell_type": "markdown",
   "metadata": {},
   "source": [
    "## Let's use SHAP to interpret our model."
   ]
  },
  {
   "cell_type": "code",
   "execution_count": 143,
   "metadata": {},
   "outputs": [
    {
     "data": {
      "text/plain": [
       "(19,)"
      ]
     },
     "execution_count": 143,
     "metadata": {},
     "output_type": "execute_result"
    }
   ],
   "source": [
    "best_pipeline.named_steps['randomforestclassifier'].feature_importances_.shape"
   ]
  },
  {
   "cell_type": "markdown",
   "metadata": {},
   "source": [
    "---\n",
    "# Let's reduce the number of features"
   ]
  },
  {
   "cell_type": "code",
   "execution_count": 32,
   "metadata": {},
   "outputs": [
    {
     "name": "stdout",
     "output_type": "stream",
     "text": [
      "                                    Feature  Importance\n",
      "13                            casualty_type    0.209499\n",
      "12                     age_band_of_casualty    0.121991\n",
      "0                        number_of_vehicles    0.104942\n",
      "11                          sex_of_casualty    0.070602\n",
      "4                               speed_limit    0.068729\n",
      "5                           junction_detail    0.058422\n",
      "2                          first_road_class    0.050137\n",
      "1                      number_of_casualties    0.043913\n",
      "6                         second_road_class    0.042741\n",
      "3                                 road_type    0.037923\n",
      "8                          light_conditions    0.034386\n",
      "17                                nighttime    0.029354\n",
      "9                       urban_or_rural_area    0.025199\n",
      "16                                 rushhour    0.024830\n",
      "7   pedestrian_crossing_physical_facilities    0.023925\n",
      "18                                  weekend    0.023818\n",
      "15                pedestrian_in_carriageway    0.016622\n",
      "10                          trunk_road_flag    0.006944\n",
      "14                               high_winds    0.006021\n"
     ]
    }
   ],
   "source": [
    "importances = best_pipeline.named_steps['randomforestclassifier'].feature_importances_\n",
    "feature_names = X_train.columns\n",
    "\n",
    "\n",
    "# Create a DataFrame for easy visualization\n",
    "feature_importance_df = pd.DataFrame({\n",
    "    'Feature': feature_names,\n",
    "    'Importance': importances\n",
    "})\n",
    "\n",
    "# Sort the features by importance in descending order\n",
    "feature_importance_df = feature_importance_df.sort_values(by='Importance', ascending=False)\n",
    "\n",
    "# Display the feature importances with their names\n",
    "print(feature_importance_df)"
   ]
  },
  {
   "cell_type": "code",
   "execution_count": 37,
   "metadata": {},
   "outputs": [
    {
     "name": "stdout",
     "output_type": "stream",
     "text": [
      "['casualty_type'] \n",
      "\n",
      "['casualty_type', 'age_band_of_casualty'] \n",
      "\n",
      "['casualty_type', 'age_band_of_casualty', 'number_of_vehicles'] \n",
      "\n",
      "['casualty_type', 'age_band_of_casualty', 'number_of_vehicles', 'sex_of_casualty'] \n",
      "\n",
      "['casualty_type', 'age_band_of_casualty', 'number_of_vehicles', 'sex_of_casualty', 'speed_limit'] \n",
      "\n",
      "['casualty_type', 'age_band_of_casualty', 'number_of_vehicles', 'sex_of_casualty', 'speed_limit', 'junction_detail'] \n",
      "\n",
      "['casualty_type', 'age_band_of_casualty', 'number_of_vehicles', 'sex_of_casualty', 'speed_limit', 'junction_detail', 'first_road_class'] \n",
      "\n",
      "['casualty_type', 'age_band_of_casualty', 'number_of_vehicles', 'sex_of_casualty', 'speed_limit', 'junction_detail', 'first_road_class', 'number_of_casualties'] \n",
      "\n",
      "['casualty_type', 'age_band_of_casualty', 'number_of_vehicles', 'sex_of_casualty', 'speed_limit', 'junction_detail', 'first_road_class', 'number_of_casualties', 'second_road_class'] \n",
      "\n",
      "['casualty_type', 'age_band_of_casualty', 'number_of_vehicles', 'sex_of_casualty', 'speed_limit', 'junction_detail', 'first_road_class', 'number_of_casualties', 'second_road_class', 'road_type'] \n",
      "\n",
      "['casualty_type', 'age_band_of_casualty', 'number_of_vehicles', 'sex_of_casualty', 'speed_limit', 'junction_detail', 'first_road_class', 'number_of_casualties', 'second_road_class', 'road_type', 'light_conditions'] \n",
      "\n",
      "['casualty_type', 'age_band_of_casualty', 'number_of_vehicles', 'sex_of_casualty', 'speed_limit', 'junction_detail', 'first_road_class', 'number_of_casualties', 'second_road_class', 'road_type', 'light_conditions', 'nighttime'] \n",
      "\n",
      "['casualty_type', 'age_band_of_casualty', 'number_of_vehicles', 'sex_of_casualty', 'speed_limit', 'junction_detail', 'first_road_class', 'number_of_casualties', 'second_road_class', 'road_type', 'light_conditions', 'nighttime', 'urban_or_rural_area'] \n",
      "\n",
      "['casualty_type', 'age_band_of_casualty', 'number_of_vehicles', 'sex_of_casualty', 'speed_limit', 'junction_detail', 'first_road_class', 'number_of_casualties', 'second_road_class', 'road_type', 'light_conditions', 'nighttime', 'urban_or_rural_area', 'rushhour'] \n",
      "\n",
      "['casualty_type', 'age_band_of_casualty', 'number_of_vehicles', 'sex_of_casualty', 'speed_limit', 'junction_detail', 'first_road_class', 'number_of_casualties', 'second_road_class', 'road_type', 'light_conditions', 'nighttime', 'urban_or_rural_area', 'rushhour', 'pedestrian_crossing_physical_facilities'] \n",
      "\n",
      "['casualty_type', 'age_band_of_casualty', 'number_of_vehicles', 'sex_of_casualty', 'speed_limit', 'junction_detail', 'first_road_class', 'number_of_casualties', 'second_road_class', 'road_type', 'light_conditions', 'nighttime', 'urban_or_rural_area', 'rushhour', 'pedestrian_crossing_physical_facilities', 'weekend'] \n",
      "\n",
      "['casualty_type', 'age_band_of_casualty', 'number_of_vehicles', 'sex_of_casualty', 'speed_limit', 'junction_detail', 'first_road_class', 'number_of_casualties', 'second_road_class', 'road_type', 'light_conditions', 'nighttime', 'urban_or_rural_area', 'rushhour', 'pedestrian_crossing_physical_facilities', 'weekend', 'pedestrian_in_carriageway'] \n",
      "\n",
      "['casualty_type', 'age_band_of_casualty', 'number_of_vehicles', 'sex_of_casualty', 'speed_limit', 'junction_detail', 'first_road_class', 'number_of_casualties', 'second_road_class', 'road_type', 'light_conditions', 'nighttime', 'urban_or_rural_area', 'rushhour', 'pedestrian_crossing_physical_facilities', 'weekend', 'pedestrian_in_carriageway', 'trunk_road_flag'] \n",
      "\n"
     ]
    }
   ],
   "source": [
    "f1_list = []\n",
    "\n",
    "for n in range(1, X_train.shape[1]):\n",
    "  top_n_feats = list(feature_importance_df.Feature[:n])\n",
    "  print(top_n_feats,'\\n')\n",
    "  X_train_reduced = X_train[top_n_feats]\n",
    "  X_test_reduced = X_test[top_n_feats]\n",
    "  clf = pipeline.fit(X_train_reduced, y_train)\n",
    "  y_pred = clf.predict(X_test_reduced)\n",
    "  # Test accuracy\n",
    "  f1 = f1_score(y_test, y_pred)\n",
    "  f1_list.append(f1)\n",
    "\n",
    "\n",
    "  "
   ]
  },
  {
   "cell_type": "code",
   "execution_count": 38,
   "metadata": {},
   "outputs": [
    {
     "data": {
      "text/plain": [
       "<matplotlib.lines.Line2D at 0x204ba64ab70>"
      ]
     },
     "execution_count": 38,
     "metadata": {},
     "output_type": "execute_result"
    },
    {
     "data": {
      "image/png": "[encoded data removed]",
      "text/plain": [
       "<Figure size 640x480 with 1 Axes>"
      ]
     },
     "metadata": {},
     "output_type": "display_data"
    }
   ],
   "source": [
    "n = np.arange(1, X_train.shape[1])\n",
    "plt.plot(n, f1_list)\n",
    "plt.axvline(4)"
   ]
  },
  {
   "cell_type": "code",
   "execution_count": null,
   "metadata": {},
   "outputs": [],
   "source": []
  }
 ],
 "metadata": {
  "kernelspec": {
   "display_name": "DfT_project_env",
   "language": "python",
   "name": "python3"
  },
  "language_info": {
   "codemirror_mode": {
    "name": "ipython",
    "version": 3
   },
   "file_extension": ".py",
   "mimetype": "text/x-python",
   "name": "python",
   "nbconvert_exporter": "python",
   "pygments_lexer": "ipython3",
   "version": "3.12.0"
  }
 },
 "nbformat": 4,
 "nbformat_minor": 2
}
