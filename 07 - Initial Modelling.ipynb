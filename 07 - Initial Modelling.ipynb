{
 "cells": [
  {
   "cell_type": "code",
   "execution_count": 298,
   "metadata": {},
   "outputs": [],
   "source": [
    "import pandas as pd\n",
    "import numpy as np\n",
    "import matplotlib.pyplot as plt\n",
    "\n",
    "from sklearn.linear_model import LogisticRegression\n",
    "from sklearn.ensemble import RandomForestClassifier\n",
    "from sklearn.neighbors import KNeighborsClassifier\n",
    "from xgboost import XGBClassifier\n",
    "from sklearn.preprocessing import MinMaxScaler\n",
    "\n",
    "from sklearn.model_selection import cross_val_score\n",
    "from sklearn.metrics import f1_score, classification_report\n",
    "\n",
    "from sklearn.model_selection import StratifiedKFold\n",
    "\n",
    "from warnings import simplefilter\n",
    "from sklearn.exceptions import ConvergenceWarning\n",
    "simplefilter(\"ignore\", category=ConvergenceWarning)\n",
    "\n",
    "np.random.seed(42)\n"
   ]
  },
  {
   "cell_type": "code",
   "execution_count": 299,
   "metadata": {},
   "outputs": [],
   "source": [
    "train = pd.read_csv('feat_sel_training_data.csv')\n",
    "test = pd.read_csv('feat_sel_testing_data.csv')\n"
   ]
  },
  {
   "cell_type": "markdown",
   "metadata": {},
   "source": [
    "___ \n",
    "\n",
    "## Data preprocessing\n",
    "\n",
    "We need to scale our numeric data so that we don't get overweighting in some models. We will use a MinMaxScaler to scale between 0 and 1, meaning that we won't affect our One-Hot Encoded columns"
   ]
  },
  {
   "cell_type": "code",
   "execution_count": 300,
   "metadata": {},
   "outputs": [
    {
     "name": "stdout",
     "output_type": "stream",
     "text": [
      "<class 'pandas.core.frame.DataFrame'>\n",
      "RangeIndex: 11337 entries, 0 to 11336\n",
      "Data columns (total 23 columns):\n",
      " #   Column                                   Non-Null Count  Dtype \n",
      "---  ------                                   --------------  ----- \n",
      " 0   accident_year                            11337 non-null  int64 \n",
      " 1   number_of_vehicles                       11337 non-null  int64 \n",
      " 2   number_of_casualties                     11337 non-null  int64 \n",
      " 3   first_road_class                         11337 non-null  object\n",
      " 4   road_type                                11337 non-null  object\n",
      " 5   speed_limit                              11337 non-null  int64 \n",
      " 6   junction_detail                          11337 non-null  object\n",
      " 7   second_road_class                        11337 non-null  object\n",
      " 8   pedestrian_crossing_physical_facilities  11337 non-null  object\n",
      " 9   light_conditions                         11337 non-null  object\n",
      " 10  urban_or_rural_area                      11337 non-null  object\n",
      " 11  trunk_road_flag                          11337 non-null  object\n",
      " 12  casualty_class                           11337 non-null  object\n",
      " 13  sex_of_casualty                          11337 non-null  object\n",
      " 14  age_band_of_casualty                     11337 non-null  object\n",
      " 15  casualty_severity                        11337 non-null  int64 \n",
      " 16  car_passenger                            11337 non-null  object\n",
      " 17  casualty_type                            11337 non-null  object\n",
      " 18  Hour                                     11337 non-null  int64 \n",
      " 19  Month                                    11337 non-null  int64 \n",
      " 20  Day                                      11337 non-null  int64 \n",
      " 21  high_winds                               11337 non-null  bool  \n",
      " 22  pedestrian_in_carriageway                11337 non-null  bool  \n",
      "dtypes: bool(2), int64(8), object(13)\n",
      "memory usage: 1.8+ MB\n"
     ]
    }
   ],
   "source": [
    "train.info()"
   ]
  },
  {
   "cell_type": "markdown",
   "metadata": {},
   "source": [
    "\n",
    "Speed limit, Years, and age_bands should be categorical and ordered.\n",
    "\n"
   ]
  },
  {
   "cell_type": "code",
   "execution_count": 301,
   "metadata": {},
   "outputs": [],
   "source": [
    "speed_lims = train.speed_limit.value_counts().sort_index().index\n",
    "years = train.accident_year.value_counts().sort_index().index\n",
    "age_bands = ['0 - 5', '6 - 10', '11 - 15', '16 - 20', '21 - 25', '26 - 35', '36 - 45', '46 - 55', '56 - 65', '66 - 75', 'Over 75']\n",
    "\n",
    "for data in [train, test]:\n",
    "  data['speed_limit'] = pd.Categorical(values=data['speed_limit'], categories=speed_lims, ordered=True)\n",
    "  data['accident_year'] = pd.Categorical(values=data['accident_year'], categories=years, ordered=True)\n",
    "  data['age_band_of_casualty'] = pd.Categorical(data['age_band_of_casualty'], ordered=True, categories=age_bands)\n"
   ]
  },
  {
   "cell_type": "markdown",
   "metadata": {},
   "source": [
    "\n",
    "We don't really want to encode our date/time features as numeric as we will impose restrictions on our model, i.e. expecting severity to linearly increase with hour. Let's sin/cosine encode it for now to preserve the cyclical nature, but potentially we should bucket the Hours and Months."
   ]
  },
  {
   "cell_type": "code",
   "execution_count": 302,
   "metadata": {},
   "outputs": [],
   "source": [
    "# please forgive me for this horrible breach of the DRY principle\n",
    "for data in [train, test]:\n",
    "  data['day_sin'] = np.sin(data['Day'] * (2 * np.pi / data['Day'].max()))\n",
    "  data['day_cos'] = np.cos(data['Day'] * (2 * np.pi / data['Day'].max()))\n",
    "  data['month_sin'] = np.sin(data['Month'] * (2 * np.pi / data['Month'].max()))\n",
    "  data['month_cos'] = np.cos(data['Month'] * (2 * np.pi / data['Month'].max()))\n",
    "  data['hour_sin'] = np.sin(data['Hour'] * (2 * np.pi / data['Hour'].max()))\n",
    "  data['hour_cos'] = np.cos(data['Hour'] * (2 * np.pi / data['Hour'].max()))\n",
    "  data.drop(columns=['Day', 'Month', 'Hour'], axis=1, inplace=True)"
   ]
  },
  {
   "cell_type": "code",
   "execution_count": 303,
   "metadata": {},
   "outputs": [
    {
     "data": {
      "text/plain": [
       "<matplotlib.collections.PathCollection at 0x1814f39b770>"
      ]
     },
     "execution_count": 303,
     "metadata": {},
     "output_type": "execute_result"
    },
    {
     "data": {
      "image/png": "[encoded data removed]",
      "text/plain": [
       "<Figure size 640x480 with 1 Axes>"
      ]
     },
     "metadata": {},
     "output_type": "display_data"
    }
   ],
   "source": [
    "plt.scatter(train['hour_sin'], train['hour_cos'])"
   ]
  },
  {
   "cell_type": "markdown",
   "metadata": {},
   "source": [
    "\n",
    "* Numeric features need scaling\n",
    "* Ordinal features need numerical encoding\n",
    "* Nomial features can be one-hot-encoded"
   ]
  },
  {
   "cell_type": "code",
   "execution_count": 304,
   "metadata": {},
   "outputs": [
    {
     "name": "stdout",
     "output_type": "stream",
     "text": [
      "<class 'pandas.core.frame.DataFrame'>\n",
      "RangeIndex: 11337 entries, 0 to 11336\n",
      "Data columns (total 26 columns):\n",
      " #   Column                                   Non-Null Count  Dtype   \n",
      "---  ------                                   --------------  -----   \n",
      " 0   accident_year                            11337 non-null  category\n",
      " 1   number_of_vehicles                       11337 non-null  int64   \n",
      " 2   number_of_casualties                     11337 non-null  int64   \n",
      " 3   first_road_class                         11337 non-null  object  \n",
      " 4   road_type                                11337 non-null  object  \n",
      " 5   speed_limit                              11337 non-null  category\n",
      " 6   junction_detail                          11337 non-null  object  \n",
      " 7   second_road_class                        11337 non-null  object  \n",
      " 8   pedestrian_crossing_physical_facilities  11337 non-null  object  \n",
      " 9   light_conditions                         11337 non-null  object  \n",
      " 10  urban_or_rural_area                      11337 non-null  object  \n",
      " 11  trunk_road_flag                          11337 non-null  object  \n",
      " 12  casualty_class                           11337 non-null  object  \n",
      " 13  sex_of_casualty                          11337 non-null  object  \n",
      " 14  age_band_of_casualty                     11337 non-null  category\n",
      " 15  casualty_severity                        11337 non-null  int64   \n",
      " 16  car_passenger                            11337 non-null  object  \n",
      " 17  casualty_type                            11337 non-null  object  \n",
      " 18  high_winds                               11337 non-null  bool    \n",
      " 19  pedestrian_in_carriageway                11337 non-null  bool    \n",
      " 20  day_sin                                  11337 non-null  float64 \n",
      " 21  day_cos                                  11337 non-null  float64 \n",
      " 22  month_sin                                11337 non-null  float64 \n",
      " 23  month_cos                                11337 non-null  float64 \n",
      " 24  hour_sin                                 11337 non-null  float64 \n",
      " 25  hour_cos                                 11337 non-null  float64 \n",
      "dtypes: bool(2), category(3), float64(6), int64(3), object(12)\n",
      "memory usage: 1.9+ MB\n"
     ]
    }
   ],
   "source": [
    "train.info()"
   ]
  },
  {
   "cell_type": "code",
   "execution_count": 305,
   "metadata": {},
   "outputs": [],
   "source": [
    "boolean_feats = [col for col in train.columns if train[col].value_counts().shape[0] == 2]\n",
    "     \n",
    "for dataset in [train, test]:\n",
    "  for col in boolean_feats:\n",
    "    dataset[col].replace({dataset[col].value_counts().index[0]: 0, dataset[col].value_counts().index[1]: 1}, inplace=True)\n",
    "\n",
    "    \n",
    "numeric_feats = ['number_of_vehicles', 'number_of_casualties']\n",
    "ordinal_feats = list(train.select_dtypes(include='category').columns)\n",
    "nominal_feats = list(train.select_dtypes(exclude=[np.number, bool, 'category']).columns)"
   ]
  },
  {
   "cell_type": "markdown",
   "metadata": {},
   "source": [
    "### Scaling numericals"
   ]
  },
  {
   "cell_type": "code",
   "execution_count": 307,
   "metadata": {},
   "outputs": [],
   "source": [
    "scaler = MinMaxScaler()\n",
    "train[numeric_feats] = scaler.fit_transform(train[numeric_feats])\n",
    "test[numeric_feats] = scaler.transform(test[numeric_feats])"
   ]
  },
  {
   "cell_type": "markdown",
   "metadata": {},
   "source": [
    "### Ordinal encoding"
   ]
  },
  {
   "cell_type": "code",
   "execution_count": 308,
   "metadata": {},
   "outputs": [],
   "source": [
    "year_codes = dict(zip(train.accident_year.cat.categories, np.arange(0, len(train.accident_year.cat.categories) + 1, 1)))\n",
    "speed_limit_codes = dict(zip(train.speed_limit.cat.categories, np.arange(0, len(train.speed_limit.cat.categories) + 1, 1)))\n",
    "age_band_codes = dict(zip(train.age_band_of_casualty.cat.categories, np.arange(0, len(train.age_band_of_casualty.cat.categories) + 1, 1)))\n",
    "\n",
    "for data in [train, test]:\n",
    "  data['accident_year'].replace(year_codes, inplace=True)\n",
    "  data['speed_limit'].replace(speed_limit_codes, inplace=True)\n",
    "  data['age_band_of_casualty'].replace(age_band_codes, inplace=True)"
   ]
  },
  {
   "cell_type": "code",
   "execution_count": 309,
   "metadata": {},
   "outputs": [],
   "source": [
    "for data in [train, test]:\n",
    "  data[ordinal_feats] = data[ordinal_feats].apply(lambda x: x.cat.codes)"
   ]
  },
  {
   "cell_type": "markdown",
   "metadata": {},
   "source": [
    "#### One-hot encoding"
   ]
  },
  {
   "cell_type": "code",
   "execution_count": 310,
   "metadata": {},
   "outputs": [],
   "source": [
    "train = pd.get_dummies(train, columns=nominal_feats)\n",
    "test = pd.get_dummies(test, columns=nominal_feats)\n"
   ]
  },
  {
   "cell_type": "code",
   "execution_count": 311,
   "metadata": {},
   "outputs": [
    {
     "data": {
      "text/plain": [
       "True"
      ]
     },
     "execution_count": 311,
     "metadata": {},
     "output_type": "execute_result"
    }
   ],
   "source": [
    "(train.columns == test.columns).all()"
   ]
  },
  {
   "cell_type": "code",
   "execution_count": 312,
   "metadata": {},
   "outputs": [
    {
     "name": "stdout",
     "output_type": "stream",
     "text": [
      "<class 'pandas.core.frame.DataFrame'>\n",
      "RangeIndex: 11337 entries, 0 to 11336\n",
      "Data columns (total 63 columns):\n",
      " #   Column                                                                                                             Non-Null Count  Dtype  \n",
      "---  ------                                                                                                             --------------  -----  \n",
      " 0   accident_year                                                                                                      11337 non-null  int8   \n",
      " 1   number_of_vehicles                                                                                                 11337 non-null  float64\n",
      " 2   number_of_casualties                                                                                               11337 non-null  float64\n",
      " 3   speed_limit                                                                                                        11337 non-null  int8   \n",
      " 4   urban_or_rural_area                                                                                                11337 non-null  int64  \n",
      " 5   trunk_road_flag                                                                                                    11337 non-null  int64  \n",
      " 6   sex_of_casualty                                                                                                    11337 non-null  int64  \n",
      " 7   age_band_of_casualty                                                                                               11337 non-null  int8   \n",
      " 8   casualty_severity                                                                                                  11337 non-null  int64  \n",
      " 9   high_winds                                                                                                         11337 non-null  int64  \n",
      " 10  pedestrian_in_carriageway                                                                                          11337 non-null  int64  \n",
      " 11  day_sin                                                                                                            11337 non-null  float64\n",
      " 12  day_cos                                                                                                            11337 non-null  float64\n",
      " 13  month_sin                                                                                                          11337 non-null  float64\n",
      " 14  month_cos                                                                                                          11337 non-null  float64\n",
      " 15  hour_sin                                                                                                           11337 non-null  float64\n",
      " 16  hour_cos                                                                                                           11337 non-null  float64\n",
      " 17  first_road_class_A                                                                                                 11337 non-null  bool   \n",
      " 18  first_road_class_B                                                                                                 11337 non-null  bool   \n",
      " 19  first_road_class_C                                                                                                 11337 non-null  bool   \n",
      " 20  first_road_class_Motorway                                                                                          11337 non-null  bool   \n",
      " 21  first_road_class_Unclassified                                                                                      11337 non-null  bool   \n",
      " 22  road_type_Dual carriageway                                                                                         11337 non-null  bool   \n",
      " 23  road_type_One way street                                                                                           11337 non-null  bool   \n",
      " 24  road_type_Roundabout                                                                                               11337 non-null  bool   \n",
      " 25  road_type_Single carriageway                                                                                       11337 non-null  bool   \n",
      " 26  road_type_Slip road                                                                                                11337 non-null  bool   \n",
      " 27  junction_detail_Crossroads                                                                                         11337 non-null  bool   \n",
      " 28  junction_detail_Mini-roundabout                                                                                    11337 non-null  bool   \n",
      " 29  junction_detail_More than 4 arms (not roundabout)                                                                  11337 non-null  bool   \n",
      " 30  junction_detail_Not at junction or within 20 metres                                                                11337 non-null  bool   \n",
      " 31  junction_detail_Other                                                                                              11337 non-null  bool   \n",
      " 32  junction_detail_Private drive or entrance                                                                          11337 non-null  bool   \n",
      " 33  junction_detail_Roundabout                                                                                         11337 non-null  bool   \n",
      " 34  junction_detail_Slip road                                                                                          11337 non-null  bool   \n",
      " 35  junction_detail_T or staggered junction                                                                            11337 non-null  bool   \n",
      " 36  second_road_class_A                                                                                                11337 non-null  bool   \n",
      " 37  second_road_class_B                                                                                                11337 non-null  bool   \n",
      " 38  second_road_class_C                                                                                                11337 non-null  bool   \n",
      " 39  second_road_class_Motorway                                                                                         11337 non-null  bool   \n",
      " 40  second_road_class_Not at junction or within 20 metres                                                              11337 non-null  bool   \n",
      " 41  second_road_class_Unclassified                                                                                     11337 non-null  bool   \n",
      " 42  pedestrian_crossing_physical_facilities_Central refuge                                                             11337 non-null  bool   \n",
      " 43  pedestrian_crossing_physical_facilities_No physical crossing facilities within 50 metres                           11337 non-null  bool   \n",
      " 44  pedestrian_crossing_physical_facilities_Pedestrian phase at traffic signal junction                                11337 non-null  bool   \n",
      " 45  pedestrian_crossing_physical_facilities_Pelican, puffin, toucan or similar non-junction pedestrian light crossing  11337 non-null  bool   \n",
      " 46  pedestrian_crossing_physical_facilities_Zebra                                                                      11337 non-null  bool   \n",
      " 47  light_conditions_Darkness                                                                                          11337 non-null  bool   \n",
      " 48  light_conditions_Darkness - lights lit                                                                             11337 non-null  bool   \n",
      " 49  light_conditions_Daylight                                                                                          11337 non-null  bool   \n",
      " 50  casualty_class_Driver or rider                                                                                     11337 non-null  bool   \n",
      " 51  casualty_class_Passenger                                                                                           11337 non-null  bool   \n",
      " 52  casualty_class_Pedestrian                                                                                          11337 non-null  bool   \n",
      " 53  car_passenger_Front seat passenger                                                                                 11337 non-null  bool   \n",
      " 54  car_passenger_Not car passenger                                                                                    11337 non-null  bool   \n",
      " 55  car_passenger_Rear seat passenger                                                                                  11337 non-null  bool   \n",
      " 56  casualty_type_Car occupant                                                                                         11337 non-null  bool   \n",
      " 57  casualty_type_Cyclist                                                                                              11337 non-null  bool   \n",
      " 58  casualty_type_Large Vehicle                                                                                        11337 non-null  bool   \n",
      " 59  casualty_type_Mobility scooter rider                                                                               11337 non-null  bool   \n",
      " 60  casualty_type_Motorcycle                                                                                           11337 non-null  bool   \n",
      " 61  casualty_type_Other                                                                                                11337 non-null  bool   \n",
      " 62  casualty_type_Pedestrian                                                                                           11337 non-null  bool   \n",
      "dtypes: bool(46), float64(8), int64(6), int8(3)\n",
      "memory usage: 1.7 MB\n"
     ]
    }
   ],
   "source": [
    "train.info()"
   ]
  },
  {
   "cell_type": "markdown",
   "metadata": {},
   "source": [
    "So we've got 59 total features, along with out predictor. Let's see what happens when we test some different models."
   ]
  },
  {
   "cell_type": "markdown",
   "metadata": {},
   "source": [
    "___\n",
    "## Initial modelling"
   ]
  },
  {
   "cell_type": "code",
   "execution_count": 313,
   "metadata": {},
   "outputs": [],
   "source": [
    "y_train = train['casualty_severity']\n",
    "X_train = train.drop('casualty_severity', axis=1)\n",
    "\n",
    "y_test = test['casualty_severity']\n",
    "X_test = test.drop('casualty_severity', axis=1)"
   ]
  },
  {
   "cell_type": "code",
   "execution_count": 314,
   "metadata": {},
   "outputs": [],
   "source": [
    "def evaluate_model(model_class, X_train=X_train, y_train=y_train):\n",
    "    kf = StratifiedKFold(n_splits=5, shuffle=True)\n",
    "    # Stratified K fold cross validation and predict on training data\n",
    "    accuracy_scores = cross_val_score(model_class, X_train, y_train.to_numpy().ravel(), cv=kf, scoring='accuracy') * 100\n",
    "    precision_scores = cross_val_score(model_class, X_train, y_train.to_numpy().ravel(), cv=kf, scoring='precision') * 100\n",
    "    recall_scores = cross_val_score(model_class, X_train, y_train.to_numpy().ravel(), cv=kf, scoring='recall') * 100\n",
    "    f1_scores = cross_val_score(model_class, X_train, y_train.to_numpy().ravel(), cv=kf, scoring='f1') * 100\n",
    "    \n",
    "\n",
    "    metrics_dict = {\n",
    "        'Model Type': model_class,\n",
    "        'CV_mean_accuracy': np.round(accuracy_scores.mean(), 1), \n",
    "        'CV_mean_precision':np.round(precision_scores.mean(), 1), \n",
    "        'CV_mean_recall': np.round(recall_scores.mean(), 1), \n",
    "        'CV_mean_F1': np.round(f1_scores.mean(), 1)\n",
    "        \n",
    "       \n",
    "    }   \n",
    "\n",
    "    return metrics_dict"
   ]
  },
  {
   "cell_type": "code",
   "execution_count": 315,
   "metadata": {},
   "outputs": [
    {
     "name": "stdout",
     "output_type": "stream",
     "text": [
      "\n",
      "Classification Report (KNN):\n",
      "              precision    recall  f1-score   support\n",
      "\n",
      "           0       0.83      0.92      0.88      8156\n",
      "           1       0.72      0.53      0.61      3181\n",
      "\n",
      "    accuracy                           0.81     11337\n",
      "   macro avg       0.78      0.72      0.74     11337\n",
      "weighted avg       0.80      0.81      0.80     11337\n",
      "\n",
      "\n",
      "Classification Report (Logistic Regression):\n",
      "              precision    recall  f1-score   support\n",
      "\n",
      "           0       0.74      0.96      0.83      8156\n",
      "           1       0.55      0.14      0.22      3181\n",
      "\n",
      "    accuracy                           0.73     11337\n",
      "   macro avg       0.65      0.55      0.53     11337\n",
      "weighted avg       0.69      0.73      0.66     11337\n",
      "\n",
      "\n",
      "Classification Report (Random Forest):\n",
      "              precision    recall  f1-score   support\n",
      "\n",
      "           0       1.00      1.00      1.00      8156\n",
      "           1       1.00      1.00      1.00      3181\n",
      "\n",
      "    accuracy                           1.00     11337\n",
      "   macro avg       1.00      1.00      1.00     11337\n",
      "weighted avg       1.00      1.00      1.00     11337\n",
      "\n",
      "\n",
      "Classification Report (XGBoost):\n",
      "              precision    recall  f1-score   support\n",
      "\n",
      "           0       0.91      0.99      0.95      8156\n",
      "           1       0.97      0.76      0.85      3181\n",
      "\n",
      "    accuracy                           0.93     11337\n",
      "   macro avg       0.94      0.88      0.90     11337\n",
      "weighted avg       0.93      0.93      0.92     11337\n",
      "\n"
     ]
    }
   ],
   "source": [
    "models = {'KNN': KNeighborsClassifier(), 'Logistic Regression': LogisticRegression(), 'Random Forest': RandomForestClassifier(), 'XGBoost': XGBClassifier()}  \n",
    "model_metric_dict = {}\n",
    "\n",
    "for key, values in models.items():\n",
    "  pred = values.fit(X_train, y_train).predict(X_train)\n",
    "  print(f\"\\nClassification Report ({key}):\")\n",
    "  print(classification_report(y_train, pred))"
   ]
  },
  {
   "cell_type": "code",
   "execution_count": 316,
   "metadata": {},
   "outputs": [
    {
     "data": {
      "text/html": [
       "<div>\n",
       "<style scoped>\n",
       "    .dataframe tbody tr th:only-of-type {\n",
       "        vertical-align: middle;\n",
       "    }\n",
       "\n",
       "    .dataframe tbody tr th {\n",
       "        vertical-align: top;\n",
       "    }\n",
       "\n",
       "    .dataframe thead th {\n",
       "        text-align: right;\n",
       "    }\n",
       "</style>\n",
       "<table border=\"1\" class=\"dataframe\">\n",
       "  <thead>\n",
       "    <tr style=\"text-align: right;\">\n",
       "      <th></th>\n",
       "      <th>Model Type</th>\n",
       "      <th>CV_mean_accuracy</th>\n",
       "      <th>CV_mean_precision</th>\n",
       "      <th>CV_mean_recall</th>\n",
       "      <th>CV_mean_F1</th>\n",
       "    </tr>\n",
       "  </thead>\n",
       "  <tbody>\n",
       "    <tr>\n",
       "      <th>XGBoost</th>\n",
       "      <td>XGBClassifier(base_score=None, booster=None, c...</td>\n",
       "      <td>77.1</td>\n",
       "      <td>64.3</td>\n",
       "      <td>43.6</td>\n",
       "      <td>52.1</td>\n",
       "    </tr>\n",
       "    <tr>\n",
       "      <th>Random Forest</th>\n",
       "      <td>(DecisionTreeClassifier(max_features='sqrt', r...</td>\n",
       "      <td>80.8</td>\n",
       "      <td>77.5</td>\n",
       "      <td>42.8</td>\n",
       "      <td>56.2</td>\n",
       "    </tr>\n",
       "    <tr>\n",
       "      <th>KNN</th>\n",
       "      <td>KNeighborsClassifier()</td>\n",
       "      <td>71.0</td>\n",
       "      <td>48.8</td>\n",
       "      <td>32.3</td>\n",
       "      <td>38.8</td>\n",
       "    </tr>\n",
       "    <tr>\n",
       "      <th>Logistic Regression</th>\n",
       "      <td>LogisticRegression()</td>\n",
       "      <td>72.4</td>\n",
       "      <td>54.1</td>\n",
       "      <td>13.7</td>\n",
       "      <td>21.6</td>\n",
       "    </tr>\n",
       "  </tbody>\n",
       "</table>\n",
       "</div>"
      ],
      "text/plain": [
       "                                                            Model Type  \\\n",
       "XGBoost              XGBClassifier(base_score=None, booster=None, c...   \n",
       "Random Forest        (DecisionTreeClassifier(max_features='sqrt', r...   \n",
       "KNN                                             KNeighborsClassifier()   \n",
       "Logistic Regression                               LogisticRegression()   \n",
       "\n",
       "                    CV_mean_accuracy CV_mean_precision CV_mean_recall  \\\n",
       "XGBoost                         77.1              64.3           43.6   \n",
       "Random Forest                   80.8              77.5           42.8   \n",
       "KNN                             71.0              48.8           32.3   \n",
       "Logistic Regression             72.4              54.1           13.7   \n",
       "\n",
       "                    CV_mean_F1  \n",
       "XGBoost                   52.1  \n",
       "Random Forest             56.2  \n",
       "KNN                       38.8  \n",
       "Logistic Regression       21.6  "
      ]
     },
     "execution_count": 316,
     "metadata": {},
     "output_type": "execute_result"
    }
   ],
   "source": [
    "for key, values in models.items():\n",
    "  metrics_dict = evaluate_model(values)\n",
    "  model_metric_dict.update({key: metrics_dict})\n",
    "\n",
    "results = pd.DataFrame.from_dict(model_metric_dict).T.round(2)\n",
    "results.sort_values(by='CV_mean_recall', ascending=False)"
   ]
  },
  {
   "cell_type": "markdown",
   "metadata": {},
   "source": [
    "### We're clearly __massively__ overfitting to our training data. With our RF classifier, we have nearly 100% f1 score (the model predicts the correct outcome for every collision) without any cross-fold validation. With 5-fold stratified cross-validation, the f1 score of our RF model drops to 56%.\n",
    "\n",
    "Despite the overfitting, the CV scores are much better than the dummy classifier model (yay!). The stratified dummy predictor gave an F1 score of 0.28 - we are at 0.52 and 0.56 for our XGboost and Random Forest models. The KNN model also beat the dummy performance, woohoo.\n",
    "\n",
    "As expected for a dataset with so many categorical features, the tree-based models are outperforming the KNN and logistic regression models. ALthough the random forest has given a higher F1 score than the XGboost, I think I will continue with the XGBoost model as it is typically quite good with imbalanced datasets\n",
    "\n",
    "\n",
    "We are definitely still overfitting to our training data, so let's try some Recursive Feature Elimination and see how many features are actually important.\n",
    "\n",
    "After this, we can revisit our feature selection and engineering and see if we can reduce the overfitting before we evalute this model on our testing data - at the moment it is likely to perform quite badly."
   ]
  },
  {
   "cell_type": "code",
   "execution_count": 317,
   "metadata": {},
   "outputs": [],
   "source": [
    "from sklearn.feature_selection import RFE\n",
    "\n",
    "f1_scores = []\n",
    "\n",
    "model_selected = XGBClassifier(random_state=42)\n",
    "for n_feats in np.arange(1, X_train.shape[1], 5):\n",
    "  rfe = RFE(estimator=model_selected, n_features_to_select=n_feats)\n",
    "  rfe.fit(X_train, y_train)\n",
    "  model_selected.fit(X_train.loc[:, rfe.support_], y_train)\n",
    "  y_pred_selected = model_selected.predict(X_train.loc[:, rfe.support_])\n",
    "  f1_selected = f1_score(y_train, y_pred_selected)\n",
    "  f1_scores.append(f1_selected)"
   ]
  },
  {
   "cell_type": "code",
   "execution_count": 329,
   "metadata": {},
   "outputs": [
    {
     "data": {
      "text/plain": [
       "<matplotlib.lines.Line2D at 0x18152383c20>"
      ]
     },
     "execution_count": 329,
     "metadata": {},
     "output_type": "execute_result"
    },
    {
     "data": {
      "image/png": "[encoded data removed]",
      "text/plain": [
       "<Figure size 640x480 with 1 Axes>"
      ]
     },
     "metadata": {},
     "output_type": "display_data"
    }
   ],
   "source": [
    "x = np.arange(1, X_train.shape[1], 5)\n",
    "plt.plot(x, f1_scores)\n",
    "plt.ylim(0, 1)\n",
    "plt.xlim(0, X_train.shape[1])\n",
    "plt.xlabel('n_features')\n",
    "plt.ylabel('f1_score')\n",
    "plt.axhline(0.82, xmax=0.42, linestyle='--')\n",
    "plt.axvline(26, ymax=0.81, linestyle='--')\n"
   ]
  },
  {
   "cell_type": "markdown",
   "metadata": {},
   "source": [
    "Interesting, on a plot of f1_score vs. n_features we seem to have an inflection point at around 26 features. Let's see what features the RFE model includes with these value of n_features."
   ]
  },
  {
   "cell_type": "code",
   "execution_count": 327,
   "metadata": {},
   "outputs": [
    {
     "name": "stdout",
     "output_type": "stream",
     "text": [
      "f1 score with 26 features: 0.7295173961840627.\n",
      "Index(['number_of_vehicles', 'number_of_casualties', 'speed_limit',\n",
      "       'sex_of_casualty', 'age_band_of_casualty', 'high_winds', 'month_sin',\n",
      "       'month_cos', 'hour_sin', 'hour_cos', 'first_road_class_Motorway',\n",
      "       'road_type_Single carriageway', 'junction_detail_Crossroads',\n",
      "       'junction_detail_Roundabout', 'second_road_class_B',\n",
      "       'pedestrian_crossing_physical_facilities_Pedestrian phase at traffic signal junction',\n",
      "       'light_conditions_Daylight', 'casualty_class_Passenger',\n",
      "       'casualty_type_Car occupant', 'casualty_type_Large Vehicle',\n",
      "       'casualty_type_Motorcycle'],\n",
      "      dtype='object')\n"
     ]
    }
   ],
   "source": [
    "rfe = RFE(estimator=model_selected, n_features_to_select=21)\n",
    "rfe.fit(X_train, y_train)\n",
    "model_selected.fit(X_train.loc[:, rfe.support_], y_train)\n",
    "y_pred_selected = model_selected.predict(X_train.loc[:, rfe.support_])\n",
    "print(f'f1 score with 26 features: {f1_score(y_train, y_pred_selected)}.') \n",
    "print(X_train.loc[:, rfe.support_].columns)"
   ]
  },
  {
   "cell_type": "code",
   "execution_count": null,
   "metadata": {},
   "outputs": [],
   "source": []
  }
 ],
 "metadata": {
  "kernelspec": {
   "display_name": "DfT_project_env",
   "language": "python",
   "name": "python3"
  },
  "language_info": {
   "codemirror_mode": {
    "name": "ipython",
    "version": 3
   },
   "file_extension": ".py",
   "mimetype": "text/x-python",
   "name": "python",
   "nbconvert_exporter": "python",
   "pygments_lexer": "ipython3",
   "version": "3.12.0"
  }
 },
 "nbformat": 4,
 "nbformat_minor": 2
}
