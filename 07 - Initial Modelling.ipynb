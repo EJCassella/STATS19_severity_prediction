{
 "cells": [
  {
   "cell_type": "code",
   "execution_count": 44,
   "metadata": {},
   "outputs": [],
   "source": [
    "import pandas as pd\n",
    "import numpy as np\n",
    "import matplotlib.pyplot as plt\n",
    "\n",
    "from sklearn.linear_model import LogisticRegression\n",
    "from sklearn.ensemble import RandomForestClassifier\n",
    "from sklearn.neighbors import KNeighborsClassifier\n",
    "from xgboost import XGBClassifier\n",
    "from sklearn.preprocessing import MinMaxScaler\n",
    "\n",
    "from sklearn.model_selection import cross_val_score\n",
    "from sklearn.metrics import f1_score, classification_report\n",
    "\n",
    "from sklearn.model_selection import StratifiedGroupKFold\n",
    "\n",
    "from warnings import simplefilter\n",
    "from sklearn.exceptions import ConvergenceWarning\n",
    "simplefilter(\"ignore\", category=ConvergenceWarning)\n",
    "\n",
    "np.random.seed(42)\n"
   ]
  },
  {
   "cell_type": "code",
   "execution_count": 45,
   "metadata": {},
   "outputs": [],
   "source": [
    "train = pd.read_csv('feat_sel_training_data.csv')\n",
    "test = pd.read_csv('feat_sel_testing_data.csv')\n"
   ]
  },
  {
   "cell_type": "markdown",
   "metadata": {},
   "source": [
    "___ \n",
    "\n",
    "## Data preprocessing\n",
    "\n",
    "We need to scale our numeric data so that we don't get overweighting in some models. We will use a MinMaxScaler to scale between 0 and 1, meaning that we won't affect our One-Hot Encoded columns"
   ]
  },
  {
   "cell_type": "code",
   "execution_count": 46,
   "metadata": {},
   "outputs": [
    {
     "name": "stdout",
     "output_type": "stream",
     "text": [
      "<class 'pandas.core.frame.DataFrame'>\n",
      "RangeIndex: 11337 entries, 0 to 11336\n",
      "Data columns (total 24 columns):\n",
      " #   Column                                   Non-Null Count  Dtype  \n",
      "---  ------                                   --------------  -----  \n",
      " 0   accident_index                           11337 non-null  int64  \n",
      " 1   accident_year                            11337 non-null  int64  \n",
      " 2   number_of_vehicles                       11337 non-null  int64  \n",
      " 3   number_of_casualties                     11337 non-null  int64  \n",
      " 4   first_road_class                         11337 non-null  object \n",
      " 5   road_type                                11337 non-null  object \n",
      " 6   speed_limit                              11337 non-null  float64\n",
      " 7   junction_detail                          11337 non-null  object \n",
      " 8   second_road_class                        11337 non-null  object \n",
      " 9   pedestrian_crossing_physical_facilities  11337 non-null  object \n",
      " 10  light_conditions                         11337 non-null  object \n",
      " 11  urban_or_rural_area                      11337 non-null  object \n",
      " 12  trunk_road_flag                          11337 non-null  object \n",
      " 13  casualty_class                           11337 non-null  object \n",
      " 14  sex_of_casualty                          11337 non-null  object \n",
      " 15  age_band_of_casualty                     11337 non-null  object \n",
      " 16  casualty_severity                        11337 non-null  int64  \n",
      " 17  car_passenger                            11337 non-null  object \n",
      " 18  casualty_type                            11337 non-null  object \n",
      " 19  Hour                                     11337 non-null  int64  \n",
      " 20  Month                                    11337 non-null  int64  \n",
      " 21  Day                                      11337 non-null  int64  \n",
      " 22  high_winds                               11337 non-null  bool   \n",
      " 23  pedestrian_in_carriageway                11337 non-null  bool   \n",
      "dtypes: bool(2), float64(1), int64(8), object(13)\n",
      "memory usage: 1.9+ MB\n"
     ]
    }
   ],
   "source": [
    "train.info()"
   ]
  },
  {
   "cell_type": "markdown",
   "metadata": {},
   "source": [
    "\n",
    "Speed limit, Years, and age_bands should be categorical and ordered.\n",
    "\n"
   ]
  },
  {
   "cell_type": "code",
   "execution_count": 47,
   "metadata": {},
   "outputs": [],
   "source": [
    "speed_lims = train.speed_limit.value_counts().sort_index().index\n",
    "years = train.accident_year.value_counts().sort_index().index\n",
    "age_bands = ['0 - 5', '6 - 10', '11 - 15', '16 - 20', '21 - 25', '26 - 35', '36 - 45', '46 - 55', '56 - 65', '66 - 75', 'Over 75']\n",
    "\n",
    "for data in [train, test]:\n",
    "  data['speed_limit'] = pd.Categorical(values=data['speed_limit'], categories=speed_lims, ordered=True)\n",
    "  data['accident_year'] = pd.Categorical(values=data['accident_year'], categories=years, ordered=True)\n",
    "  data['age_band_of_casualty'] = pd.Categorical(data['age_band_of_casualty'], ordered=True, categories=age_bands)\n"
   ]
  },
  {
   "cell_type": "markdown",
   "metadata": {},
   "source": [
    "\n",
    "We don't really want to encode our date/time features as numeric as we will impose restrictions on our model, i.e. expecting severity to linearly increase with hour. Let's sin/cosine encode it for now to preserve the cyclical nature, but potentially we should bucket the Hours and Months."
   ]
  },
  {
   "cell_type": "code",
   "execution_count": null,
   "metadata": {},
   "outputs": [],
   "source": [
    "for data in [train, test]:\n",
    "  data['day_sin'] = np.sin(data['Day'] * (2 * np.pi / data['Day'].max()))\n",
    "  data['day_cos'] = np.cos(data['Day'] * (2 * np.pi / data['Day'].max()))\n",
    "  data['month_sin'] = np.sin(data['Month'] * (2 * np.pi / data['Month'].max()))\n",
    "  data['month_cos'] = np.cos(data['Month'] * (2 * np.pi / data['Month'].max()))\n",
    "  data['hour_sin'] = np.sin(data['Hour'] * (2 * np.pi / data['Hour'].max()))\n",
    "  data['hour_cos'] = np.cos(data['Hour'] * (2 * np.pi / data['Hour'].max()))\n",
    "  data.drop(columns=['Day', 'Month', 'Hour'], axis=1, inplace=True)"
   ]
  },
  {
   "cell_type": "code",
   "execution_count": 49,
   "metadata": {},
   "outputs": [
    {
     "data": {
      "text/plain": [
       "<matplotlib.collections.PathCollection at 0x1f2a70d2150>"
      ]
     },
     "execution_count": 49,
     "metadata": {},
     "output_type": "execute_result"
    },
    {
     "data": {
      "image/png": "[encoded data removed]",
      "text/plain": [
       "<Figure size 640x480 with 1 Axes>"
      ]
     },
     "metadata": {},
     "output_type": "display_data"
    }
   ],
   "source": [
    "plt.scatter(train['hour_sin'], train['hour_cos'])"
   ]
  },
  {
   "cell_type": "markdown",
   "metadata": {},
   "source": [
    "\n",
    "* Numeric features need scaling\n",
    "* Ordinal features need numerical encoding\n",
    "* Nomial features can be one-hot-encoded"
   ]
  },
  {
   "cell_type": "code",
   "execution_count": 50,
   "metadata": {},
   "outputs": [
    {
     "name": "stdout",
     "output_type": "stream",
     "text": [
      "<class 'pandas.core.frame.DataFrame'>\n",
      "RangeIndex: 11337 entries, 0 to 11336\n",
      "Data columns (total 27 columns):\n",
      " #   Column                                   Non-Null Count  Dtype   \n",
      "---  ------                                   --------------  -----   \n",
      " 0   accident_index                           11337 non-null  int64   \n",
      " 1   accident_year                            11337 non-null  category\n",
      " 2   number_of_vehicles                       11337 non-null  int64   \n",
      " 3   number_of_casualties                     11337 non-null  int64   \n",
      " 4   first_road_class                         11337 non-null  object  \n",
      " 5   road_type                                11337 non-null  object  \n",
      " 6   speed_limit                              11337 non-null  category\n",
      " 7   junction_detail                          11337 non-null  object  \n",
      " 8   second_road_class                        11337 non-null  object  \n",
      " 9   pedestrian_crossing_physical_facilities  11337 non-null  object  \n",
      " 10  light_conditions                         11337 non-null  object  \n",
      " 11  urban_or_rural_area                      11337 non-null  object  \n",
      " 12  trunk_road_flag                          11337 non-null  object  \n",
      " 13  casualty_class                           11337 non-null  object  \n",
      " 14  sex_of_casualty                          11337 non-null  object  \n",
      " 15  age_band_of_casualty                     11337 non-null  category\n",
      " 16  casualty_severity                        11337 non-null  int64   \n",
      " 17  car_passenger                            11337 non-null  object  \n",
      " 18  casualty_type                            11337 non-null  object  \n",
      " 19  high_winds                               11337 non-null  bool    \n",
      " 20  pedestrian_in_carriageway                11337 non-null  bool    \n",
      " 21  day_sin                                  11337 non-null  float64 \n",
      " 22  day_cos                                  11337 non-null  float64 \n",
      " 23  month_sin                                11337 non-null  float64 \n",
      " 24  month_cos                                11337 non-null  float64 \n",
      " 25  hour_sin                                 11337 non-null  float64 \n",
      " 26  hour_cos                                 11337 non-null  float64 \n",
      "dtypes: bool(2), category(3), float64(6), int64(4), object(12)\n",
      "memory usage: 2.0+ MB\n"
     ]
    }
   ],
   "source": [
    "train.info()"
   ]
  },
  {
   "cell_type": "code",
   "execution_count": 51,
   "metadata": {},
   "outputs": [],
   "source": [
    "boolean_feats = [col for col in train.columns if train[col].value_counts().shape[0] == 2]\n",
    "     \n",
    "for dataset in [train, test]:\n",
    "  for col in boolean_feats:\n",
    "    dataset[col].replace({dataset[col].value_counts().index[0]: 0, dataset[col].value_counts().index[1]: 1}, inplace=True)\n",
    "\n",
    "    \n",
    "numeric_feats = ['number_of_vehicles', 'number_of_casualties']\n",
    "ordinal_feats = list(train.select_dtypes(include='category').columns)\n",
    "nominal_feats = list(train.select_dtypes(exclude=[np.number, bool, 'category']).columns)"
   ]
  },
  {
   "cell_type": "markdown",
   "metadata": {},
   "source": [
    "### Scaling numericals"
   ]
  },
  {
   "cell_type": "code",
   "execution_count": 52,
   "metadata": {},
   "outputs": [],
   "source": [
    "scaler = MinMaxScaler()\n",
    "train[numeric_feats] = scaler.fit_transform(train[numeric_feats])\n",
    "test[numeric_feats] = scaler.transform(test[numeric_feats])"
   ]
  },
  {
   "cell_type": "markdown",
   "metadata": {},
   "source": [
    "### Ordinal encoding"
   ]
  },
  {
   "cell_type": "code",
   "execution_count": 53,
   "metadata": {},
   "outputs": [],
   "source": [
    "year_codes = dict(zip(train.accident_year.cat.categories, np.arange(0, len(train.accident_year.cat.categories) + 1, 1)))\n",
    "speed_limit_codes = dict(zip(train.speed_limit.cat.categories, np.arange(0, len(train.speed_limit.cat.categories) + 1, 1)))\n",
    "age_band_codes = dict(zip(train.age_band_of_casualty.cat.categories, np.arange(0, len(train.age_band_of_casualty.cat.categories) + 1, 1)))\n",
    "\n",
    "for data in [train, test]:\n",
    "  data['accident_year'].replace(year_codes, inplace=True)\n",
    "  data['speed_limit'].replace(speed_limit_codes, inplace=True)\n",
    "  data['age_band_of_casualty'].replace(age_band_codes, inplace=True)"
   ]
  },
  {
   "cell_type": "code",
   "execution_count": 54,
   "metadata": {},
   "outputs": [],
   "source": [
    "for data in [train, test]:\n",
    "  data[ordinal_feats] = data[ordinal_feats].apply(lambda x: x.cat.codes)"
   ]
  },
  {
   "cell_type": "markdown",
   "metadata": {},
   "source": [
    "#### One-hot encoding"
   ]
  },
  {
   "cell_type": "code",
   "execution_count": 55,
   "metadata": {},
   "outputs": [],
   "source": [
    "train = pd.get_dummies(train, columns=nominal_feats)\n",
    "test = pd.get_dummies(test, columns=nominal_feats)\n"
   ]
  },
  {
   "cell_type": "code",
   "execution_count": 56,
   "metadata": {},
   "outputs": [
    {
     "data": {
      "text/plain": [
       "True"
      ]
     },
     "execution_count": 56,
     "metadata": {},
     "output_type": "execute_result"
    }
   ],
   "source": [
    "(train.columns == test.columns).all()"
   ]
  },
  {
   "cell_type": "code",
   "execution_count": 57,
   "metadata": {},
   "outputs": [
    {
     "name": "stdout",
     "output_type": "stream",
     "text": [
      "<class 'pandas.core.frame.DataFrame'>\n",
      "RangeIndex: 11337 entries, 0 to 11336\n",
      "Data columns (total 64 columns):\n",
      " #   Column                                                                                                             Non-Null Count  Dtype  \n",
      "---  ------                                                                                                             --------------  -----  \n",
      " 0   accident_index                                                                                                     11337 non-null  int64  \n",
      " 1   accident_year                                                                                                      11337 non-null  int8   \n",
      " 2   number_of_vehicles                                                                                                 11337 non-null  float64\n",
      " 3   number_of_casualties                                                                                               11337 non-null  float64\n",
      " 4   speed_limit                                                                                                        11337 non-null  int8   \n",
      " 5   urban_or_rural_area                                                                                                11337 non-null  int64  \n",
      " 6   trunk_road_flag                                                                                                    11337 non-null  int64  \n",
      " 7   sex_of_casualty                                                                                                    11337 non-null  int64  \n",
      " 8   age_band_of_casualty                                                                                               11337 non-null  int8   \n",
      " 9   casualty_severity                                                                                                  11337 non-null  int64  \n",
      " 10  high_winds                                                                                                         11337 non-null  int64  \n",
      " 11  pedestrian_in_carriageway                                                                                          11337 non-null  int64  \n",
      " 12  day_sin                                                                                                            11337 non-null  float64\n",
      " 13  day_cos                                                                                                            11337 non-null  float64\n",
      " 14  month_sin                                                                                                          11337 non-null  float64\n",
      " 15  month_cos                                                                                                          11337 non-null  float64\n",
      " 16  hour_sin                                                                                                           11337 non-null  float64\n",
      " 17  hour_cos                                                                                                           11337 non-null  float64\n",
      " 18  first_road_class_A                                                                                                 11337 non-null  bool   \n",
      " 19  first_road_class_B                                                                                                 11337 non-null  bool   \n",
      " 20  first_road_class_C                                                                                                 11337 non-null  bool   \n",
      " 21  first_road_class_Motorway                                                                                          11337 non-null  bool   \n",
      " 22  first_road_class_Unclassified                                                                                      11337 non-null  bool   \n",
      " 23  road_type_Dual carriageway                                                                                         11337 non-null  bool   \n",
      " 24  road_type_One way street                                                                                           11337 non-null  bool   \n",
      " 25  road_type_Roundabout                                                                                               11337 non-null  bool   \n",
      " 26  road_type_Single carriageway                                                                                       11337 non-null  bool   \n",
      " 27  road_type_Slip road                                                                                                11337 non-null  bool   \n",
      " 28  junction_detail_Crossroads                                                                                         11337 non-null  bool   \n",
      " 29  junction_detail_Mini-roundabout                                                                                    11337 non-null  bool   \n",
      " 30  junction_detail_More than 4 arms (not roundabout)                                                                  11337 non-null  bool   \n",
      " 31  junction_detail_Not at junction or within 20 metres                                                                11337 non-null  bool   \n",
      " 32  junction_detail_Other                                                                                              11337 non-null  bool   \n",
      " 33  junction_detail_Private drive or entrance                                                                          11337 non-null  bool   \n",
      " 34  junction_detail_Roundabout                                                                                         11337 non-null  bool   \n",
      " 35  junction_detail_Slip road                                                                                          11337 non-null  bool   \n",
      " 36  junction_detail_T or staggered junction                                                                            11337 non-null  bool   \n",
      " 37  second_road_class_A                                                                                                11337 non-null  bool   \n",
      " 38  second_road_class_B                                                                                                11337 non-null  bool   \n",
      " 39  second_road_class_C                                                                                                11337 non-null  bool   \n",
      " 40  second_road_class_Motorway                                                                                         11337 non-null  bool   \n",
      " 41  second_road_class_Not at junction or within 20 metres                                                              11337 non-null  bool   \n",
      " 42  second_road_class_Unclassified                                                                                     11337 non-null  bool   \n",
      " 43  pedestrian_crossing_physical_facilities_Central refuge                                                             11337 non-null  bool   \n",
      " 44  pedestrian_crossing_physical_facilities_No physical crossing facilities within 50 metres                           11337 non-null  bool   \n",
      " 45  pedestrian_crossing_physical_facilities_Pedestrian phase at traffic signal junction                                11337 non-null  bool   \n",
      " 46  pedestrian_crossing_physical_facilities_Pelican, puffin, toucan or similar non-junction pedestrian light crossing  11337 non-null  bool   \n",
      " 47  pedestrian_crossing_physical_facilities_Zebra                                                                      11337 non-null  bool   \n",
      " 48  light_conditions_Darkness                                                                                          11337 non-null  bool   \n",
      " 49  light_conditions_Darkness - lights lit                                                                             11337 non-null  bool   \n",
      " 50  light_conditions_Daylight                                                                                          11337 non-null  bool   \n",
      " 51  casualty_class_Driver or rider                                                                                     11337 non-null  bool   \n",
      " 52  casualty_class_Passenger                                                                                           11337 non-null  bool   \n",
      " 53  casualty_class_Pedestrian                                                                                          11337 non-null  bool   \n",
      " 54  car_passenger_Front seat passenger                                                                                 11337 non-null  bool   \n",
      " 55  car_passenger_Not car passenger                                                                                    11337 non-null  bool   \n",
      " 56  car_passenger_Rear seat passenger                                                                                  11337 non-null  bool   \n",
      " 57  casualty_type_Car occupant                                                                                         11337 non-null  bool   \n",
      " 58  casualty_type_Cyclist                                                                                              11337 non-null  bool   \n",
      " 59  casualty_type_Large Vehicle                                                                                        11337 non-null  bool   \n",
      " 60  casualty_type_Mobility scooter rider                                                                               11337 non-null  bool   \n",
      " 61  casualty_type_Motorcycle                                                                                           11337 non-null  bool   \n",
      " 62  casualty_type_Other                                                                                                11337 non-null  bool   \n",
      " 63  casualty_type_Pedestrian                                                                                           11337 non-null  bool   \n",
      "dtypes: bool(46), float64(8), int64(7), int8(3)\n",
      "memory usage: 1.8 MB\n"
     ]
    }
   ],
   "source": [
    "train.info()"
   ]
  },
  {
   "cell_type": "markdown",
   "metadata": {},
   "source": [
    "So we've got 59 total features, along with out predictor. Let's see what happens when we test some different models."
   ]
  },
  {
   "cell_type": "markdown",
   "metadata": {},
   "source": [
    "___\n",
    "## Initial modelling"
   ]
  },
  {
   "cell_type": "markdown",
   "metadata": {},
   "source": [
    "It is incredibly important to make sure there is no leakage between the training and validation datasets that we use to train our model during cross-fold validation.\n",
    "\n",
    "Not only do we need to consider stratification (so that the class distributions are reflected in the folds), we also need to consider the grouping (by accident index) of our rows.\n",
    "\n",
    "Thankfully, SKlearn has a handy variation of the k-fold splitting called StratifiedGroupKFold which will handle this for us. We can even feed this k-fold variation directly into the cross_val_score function to handle everything for us. We just need to pass in the information about how to group the data."
   ]
  },
  {
   "cell_type": "code",
   "execution_count": 81,
   "metadata": {},
   "outputs": [],
   "source": [
    "groups = train['accident_index'].copy().tolist()"
   ]
  },
  {
   "cell_type": "code",
   "execution_count": 82,
   "metadata": {},
   "outputs": [],
   "source": [
    "y_train = train['casualty_severity']\n",
    "X_train = train.drop(['casualty_severity'], axis=1)\n",
    "\n",
    "y_test = test['casualty_severity']\n",
    "X_test = test.drop(['casualty_severity'], axis=1)"
   ]
  },
  {
   "cell_type": "code",
   "execution_count": 83,
   "metadata": {},
   "outputs": [
    {
     "data": {
      "text/html": [
       "<div>\n",
       "<style scoped>\n",
       "    .dataframe tbody tr th:only-of-type {\n",
       "        vertical-align: middle;\n",
       "    }\n",
       "\n",
       "    .dataframe tbody tr th {\n",
       "        vertical-align: top;\n",
       "    }\n",
       "\n",
       "    .dataframe thead th {\n",
       "        text-align: right;\n",
       "    }\n",
       "</style>\n",
       "<table border=\"1\" class=\"dataframe\">\n",
       "  <thead>\n",
       "    <tr style=\"text-align: right;\">\n",
       "      <th></th>\n",
       "      <th>accident_index</th>\n",
       "      <th>accident_year</th>\n",
       "      <th>number_of_vehicles</th>\n",
       "      <th>number_of_casualties</th>\n",
       "      <th>speed_limit</th>\n",
       "      <th>urban_or_rural_area</th>\n",
       "      <th>trunk_road_flag</th>\n",
       "      <th>sex_of_casualty</th>\n",
       "      <th>age_band_of_casualty</th>\n",
       "      <th>high_winds</th>\n",
       "      <th>...</th>\n",
       "      <th>car_passenger_Front seat passenger</th>\n",
       "      <th>car_passenger_Not car passenger</th>\n",
       "      <th>car_passenger_Rear seat passenger</th>\n",
       "      <th>casualty_type_Car occupant</th>\n",
       "      <th>casualty_type_Cyclist</th>\n",
       "      <th>casualty_type_Large Vehicle</th>\n",
       "      <th>casualty_type_Mobility scooter rider</th>\n",
       "      <th>casualty_type_Motorcycle</th>\n",
       "      <th>casualty_type_Other</th>\n",
       "      <th>casualty_type_Pedestrian</th>\n",
       "    </tr>\n",
       "  </thead>\n",
       "  <tbody>\n",
       "    <tr>\n",
       "      <th>0</th>\n",
       "      <td>2022141225261</td>\n",
       "      <td>3</td>\n",
       "      <td>0.142857</td>\n",
       "      <td>0.1250</td>\n",
       "      <td>2</td>\n",
       "      <td>0</td>\n",
       "      <td>0</td>\n",
       "      <td>0</td>\n",
       "      <td>6</td>\n",
       "      <td>0</td>\n",
       "      <td>...</td>\n",
       "      <td>False</td>\n",
       "      <td>True</td>\n",
       "      <td>False</td>\n",
       "      <td>True</td>\n",
       "      <td>False</td>\n",
       "      <td>False</td>\n",
       "      <td>False</td>\n",
       "      <td>False</td>\n",
       "      <td>False</td>\n",
       "      <td>False</td>\n",
       "    </tr>\n",
       "    <tr>\n",
       "      <th>1</th>\n",
       "      <td>2022141225261</td>\n",
       "      <td>3</td>\n",
       "      <td>0.142857</td>\n",
       "      <td>0.1250</td>\n",
       "      <td>2</td>\n",
       "      <td>0</td>\n",
       "      <td>0</td>\n",
       "      <td>0</td>\n",
       "      <td>6</td>\n",
       "      <td>0</td>\n",
       "      <td>...</td>\n",
       "      <td>False</td>\n",
       "      <td>True</td>\n",
       "      <td>False</td>\n",
       "      <td>True</td>\n",
       "      <td>False</td>\n",
       "      <td>False</td>\n",
       "      <td>False</td>\n",
       "      <td>False</td>\n",
       "      <td>False</td>\n",
       "      <td>False</td>\n",
       "    </tr>\n",
       "    <tr>\n",
       "      <th>2</th>\n",
       "      <td>2022141225261</td>\n",
       "      <td>3</td>\n",
       "      <td>0.142857</td>\n",
       "      <td>0.1250</td>\n",
       "      <td>2</td>\n",
       "      <td>0</td>\n",
       "      <td>0</td>\n",
       "      <td>0</td>\n",
       "      <td>6</td>\n",
       "      <td>0</td>\n",
       "      <td>...</td>\n",
       "      <td>False</td>\n",
       "      <td>True</td>\n",
       "      <td>False</td>\n",
       "      <td>True</td>\n",
       "      <td>False</td>\n",
       "      <td>False</td>\n",
       "      <td>False</td>\n",
       "      <td>False</td>\n",
       "      <td>False</td>\n",
       "      <td>False</td>\n",
       "    </tr>\n",
       "    <tr>\n",
       "      <th>3</th>\n",
       "      <td>2023141320860</td>\n",
       "      <td>4</td>\n",
       "      <td>0.142857</td>\n",
       "      <td>0.0000</td>\n",
       "      <td>1</td>\n",
       "      <td>0</td>\n",
       "      <td>0</td>\n",
       "      <td>1</td>\n",
       "      <td>5</td>\n",
       "      <td>0</td>\n",
       "      <td>...</td>\n",
       "      <td>False</td>\n",
       "      <td>True</td>\n",
       "      <td>False</td>\n",
       "      <td>True</td>\n",
       "      <td>False</td>\n",
       "      <td>False</td>\n",
       "      <td>False</td>\n",
       "      <td>False</td>\n",
       "      <td>False</td>\n",
       "      <td>False</td>\n",
       "    </tr>\n",
       "    <tr>\n",
       "      <th>4</th>\n",
       "      <td>2019140899675</td>\n",
       "      <td>0</td>\n",
       "      <td>0.142857</td>\n",
       "      <td>0.0625</td>\n",
       "      <td>4</td>\n",
       "      <td>1</td>\n",
       "      <td>0</td>\n",
       "      <td>1</td>\n",
       "      <td>6</td>\n",
       "      <td>0</td>\n",
       "      <td>...</td>\n",
       "      <td>True</td>\n",
       "      <td>False</td>\n",
       "      <td>False</td>\n",
       "      <td>True</td>\n",
       "      <td>False</td>\n",
       "      <td>False</td>\n",
       "      <td>False</td>\n",
       "      <td>False</td>\n",
       "      <td>False</td>\n",
       "      <td>False</td>\n",
       "    </tr>\n",
       "  </tbody>\n",
       "</table>\n",
       "<p>5 rows × 63 columns</p>\n",
       "</div>"
      ],
      "text/plain": [
       "   accident_index  accident_year  number_of_vehicles  number_of_casualties  \\\n",
       "0   2022141225261              3            0.142857                0.1250   \n",
       "1   2022141225261              3            0.142857                0.1250   \n",
       "2   2022141225261              3            0.142857                0.1250   \n",
       "3   2023141320860              4            0.142857                0.0000   \n",
       "4   2019140899675              0            0.142857                0.0625   \n",
       "\n",
       "   speed_limit  urban_or_rural_area  trunk_road_flag  sex_of_casualty  \\\n",
       "0            2                    0                0                0   \n",
       "1            2                    0                0                0   \n",
       "2            2                    0                0                0   \n",
       "3            1                    0                0                1   \n",
       "4            4                    1                0                1   \n",
       "\n",
       "   age_band_of_casualty  high_winds  ...  car_passenger_Front seat passenger  \\\n",
       "0                     6           0  ...                               False   \n",
       "1                     6           0  ...                               False   \n",
       "2                     6           0  ...                               False   \n",
       "3                     5           0  ...                               False   \n",
       "4                     6           0  ...                                True   \n",
       "\n",
       "   car_passenger_Not car passenger  car_passenger_Rear seat passenger  \\\n",
       "0                             True                              False   \n",
       "1                             True                              False   \n",
       "2                             True                              False   \n",
       "3                             True                              False   \n",
       "4                            False                              False   \n",
       "\n",
       "   casualty_type_Car occupant  casualty_type_Cyclist  \\\n",
       "0                        True                  False   \n",
       "1                        True                  False   \n",
       "2                        True                  False   \n",
       "3                        True                  False   \n",
       "4                        True                  False   \n",
       "\n",
       "   casualty_type_Large Vehicle  casualty_type_Mobility scooter rider  \\\n",
       "0                        False                                 False   \n",
       "1                        False                                 False   \n",
       "2                        False                                 False   \n",
       "3                        False                                 False   \n",
       "4                        False                                 False   \n",
       "\n",
       "   casualty_type_Motorcycle  casualty_type_Other  casualty_type_Pedestrian  \n",
       "0                     False                False                     False  \n",
       "1                     False                False                     False  \n",
       "2                     False                False                     False  \n",
       "3                     False                False                     False  \n",
       "4                     False                False                     False  \n",
       "\n",
       "[5 rows x 63 columns]"
      ]
     },
     "execution_count": 83,
     "metadata": {},
     "output_type": "execute_result"
    }
   ],
   "source": [
    "X_train.head()"
   ]
  },
  {
   "cell_type": "code",
   "execution_count": 84,
   "metadata": {},
   "outputs": [],
   "source": [
    "def evaluate_model(model_class, X_train=X_train, y_train=y_train):\n",
    "    gkf = StratifiedGroupKFold(n_splits=5, shuffle=True)\n",
    "\n",
    "    # Stratified Group K fold cross validation and predict on training data without data leakage from multiple casualties per collision\n",
    "    accuracy_scores = cross_val_score(model_class, X_train, y_train.to_numpy().ravel(), cv=gkf, scoring='accuracy', groups=groups) * 100\n",
    "    precision_scores = cross_val_score(model_class, X_train, y_train.to_numpy().ravel(), cv=gkf, scoring='precision', groups=groups) * 100\n",
    "    recall_scores = cross_val_score(model_class, X_train, y_train.to_numpy().ravel(), cv=gkf, scoring='recall', groups=groups) * 100\n",
    "    f1_scores = cross_val_score(model_class, X_train, y_train.to_numpy().ravel(), cv=gkf, scoring='f1', groups=groups) * 100\n",
    "    \n",
    "\n",
    "    metrics_dict = {\n",
    "        'Model Type': model_class,\n",
    "        'CV_mean_accuracy': np.round(accuracy_scores.mean(), 1), \n",
    "        'CV_mean_precision':np.round(precision_scores.mean(), 1), \n",
    "        'CV_mean_recall': np.round(recall_scores.mean(), 1), \n",
    "        'CV_mean_F1': np.round(f1_scores.mean(), 1)\n",
    "        \n",
    "       \n",
    "    }   \n",
    "\n",
    "    return metrics_dict"
   ]
  },
  {
   "cell_type": "code",
   "execution_count": 85,
   "metadata": {},
   "outputs": [
    {
     "name": "stdout",
     "output_type": "stream",
     "text": [
      "\n",
      "Classification Report (KNN):\n",
      "              precision    recall  f1-score   support\n",
      "\n",
      "           0       0.72      0.78      0.75      8156\n",
      "           1       0.28      0.22      0.25      3181\n",
      "\n",
      "    accuracy                           0.62     11337\n",
      "   macro avg       0.50      0.50      0.50     11337\n",
      "weighted avg       0.60      0.62      0.61     11337\n",
      "\n",
      "\n",
      "Classification Report (Random Forest):\n",
      "              precision    recall  f1-score   support\n",
      "\n",
      "           0       1.00      1.00      1.00      8156\n",
      "           1       1.00      1.00      1.00      3181\n",
      "\n",
      "    accuracy                           1.00     11337\n",
      "   macro avg       1.00      1.00      1.00     11337\n",
      "weighted avg       1.00      1.00      1.00     11337\n",
      "\n",
      "\n",
      "Classification Report (XGBoost):\n",
      "              precision    recall  f1-score   support\n",
      "\n",
      "           0       0.92      0.99      0.95      8156\n",
      "           1       0.97      0.78      0.86      3181\n",
      "\n",
      "    accuracy                           0.93     11337\n",
      "   macro avg       0.94      0.88      0.91     11337\n",
      "weighted avg       0.93      0.93      0.93     11337\n",
      "\n"
     ]
    }
   ],
   "source": [
    "models = {'KNN': KNeighborsClassifier(), 'Random Forest': RandomForestClassifier(), 'XGBoost': XGBClassifier()}  \n",
    "model_metric_dict = {}\n",
    "\n",
    "for key, values in models.items():\n",
    "  pred = values.fit(X_train, y_train).predict(X_train)\n",
    "  print(f\"\\nClassification Report ({key}):\")\n",
    "  print(classification_report(y_train, pred))"
   ]
  },
  {
   "cell_type": "code",
   "execution_count": 86,
   "metadata": {},
   "outputs": [
    {
     "data": {
      "text/html": [
       "<div>\n",
       "<style scoped>\n",
       "    .dataframe tbody tr th:only-of-type {\n",
       "        vertical-align: middle;\n",
       "    }\n",
       "\n",
       "    .dataframe tbody tr th {\n",
       "        vertical-align: top;\n",
       "    }\n",
       "\n",
       "    .dataframe thead th {\n",
       "        text-align: right;\n",
       "    }\n",
       "</style>\n",
       "<table border=\"1\" class=\"dataframe\">\n",
       "  <thead>\n",
       "    <tr style=\"text-align: right;\">\n",
       "      <th></th>\n",
       "      <th>Model Type</th>\n",
       "      <th>CV_mean_accuracy</th>\n",
       "      <th>CV_mean_precision</th>\n",
       "      <th>CV_mean_recall</th>\n",
       "      <th>CV_mean_F1</th>\n",
       "    </tr>\n",
       "  </thead>\n",
       "  <tbody>\n",
       "    <tr>\n",
       "      <th>XGBoost</th>\n",
       "      <td>XGBClassifier(base_score=None, booster=None, c...</td>\n",
       "      <td>69.5</td>\n",
       "      <td>42.7</td>\n",
       "      <td>24.0</td>\n",
       "      <td>32.2</td>\n",
       "    </tr>\n",
       "    <tr>\n",
       "      <th>KNN</th>\n",
       "      <td>KNeighborsClassifier()</td>\n",
       "      <td>61.3</td>\n",
       "      <td>27.0</td>\n",
       "      <td>19.9</td>\n",
       "      <td>23.9</td>\n",
       "    </tr>\n",
       "    <tr>\n",
       "      <th>Random Forest</th>\n",
       "      <td>(DecisionTreeClassifier(max_features='sqrt', r...</td>\n",
       "      <td>71.7</td>\n",
       "      <td>48.4</td>\n",
       "      <td>14.1</td>\n",
       "      <td>22.2</td>\n",
       "    </tr>\n",
       "  </tbody>\n",
       "</table>\n",
       "</div>"
      ],
      "text/plain": [
       "                                                      Model Type  \\\n",
       "XGBoost        XGBClassifier(base_score=None, booster=None, c...   \n",
       "KNN                                       KNeighborsClassifier()   \n",
       "Random Forest  (DecisionTreeClassifier(max_features='sqrt', r...   \n",
       "\n",
       "              CV_mean_accuracy CV_mean_precision CV_mean_recall CV_mean_F1  \n",
       "XGBoost                   69.5              42.7           24.0       32.2  \n",
       "KNN                       61.3              27.0           19.9       23.9  \n",
       "Random Forest             71.7              48.4           14.1       22.2  "
      ]
     },
     "execution_count": 86,
     "metadata": {},
     "output_type": "execute_result"
    }
   ],
   "source": [
    "for key, values in models.items():\n",
    "  metrics_dict = evaluate_model(values)\n",
    "  model_metric_dict.update({key: metrics_dict})\n",
    "\n",
    "results = pd.DataFrame.from_dict(model_metric_dict).T.round(2)\n",
    "results.sort_values(by='CV_mean_recall', ascending=False)"
   ]
  },
  {
   "cell_type": "markdown",
   "metadata": {},
   "source": [
    "We're clearly __massively__ overfitting to our training data. \n",
    "\n",
    "With our RF classifier, we have nearly 100% f1 score (the model predicts the correct outcome for every collision) without any cross-fold validation. With 5-fold stratified cross-validation using grouping (so there is no leakage of collisions with the same accident_index between the training and validation folds), the f1 score of all of our models drops dramatically. For the RF model, this is down to 22% - lower than the dummy classifier.\n",
    "\n",
    "The only model that beats the dummy classifier is the XGBoost model, and even then we are #at 0.32 versus 0.27 for the dummy classifier. Although this is an 18.5% relative improvement in the model performance, so not to be discounted.\n",
    "\n",
    "We need to revisit feature engineering to improve the generalisability of the model and reduce the overfitting.\n",
    "\n",
    "Importantly, these cross-validated F1 scores are __significantly__ lower than without the grouping in the K-fold cross-validation. This shows that without using this technique we were experiencing significant data leakeage during training cross-validaiton which would severely impact the performance of our model on __truly__ unseen data."
   ]
  }
 ],
 "metadata": {
  "kernelspec": {
   "display_name": "DfT_project_env",
   "language": "python",
   "name": "python3"
  },
  "language_info": {
   "codemirror_mode": {
    "name": "ipython",
    "version": 3
   },
   "file_extension": ".py",
   "mimetype": "text/x-python",
   "name": "python",
   "nbconvert_exporter": "python",
   "pygments_lexer": "ipython3",
   "version": "3.12.0"
  }
 },
 "nbformat": 4,
 "nbformat_minor": 2
}
