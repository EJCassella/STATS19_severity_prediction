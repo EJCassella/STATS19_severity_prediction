{
 "cells": [
  {
   "cell_type": "markdown",
   "metadata": {},
   "source": [
    "# 08 - Feature Selection and Engineering Round 2\n",
    "____\n",
    "\n",
    "From our initital modelling we found that our F1 score on the training set was quite high (80%) but dropped quite severely (to 50%) when we performed cross-fold (5 fold) validation on the same data. This is indicative that we were quite severely overfitting to the training data.\n",
    "\n",
    "To investigate this further, we performed recursive feature elimination. This technique selectively removes features to identify the key features. From a graph of the F1 Score versus the number of features that the RFE model used, we found an inflection point at 21 features: after this point, additional features didn't add extra information to the model, so we have a lot of superfluous information.\n",
    "\n",
    "Our top features also included 'day_sin', 'day_cos', 'month_cos', 'hour_sin', and 'hour_cos' quite high on the importance list. We are mostly likely overfitting to the timestamp of the collisions. We can certainly furhter engineer the time data.\n",
    "\n",
    "Our casualty class and casualty type also contains similar information - can we combine these features?\n",
    "\n",
    "There are very few collisions with a high number of casualties / vehicles so we could roll these into a 3+ category. The no of cas and no of vehs is also somewhat correlated (as you might expect) so could we combine these features?"
   ]
  },
  {
   "cell_type": "code",
   "execution_count": 1,
   "metadata": {},
   "outputs": [],
   "source": [
    "import pandas as pd\n",
    "import numpy as np\n",
    "import seaborn as sns\n",
    "import matplotlib.pyplot as plt"
   ]
  },
  {
   "cell_type": "code",
   "execution_count": 2,
   "metadata": {},
   "outputs": [],
   "source": [
    "train = pd.read_csv('feat_sel_training_data.csv')\n",
    "test = pd.read_csv('feat_sel_testing_data.csv')"
   ]
  },
  {
   "cell_type": "code",
   "execution_count": 3,
   "metadata": {},
   "outputs": [
    {
     "name": "stdout",
     "output_type": "stream",
     "text": [
      "<class 'pandas.core.frame.DataFrame'>\n",
      "RangeIndex: 530630 entries, 0 to 530629\n",
      "Data columns (total 26 columns):\n",
      " #   Column                                   Non-Null Count   Dtype  \n",
      "---  ------                                   --------------   -----  \n",
      " 0   accident_year                            530630 non-null  int64  \n",
      " 1   number_of_vehicles                       530630 non-null  int64  \n",
      " 2   number_of_casualties                     530630 non-null  int64  \n",
      " 3   day_of_week                              530630 non-null  object \n",
      " 4   first_road_class                         530630 non-null  object \n",
      " 5   road_type                                530630 non-null  object \n",
      " 6   speed_limit                              530630 non-null  float64\n",
      " 7   junction_detail                          530630 non-null  object \n",
      " 8   second_road_class                        530630 non-null  object \n",
      " 9   pedestrian_crossing_physical_facilities  530630 non-null  object \n",
      " 10  light_conditions                         530630 non-null  object \n",
      " 11  weather_conditions                       530630 non-null  object \n",
      " 12  road_surface_conditions                  530630 non-null  object \n",
      " 13  urban_or_rural_area                      530630 non-null  object \n",
      " 14  casualty_class                           530630 non-null  object \n",
      " 15  sex_of_casualty                          530630 non-null  object \n",
      " 16  age_band_of_casualty                     530630 non-null  object \n",
      " 17  casualty_severity                        530630 non-null  int64  \n",
      " 18  car_passenger                            530630 non-null  object \n",
      " 19  bus_or_coach_passenger                   530630 non-null  object \n",
      " 20  casualty_type                            530630 non-null  object \n",
      " 21  Hour                                     530630 non-null  int64  \n",
      " 22  Month                                    530630 non-null  int64  \n",
      " 23  Day                                      530630 non-null  int64  \n",
      " 24  high_winds                               530630 non-null  bool   \n",
      " 25  pedestrian_in_carriageway                530630 non-null  bool   \n",
      "dtypes: bool(2), float64(1), int64(7), object(16)\n",
      "memory usage: 98.2+ MB\n"
     ]
    }
   ],
   "source": [
    "train.info()"
   ]
  },
  {
   "cell_type": "code",
   "execution_count": 4,
   "metadata": {},
   "outputs": [],
   "source": [
    "for dataset in [train, test]:\n",
    "  dataset.loc[(dataset.casualty_class == 'Driver or rider') & (dataset.casualty_type == 'Car occupant'), 'casualty_type'] = 'Car driver'\n",
    "  dataset.loc[(dataset.casualty_class == 'Passenger') & (dataset.casualty_type == 'Car occupant'), 'casualty_type'] = 'Car passenger'\n",
    "  dataset.loc[dataset.car_passenger.str.contains('unknown|missing', case=False), 'car_passenger'] = 'Front seat passenger'\n",
    "  dataset.loc[(dataset.casualty_type == 'Car passenger') & (dataset.car_passenger == 'Front seat passenger'), 'casualty_type'] = 'Car front seat passenger'\n",
    "  dataset.loc[(dataset.casualty_type == 'Car passenger') & (dataset.car_passenger == 'Rear seat passenger'), 'casualty_type'] = 'Car rear seat passenger'\n",
    "  dataset.loc[(dataset.casualty_type == 'Car passenger'), 'casualty_type'] = 'Car front seat passenger'\n",
    "\n",
    "  dataset.loc[(dataset.casualty_class == 'Driver or rider') & (dataset.casualty_type.str.contains('motorcycle', case = False)), 'casualty_type'] = 'Motorcycle rider'\n",
    "  dataset.loc[(dataset.casualty_class == 'Passenger') & (dataset.casualty_type.str.contains('motorcycle', case = False)), 'casualty_type'] = 'Motorcycle passenger'\n",
    "\n",
    "  dataset.loc[(dataset.casualty_class == 'Driver or rider') & (dataset.casualty_type == 'Large Vehicle'), 'casualty_type'] = 'Large vehicle driver'\n",
    "  dataset.loc[(dataset.casualty_class == 'Passenger') & (dataset.casualty_type == 'Large Vehicle'), 'casualty_type'] = 'Large vehicle passenger'\n",
    "\n",
    "\n",
    "  dataset.loc[dataset.casualty_type.str.contains('mobility|agricultural|horse|mobility scooter rider', case = False), 'casualty_type'] = 'Other'\n",
    "\n",
    "  dataset.drop(labels='casualty_class', inplace=True, axis=1)"
   ]
  },
  {
   "cell_type": "markdown",
   "metadata": {},
   "source": [
    "The car_passenger column contains the same information as our new casualty_type column, so we can drop this."
   ]
  },
  {
   "cell_type": "code",
   "execution_count": 5,
   "metadata": {},
   "outputs": [],
   "source": [
    "for dataset in [train, test]:\n",
    "  dataset.drop(columns='car_passenger', axis=1, inplace=True)"
   ]
  },
  {
   "cell_type": "markdown",
   "metadata": {},
   "source": [
    "Let's create a rush hour feature, a weekend feature and a daytime vs nighttime feature from our time and day columns.\n",
    "\n",
    "First up, rush hour."
   ]
  },
  {
   "cell_type": "code",
   "execution_count": 6,
   "metadata": {},
   "outputs": [
    {
     "name": "stderr",
     "output_type": "stream",
     "text": [
      "C:\\Users\\ph1ejc\\AppData\\Local\\Temp\\ipykernel_19232\\3770846768.py:12: FutureWarning: Setting an item of incompatible dtype is deprecated and will raise in a future error of pandas. Value 'True' has dtype incompatible with float64, please explicitly cast to a compatible dtype first.\n",
      "  dataset.loc[(~dataset.day_of_week.isin(weekend)) & (dataset.Hour.isin(rush_hours)), 'rushhour'] = True\n",
      "C:\\Users\\ph1ejc\\AppData\\Local\\Temp\\ipykernel_19232\\3770846768.py:12: FutureWarning: Setting an item of incompatible dtype is deprecated and will raise in a future error of pandas. Value 'True' has dtype incompatible with float64, please explicitly cast to a compatible dtype first.\n",
      "  dataset.loc[(~dataset.day_of_week.isin(weekend)) & (dataset.Hour.isin(rush_hours)), 'rushhour'] = True\n"
     ]
    }
   ],
   "source": [
    "rush_hours = [7, 8, 9, 10, 16, 17, 18, 19] #only mon - fri\n",
    "night_hours = [21, 22, 23, 0, 1, 2, 3, 4, 5, 6]\n",
    "weekend = [5, 6] # Indexed from Monday:0 to Sunday:6. Also friday after rush hour\n",
    "\n",
    "\n",
    "for dataset in [train, test]:\n",
    "  # First we need to reengineer our day of the week\n",
    "  dataset.rename(columns={'accident_year': 'Year'}, inplace=True)\n",
    "  dataset['date'] = pd.to_datetime(dataset[['Year', 'Month', 'Day']])\n",
    "  dataset['day_of_week'] = dataset.date.dt.day_of_week\n",
    "  #If its not the weekend and it's rush hour, then rush hour\n",
    "  dataset.loc[(~dataset.day_of_week.isin(weekend)) & (dataset.Hour.isin(rush_hours)), 'rushhour'] = True\n",
    "  dataset.loc[(dataset.day_of_week.isin(weekend), 'rushhour')] = False\n",
    "  dataset.loc[(~dataset.day_of_week.isin(weekend) & (~dataset.Hour.isin(rush_hours)), 'rushhour')] = False\n",
    "\n"
   ]
  },
  {
   "cell_type": "markdown",
   "metadata": {},
   "source": [
    "Now, daytime or night time?"
   ]
  },
  {
   "cell_type": "code",
   "execution_count": 7,
   "metadata": {},
   "outputs": [
    {
     "name": "stderr",
     "output_type": "stream",
     "text": [
      "C:\\Users\\ph1ejc\\AppData\\Local\\Temp\\ipykernel_19232\\2903942194.py:2: FutureWarning: Setting an item of incompatible dtype is deprecated and will raise in a future error of pandas. Value 'True' has dtype incompatible with float64, please explicitly cast to a compatible dtype first.\n",
      "  dataset.loc[dataset.Hour.isin(night_hours), 'nighttime'] = True\n",
      "C:\\Users\\ph1ejc\\AppData\\Local\\Temp\\ipykernel_19232\\2903942194.py:2: FutureWarning: Setting an item of incompatible dtype is deprecated and will raise in a future error of pandas. Value 'True' has dtype incompatible with float64, please explicitly cast to a compatible dtype first.\n",
      "  dataset.loc[dataset.Hour.isin(night_hours), 'nighttime'] = True\n"
     ]
    }
   ],
   "source": [
    "for dataset in [train, test]: \n",
    "  dataset.loc[dataset.Hour.isin(night_hours), 'nighttime'] = True\n",
    "  dataset.loc[~dataset.Hour.isin(night_hours), 'nighttime'] = False\n"
   ]
  },
  {
   "cell_type": "markdown",
   "metadata": {},
   "source": [
    "Weekend or not? Let's include Friday nights as weekends (i.e. after rush hour on Friday)"
   ]
  },
  {
   "cell_type": "code",
   "execution_count": 8,
   "metadata": {},
   "outputs": [
    {
     "name": "stderr",
     "output_type": "stream",
     "text": [
      "C:\\Users\\ph1ejc\\AppData\\Local\\Temp\\ipykernel_19232\\3704356794.py:3: FutureWarning: Setting an item of incompatible dtype is deprecated and will raise in a future error of pandas. Value 'True' has dtype incompatible with float64, please explicitly cast to a compatible dtype first.\n",
      "  dataset.loc[dataset.day_of_week.isin(weekend), 'weekend'] = True\n",
      "C:\\Users\\ph1ejc\\AppData\\Local\\Temp\\ipykernel_19232\\3704356794.py:3: FutureWarning: Setting an item of incompatible dtype is deprecated and will raise in a future error of pandas. Value 'True' has dtype incompatible with float64, please explicitly cast to a compatible dtype first.\n",
      "  dataset.loc[dataset.day_of_week.isin(weekend), 'weekend'] = True\n"
     ]
    }
   ],
   "source": [
    "for dataset in [train, test]: \n",
    "  # If saturday or sunday then weekend\n",
    "  dataset.loc[dataset.day_of_week.isin(weekend), 'weekend'] = True\n",
    "  # If friday and the hour is > than the end of rush hour, then weekend\n",
    "  dataset.loc[(dataset.day_of_week == 4) & (dataset.Hour > max(rush_hours)), 'weekend'] = True\n",
    "  dataset.loc[dataset.weekend != 1, 'weekend'] = False\n",
    "\n"
   ]
  },
  {
   "cell_type": "markdown",
   "metadata": {},
   "source": [
    "Let's drop those time/date columns that we're over fitting to."
   ]
  },
  {
   "cell_type": "code",
   "execution_count": 9,
   "metadata": {},
   "outputs": [],
   "source": [
    "cols_to_drop = ['Hour', 'Month', 'Day', 'Year', 'date', 'day_of_week']\n",
    "for dataset in [train, test]:\n",
    "  dataset.drop(columns=cols_to_drop, inplace=True, axis=1)"
   ]
  },
  {
   "cell_type": "code",
   "execution_count": 10,
   "metadata": {},
   "outputs": [],
   "source": [
    "for dataset in [train, test]:\n",
    "  dataset['number_of_vehicles'] = np.where(dataset['number_of_vehicles'] >= 3, '3+', dataset['number_of_vehicles'])\n",
    "  dataset['number_of_casualties'] = np.where(dataset['number_of_casualties'] >= 3, '3+', dataset['number_of_casualties'])\n"
   ]
  },
  {
   "cell_type": "code",
   "execution_count": 11,
   "metadata": {},
   "outputs": [
    {
     "data": {
      "text/plain": [
       "<Axes: >"
      ]
     },
     "execution_count": 11,
     "metadata": {},
     "output_type": "execute_result"
    },
    {
     "data": {
      "image/png": "[encoded data removed]",
      "text/plain": [
       "<Figure size 640x480 with 2 Axes>"
      ]
     },
     "metadata": {},
     "output_type": "display_data"
    }
   ],
   "source": [
    "corr = train.select_dtypes(include=[np.number, bool]).corr()\n",
    "mask=np.triu(np.ones_like(corr, dtype=bool))\n",
    "sns.heatmap(corr, mask=mask, center=0, annot=True, fmt=\".2f\")"
   ]
  },
  {
   "cell_type": "code",
   "execution_count": 12,
   "metadata": {},
   "outputs": [],
   "source": [
    "train.to_csv('feat_sel_2_training_data.csv', index=False)\n",
    "test.to_csv('feat_sel_2_testing_data.csv', index=False)"
   ]
  },
  {
   "cell_type": "code",
   "execution_count": null,
   "metadata": {},
   "outputs": [],
   "source": []
  }
 ],
 "metadata": {
  "kernelspec": {
   "display_name": "DfT_project_env",
   "language": "python",
   "name": "python3"
  },
  "language_info": {
   "codemirror_mode": {
    "name": "ipython",
    "version": 3
   },
   "file_extension": ".py",
   "mimetype": "text/x-python",
   "name": "python",
   "nbconvert_exporter": "python",
   "pygments_lexer": "ipython3",
   "version": "3.12.0"
  }
 },
 "nbformat": 4,
 "nbformat_minor": 2
}
