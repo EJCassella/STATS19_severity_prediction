{
 "cells": [
  {
   "cell_type": "markdown",
   "metadata": {},
   "source": [
    "# 05 - Initial Feature Selection and Engineering\n",
    "____\n",
    "\n"
   ]
  },
  {
   "cell_type": "code",
   "execution_count": 17,
   "metadata": {},
   "outputs": [],
   "source": [
    "import pandas as pd\n",
    "import numpy as np\n",
    "import seaborn as sns\n",
    "import pingouin as pg\n"
   ]
  },
  {
   "cell_type": "code",
   "execution_count": 18,
   "metadata": {},
   "outputs": [],
   "source": [
    "train = pd.read_csv('cleaned_training_data.csv', low_memory = False)\n",
    "test = pd.read_csv('cleaned_testing_data.csv', low_memory = False)"
   ]
  },
  {
   "cell_type": "markdown",
   "metadata": {},
   "source": [
    "We currently have 43 features plus our 1 predictor (casualty_severity). This many features (especially with many high cardinality features) is likely to lead to severe overfitting of our model. We need to get stuck into some feature selection."
   ]
  },
  {
   "cell_type": "code",
   "execution_count": 19,
   "metadata": {},
   "outputs": [
    {
     "data": {
      "text/plain": [
       "(532806, 41)"
      ]
     },
     "execution_count": 19,
     "metadata": {},
     "output_type": "execute_result"
    }
   ],
   "source": [
    "train.shape"
   ]
  },
  {
   "cell_type": "code",
   "execution_count": 20,
   "metadata": {},
   "outputs": [
    {
     "name": "stdout",
     "output_type": "stream",
     "text": [
      "<class 'pandas.core.frame.DataFrame'>\n",
      "RangeIndex: 532806 entries, 0 to 532805\n",
      "Data columns (total 41 columns):\n",
      " #   Column                                       Non-Null Count   Dtype  \n",
      "---  ------                                       --------------   -----  \n",
      " 0   accident_index                               532806 non-null  object \n",
      " 1   accident_year                                532806 non-null  int64  \n",
      " 2   accident_reference                           532806 non-null  object \n",
      " 3   location_easting_osgr                        532806 non-null  float64\n",
      " 4   location_northing_osgr                       532806 non-null  float64\n",
      " 5   longitude                                    532806 non-null  float64\n",
      " 6   latitude                                     532806 non-null  float64\n",
      " 7   accident_severity                            532806 non-null  object \n",
      " 8   number_of_vehicles                           532806 non-null  int64  \n",
      " 9   number_of_casualties                         532806 non-null  int64  \n",
      " 10  date                                         532806 non-null  object \n",
      " 11  day_of_week                                  532806 non-null  object \n",
      " 12  time                                         532806 non-null  object \n",
      " 13  local_authority_ons_district                 532806 non-null  object \n",
      " 14  local_authority_highway                      532806 non-null  object \n",
      " 15  first_road_class                             532806 non-null  object \n",
      " 16  road_type                                    532806 non-null  object \n",
      " 17  speed_limit                                  532806 non-null  float64\n",
      " 18  junction_detail                              532806 non-null  object \n",
      " 19  second_road_class                            532806 non-null  object \n",
      " 20  pedestrian_crossing_human_control            532806 non-null  object \n",
      " 21  pedestrian_crossing_physical_facilities      532806 non-null  object \n",
      " 22  light_conditions                             532806 non-null  object \n",
      " 23  weather_conditions                           532806 non-null  object \n",
      " 24  road_surface_conditions                      532806 non-null  object \n",
      " 25  urban_or_rural_area                          532806 non-null  object \n",
      " 26  did_police_officer_attend_scene_of_accident  532806 non-null  object \n",
      " 27  lsoa_of_accident_location                    532806 non-null  object \n",
      " 28  vehicle_reference                            532806 non-null  int64  \n",
      " 29  casualty_reference                           532806 non-null  int64  \n",
      " 30  casualty_class                               532806 non-null  object \n",
      " 31  sex_of_casualty                              532806 non-null  object \n",
      " 32  age_of_casualty                              532806 non-null  float64\n",
      " 33  age_band_of_casualty                         532806 non-null  object \n",
      " 34  casualty_severity                            532806 non-null  object \n",
      " 35  pedestrian_location                          532806 non-null  object \n",
      " 36  pedestrian_movement                          532806 non-null  object \n",
      " 37  car_passenger                                532806 non-null  object \n",
      " 38  bus_or_coach_passenger                       532806 non-null  object \n",
      " 39  pedestrian_road_maintenance_worker           532806 non-null  object \n",
      " 40  casualty_type                                532806 non-null  object \n",
      "dtypes: float64(6), int64(5), object(30)\n",
      "memory usage: 166.7+ MB\n"
     ]
    }
   ],
   "source": [
    "train.info()"
   ]
  },
  {
   "cell_type": "markdown",
   "metadata": {},
   "source": [
    "* It seems like we have quite a few redundant features that we can get rid of, e.g. accident_reference, vehicle_reference and casualty_reference.\n",
    "* All geographical idenftification features are going to be collision-specific and lead to overfitting. Same for the date and time features, however, we could extract some more generalised timedate information, such as Month and Hour of collision - especially as we've seen that rush hour sees an increase in severity.\n",
    "* casualty_severity, enhanced_casualty_severity and enhanced_severity_collision are all modified versions of our predictor and will lead to overfitting. We can drop these.\n",
    "* The age band of casualty will be used intsead of the continuous age feature.\n",
    "* Local_authority_highway is duplicated information in local_authority_district, so we can drop.\n",
    "* Whether a police officer attended the scene of the collision after the fact won't affect the severity of the collision."
   ]
  },
  {
   "cell_type": "code",
   "execution_count": 21,
   "metadata": {},
   "outputs": [],
   "source": [
    "cols_to_drop = ['accident_index', 'accident_reference', 'vehicle_reference', 'casualty_reference', 'location_easting_osgr', 'location_northing_osgr', 'longitude', 'latitude', 'lsoa_of_accident_location', 'local_authority_ons_district', 'accident_severity', 'age_of_casualty', 'local_authority_highway', 'did_police_officer_attend_scene_of_accident']\n",
    "\n",
    "for data in [train, test]:\n",
    "  data.drop(columns=cols_to_drop, inplace=True)"
   ]
  },
  {
   "cell_type": "markdown",
   "metadata": {},
   "source": [
    "Let's handle those overly-specific datetimes."
   ]
  },
  {
   "cell_type": "code",
   "execution_count": 22,
   "metadata": {},
   "outputs": [],
   "source": [
    "for data in [train, test]:\n",
    "  data['Hour'] = pd.to_datetime(data['time'], format='%H:%M').dt.hour\n",
    "  data['Month'] = pd.to_datetime(data['date'], format ='%d/%m/%Y').dt.month\n",
    "  data['Day'] = pd.to_datetime(data['date'], format ='%d/%m/%Y').dt.day\n",
    "  data.drop(columns=['time', 'date'], axis=1, inplace=True)"
   ]
  },
  {
   "cell_type": "markdown",
   "metadata": {},
   "source": [
    "Also let's map the casualty_severity column to 0 or 1 so we can look at correlations."
   ]
  },
  {
   "cell_type": "code",
   "execution_count": 23,
   "metadata": {},
   "outputs": [],
   "source": [
    "severity_dict = {'Slight': 0, 'Serious': 1, 'Fatal': 1}\n",
    "\n",
    "\n",
    "for data in [train, test]:\n",
    "  data['casualty_severity'].replace(severity_dict, inplace=True)"
   ]
  },
  {
   "cell_type": "markdown",
   "metadata": {},
   "source": [
    "Okay, let's check whether our remaining categories are associated with the collision_severity. If not, we can think about dropping these features.\n",
    "\n",
    "To check, we will use the chi2 test of independence to test the association between each feature and the collision_severity. Can we assume independence of samples here? Maybe increased chance of Type I and Type II errors. More importantly, some of our features are most likely breaking the >5 observations rule. We should weed out these features are reduce the cardinality to make the Chi2 test appropriate to use for feature selection here.\n",
    "\n",
    "We can also have a look at the correlation matrix to check whether any of our numerical features are correlated with one another."
   ]
  },
  {
   "cell_type": "code",
   "execution_count": 24,
   "metadata": {},
   "outputs": [],
   "source": [
    "numeric = train.select_dtypes(include=np.number)\n",
    "categorical = train.select_dtypes(exclude=np.number).columns"
   ]
  },
  {
   "cell_type": "code",
   "execution_count": 25,
   "metadata": {},
   "outputs": [
    {
     "data": {
      "text/plain": [
       "<Axes: >"
      ]
     },
     "execution_count": 25,
     "metadata": {},
     "output_type": "execute_result"
    },
    {
     "data": {
      "image/png": "[encoded data removed]",
      "text/plain": [
       "<Figure size 640x480 with 2 Axes>"
      ]
     },
     "metadata": {},
     "output_type": "display_data"
    }
   ],
   "source": [
    "corr = numeric.corr()\n",
    "mask=np.triu(np.ones_like(corr, dtype=bool))\n",
    "sns.heatmap(corr, mask=mask, center=0, annot=True, fmt=\".2f\")"
   ]
  },
  {
   "cell_type": "markdown",
   "metadata": {},
   "source": [
    "The number of vehicles and number of casualties are obviously correlated. We should consider combining these features into a new feature."
   ]
  },
  {
   "cell_type": "markdown",
   "metadata": {},
   "source": [
    "Let's find the categorical features that have low numbers of observations. Although the rule of thumb for the chi2 test is 5, let's pad this number out a bit as we don't know how unseen data might differ to this training set."
   ]
  },
  {
   "cell_type": "code",
   "execution_count": 26,
   "metadata": {},
   "outputs": [
    {
     "name": "stdout",
     "output_type": "stream",
     "text": [
      "first_road_class\n",
      "second_road_class\n",
      "pedestrian_crossing_human_control\n",
      "pedestrian_crossing_physical_facilities\n",
      "light_conditions\n",
      "weather_conditions\n",
      "road_surface_conditions\n",
      "pedestrian_location\n",
      "pedestrian_movement\n",
      "bus_or_coach_passenger\n",
      "pedestrian_road_maintenance_worker\n",
      "casualty_type\n"
     ]
    }
   ],
   "source": [
    "for col in categorical:\n",
    "    if (train[col].value_counts() < len(train)*0.01).any():\n",
    "        print(col)"
   ]
  },
  {
   "cell_type": "markdown",
   "metadata": {},
   "source": [
    "To deal with the high cardinality, the most flexible option (that will translate well to unseen data) would be to group low frequency categories together as 'Other' within each feature. When we do this we need to be careful to not create additional 'Other' columns to ones that might already exist in the dataset.\n",
    "\n",
    "Before we do this, let's just see whether we can combine the categories in a more clever way to retain some of the information.\n",
    "\n",
    "* Starting with road_class, we can see that A(M) roads are seperated from motorways, however, in the UK the M suffix means this is a motorway. Let's roll the A(M)s into the motoroways, for the first_road_class and second_road_class too.\n",
    "\n"
   ]
  },
  {
   "cell_type": "code",
   "execution_count": 27,
   "metadata": {},
   "outputs": [],
   "source": [
    "for data in [train, test]:\n",
    "  data['first_road_class'].replace({'A(M)': 'Motorway'}, inplace=True)\n",
    "  data['second_road_class'].replace({'A(M)': 'Motorway'}, inplace=True)"
   ]
  },
  {
   "cell_type": "markdown",
   "metadata": {},
   "source": [
    "* Road_type and junction_detail can be reduced with an 'Other category' whilst we test for association."
   ]
  },
  {
   "cell_type": "code",
   "execution_count": 28,
   "metadata": {},
   "outputs": [
    {
     "data": {
      "text/plain": [
       "road_type\n",
       "Single carriageway    395725\n",
       "Dual carriageway       87597\n",
       "Roundabout             29583\n",
       "One way street         10402\n",
       "Slip road               9499\n",
       "Name: count, dtype: int64"
      ]
     },
     "execution_count": 28,
     "metadata": {},
     "output_type": "execute_result"
    }
   ],
   "source": [
    "train.road_type.value_counts()"
   ]
  },
  {
   "cell_type": "code",
   "execution_count": 29,
   "metadata": {},
   "outputs": [
    {
     "data": {
      "text/plain": [
       "junction_detail\n",
       "Not at junction or within 20 metres    235605\n",
       "T or staggered junction                145190\n",
       "Crossroads                              51737\n",
       "Roundabout                              39159\n",
       "Other junction                          28172\n",
       "Private drive or entrance               11236\n",
       "More than 4 arms (not roundabout)        7618\n",
       "Mini-roundabout                          7313\n",
       "Slip road                                6776\n",
       "Name: count, dtype: int64"
      ]
     },
     "execution_count": 29,
     "metadata": {},
     "output_type": "execute_result"
    }
   ],
   "source": [
    "train.junction_detail.value_counts()"
   ]
  },
  {
   "cell_type": "markdown",
   "metadata": {},
   "source": [
    "* pedestrian_crossing_human_control and pedestrian_crossing_physical_facilities likely contain similar information. Let's see."
   ]
  },
  {
   "cell_type": "code",
   "execution_count": 30,
   "metadata": {},
   "outputs": [
    {
     "data": {
      "text/plain": [
       "pedestrian_crossing_physical_facilities\n",
       "No physical crossing facilities within 50 metres                             428283\n",
       "Pedestrian phase at traffic signal junction                                   41169\n",
       "Pelican, puffin, toucan or similar non-junction pedestrian light crossing     28691\n",
       "Zebra                                                                         20462\n",
       "Central refuge                                                                12956\n",
       "Footbridge or subway                                                           1245\n",
       "Name: count, dtype: int64"
      ]
     },
     "execution_count": 30,
     "metadata": {},
     "output_type": "execute_result"
    }
   ],
   "source": [
    "train.pedestrian_crossing_physical_facilities.value_counts()"
   ]
  },
  {
   "cell_type": "code",
   "execution_count": 31,
   "metadata": {},
   "outputs": [
    {
     "data": {
      "text/plain": [
       "pedestrian_crossing_human_control\n",
       "None within 50 metres                 524816\n",
       "Control by other authorised person      5865\n",
       "Control by school crossing patrol       2125\n",
       "Name: count, dtype: int64"
      ]
     },
     "execution_count": 31,
     "metadata": {},
     "output_type": "execute_result"
    }
   ],
   "source": [
    "train.pedestrian_crossing_human_control.value_counts()"
   ]
  },
  {
   "cell_type": "markdown",
   "metadata": {},
   "source": [
    "I think that pedestrain_crossing_human_control is mostly captured already in the pedestrian_crossing_physical_facilities. Let's drop the former and the latter is a good candidate for grouping together low frequency observations into an 'Other' category."
   ]
  },
  {
   "cell_type": "code",
   "execution_count": 32,
   "metadata": {},
   "outputs": [],
   "source": [
    "for data in [train, test]:\n",
    "  data.drop(columns='pedestrian_crossing_human_control', axis=1, inplace=True)"
   ]
  },
  {
   "cell_type": "markdown",
   "metadata": {},
   "source": [
    "* light_conditions - let's combine the truly dark categories as \"Darkness\". Maybe we could just have a feature for is_dark?"
   ]
  },
  {
   "cell_type": "code",
   "execution_count": 33,
   "metadata": {},
   "outputs": [],
   "source": [
    "for data in [train, test]:\n",
    "  data.loc[~data['light_conditions'].str.contains('daylight|darkness - lights lit', case=False), 'light_conditions'] = 'Darkness'"
   ]
  },
  {
   "cell_type": "markdown",
   "metadata": {},
   "source": [
    "* weather_conditions looks like it can be collapsed down. Let's extract a 'high winds' feature and reduce the remaining categories.\n",
    "* We can combine frost, ice and snow in the road conditions feature."
   ]
  },
  {
   "cell_type": "code",
   "execution_count": 34,
   "metadata": {},
   "outputs": [],
   "source": [
    "for data in [train, test]:\n",
    "  data['high_winds'] = (data['weather_conditions'].str.contains(r\"+ high winds\", regex=False) == True)\n",
    "  data['weather_conditions'] = data['weather_conditions'].str.replace(' no high winds', '')\n",
    "  data['weather_conditions'] = data['weather_conditions'].str.replace(' + high winds', '')  "
   ]
  },
  {
   "cell_type": "code",
   "execution_count": 35,
   "metadata": {},
   "outputs": [],
   "source": [
    "road_surface_dict = {'Frost or ice': 'Frost, ice or snow', 'Snow': 'Frost, ice or snow'}\n",
    "\n",
    "for data in [train, test]:\n",
    "  data['road_surface_conditions'].replace(road_surface_dict, inplace=True)"
   ]
  },
  {
   "cell_type": "markdown",
   "metadata": {},
   "source": [
    "* pedestrian_location and pedestrian_movement likely contain similar information."
   ]
  },
  {
   "cell_type": "code",
   "execution_count": 36,
   "metadata": {},
   "outputs": [
    {
     "data": {
      "text/plain": [
       "pedestrian_location\n",
       "Not a Pedestrian                                                           460510\n",
       "In carriageway, crossing elsewhere                                          27601\n",
       "Crossing on pedestrian crossing facility                                    11910\n",
       "On footway or verge                                                          8615\n",
       "In carriageway, not crossing                                                 7513\n",
       "Unknown or other                                                             6971\n",
       "Crossing elsewhere within 50m. of pedestrian crossing                        4381\n",
       "In centre of carriageway - not on refuge, island or central reservation      4380\n",
       "On refuge, central island or central reservation                              474\n",
       "Crossing in zig-zag approach lines                                            293\n",
       "Crossing in zig-zag exit lines                                                158\n",
       "Name: count, dtype: int64"
      ]
     },
     "execution_count": 36,
     "metadata": {},
     "output_type": "execute_result"
    }
   ],
   "source": [
    "train.pedestrian_location.value_counts()"
   ]
  },
  {
   "cell_type": "code",
   "execution_count": 37,
   "metadata": {},
   "outputs": [
    {
     "data": {
      "text/plain": [
       "pedestrian_movement\n",
       "Not a Pedestrian                                                                                             460506\n",
       "Crossing from driver's nearside                                                                               22785\n",
       "Unknown or other                                                                                              20405\n",
       "Crossing from driver's offside                                                                                14834\n",
       "In carriageway, stationary - not crossing  (standing or playing)                                               3725\n",
       "Crossing from nearside - masked by parked or stationary vehicle                                                3587\n",
       "Crossing from offside - masked by  parked or stationary vehicle                                                2679\n",
       "Walking along in carriageway, back to traffic                                                                  1967\n",
       "Walking along in carriageway, facing traffic                                                                   1773\n",
       "In carriageway, stationary - not crossing  (standing or playing) - masked by parked or stationary vehicle       545\n",
       "Name: count, dtype: int64"
      ]
     },
     "execution_count": 37,
     "metadata": {},
     "output_type": "execute_result"
    }
   ],
   "source": [
    "train.pedestrian_movement.value_counts()"
   ]
  },
  {
   "cell_type": "markdown",
   "metadata": {},
   "source": [
    "pedestrian_movement and pedestrian_location are dominated by 'not a pedestrian' which maybe isn't helpful. From the other categories, except from 'unknown or other' it seems like all of these categories refer to a pedestrian being in the road. Let's just extract this as a 'pedestrian_in_carriageway' boolean feature and drop the original two columns."
   ]
  },
  {
   "cell_type": "code",
   "execution_count": 38,
   "metadata": {},
   "outputs": [],
   "source": [
    "ped_loc_list = ['In carriageway', 'Crossing', 'In centre of carriageway']\n",
    "for data in [train, test]:\n",
    "  data['pedestrian_in_carriageway'] = data['pedestrian_location'].str.contains(\"|\".join(ped_loc_list))\n",
    "  data.drop(columns=['pedestrian_movement', 'pedestrian_location'], axis=1, inplace=True)"
   ]
  },
  {
   "cell_type": "markdown",
   "metadata": {},
   "source": [
    "* Categories in casualty_type can be collapsed down."
   ]
  },
  {
   "cell_type": "code",
   "execution_count": 39,
   "metadata": {},
   "outputs": [],
   "source": [
    "large_vehicles = ['Minibus', 'Agricultural vehicle', 'Goods vehicle', 'Van', 'Tram', 'Bus or coach']\n",
    "\n",
    "for data in [train, test]:\n",
    "  data.loc[data['casualty_type'].str.contains('motorcycle', regex=False, case=False), 'casualty_type'] = 'Motorcycle'\n",
    "  data.loc[data['casualty_type'].str.contains('car', regex=False, case=False), 'casualty_type'] = 'Car occupant'\n",
    "  data.loc[data['casualty_type'].str.contains(\"|\".join(large_vehicles), regex=True, case=False), 'casualty_type'] = 'Large Vehicle'"
   ]
  },
  {
   "cell_type": "markdown",
   "metadata": {},
   "source": [
    "* most casualties aren't bus or coach passengers (and the information is captured in \"casualty_type\"), but for the sake of testing the association with casualty_severity let's keep it for now (but tidied up)"
   ]
  },
  {
   "cell_type": "code",
   "execution_count": 40,
   "metadata": {},
   "outputs": [],
   "source": [
    "for data in [train, test]:  \n",
    "  data.loc[~data['bus_or_coach_passenger'].str.contains('Not a bus or coach passenger', regex=False, case=False), 'bus_or_coach_passenger'] = 'Bus or coach passenger'"
   ]
  },
  {
   "cell_type": "markdown",
   "metadata": {},
   "source": [
    "There are only 8 instances of road workers in the dataset, let's just drop this feature."
   ]
  },
  {
   "cell_type": "code",
   "execution_count": 41,
   "metadata": {},
   "outputs": [
    {
     "name": "stdout",
     "output_type": "stream",
     "text": [
      "pedestrian_road_maintenance_worker\n",
      "No / Not applicable    525472\n",
      "Not Known                6709\n",
      "Yes                       625\n",
      "Name: count, dtype: int64\n"
     ]
    }
   ],
   "source": [
    "print(train.pedestrian_road_maintenance_worker.value_counts())\n",
    "\n",
    "for data in [train, test]:\n",
    "  data.drop(columns='pedestrian_road_maintenance_worker', axis=1, inplace=True)"
   ]
  },
  {
   "cell_type": "markdown",
   "metadata": {},
   "source": [
    "Okay let's see where we're up to with reducing the number of rare observations, so that we can apply our chi2 statistical test to check the association of each feature with the casualty_severity."
   ]
  },
  {
   "cell_type": "code",
   "execution_count": 42,
   "metadata": {},
   "outputs": [
    {
     "name": "stdout",
     "output_type": "stream",
     "text": [
      "second_road_class\n",
      "pedestrian_crossing_physical_facilities\n",
      "weather_conditions\n",
      "road_surface_conditions\n",
      "casualty_type\n"
     ]
    }
   ],
   "source": [
    "numeric = train.select_dtypes(include=np.number)\n",
    "categorical = train.select_dtypes(exclude=[np.number, bool]).columns\n",
    "\n",
    "for col in categorical:\n",
    "    if (train[col].value_counts() < len(train)*0.01).any():\n",
    "        print(col)"
   ]
  },
  {
   "cell_type": "markdown",
   "metadata": {},
   "source": [
    "Nice one. Okay let's roll any low frequency features (<1% of the dataset) into an 'Other' category for each feature. We just need to be aware that some features already have \"Other\" categories, they may just not be named as such.\n",
    "\n",
    "We also need to handle exceptions where the 'Other' category still has less than our predetermined threshold of observations. Maybe we should just drop these incredibly rare cases.\n",
    "\n",
    "Again, any transformations that we make based on the training data should be directly applied to the testing data."
   ]
  },
  {
   "cell_type": "code",
   "execution_count": 43,
   "metadata": {},
   "outputs": [],
   "source": [
    "for col in categorical:\n",
    "    is_rare = train[col].value_counts().lt(len(data)*0.01)\n",
    "    rare_vals = is_rare[is_rare == True].index.get_level_values(0)\n",
    "    train.loc[(train[col].isin(rare_vals)), col] = 'Other'\n",
    "    test.loc[(test[col].isin(rare_vals)), col] = 'Other'\n",
    "    train.loc[train[col].str.contains('other', regex=False, case=False), col] = 'Other'\n",
    "    test.loc[test[col].str.contains('other', regex=False, case=False), col] = 'Other'\n",
    "    if (train[train[col] == 'Other'].shape[0] < len(data)*0.01) & ((train[train[col] == 'Other'].shape[0] != 0)):\n",
    "      train.drop(train[train[col] == 'Other'].index, axis=0, inplace=True)\n",
    "      test.drop(test[test[col] == 'Other'].index, axis=0, inplace=True)\n"
   ]
  },
  {
   "cell_type": "markdown",
   "metadata": {},
   "source": [
    "Now we're ready to use the chi2 test of independency to see whether any of our features are independent of the casualty_severity. Any that are can be dropped."
   ]
  },
  {
   "cell_type": "code",
   "execution_count": 44,
   "metadata": {},
   "outputs": [
    {
     "name": "stdout",
     "output_type": "stream",
     "text": [
      "{}\n"
     ]
    }
   ],
   "source": [
    "alpha=0.05\n",
    "independent_features = {}\n",
    "pvals = {}\n",
    "\n",
    "for col in categorical:\n",
    "  expected, observed, stats = pg.chi2_independence(data=train, x='casualty_severity', y=col)\n",
    "  pval = stats['pval'][0]\n",
    "  pvals[col] = pval\n",
    "  if pval > alpha:\n",
    "    independent_features[col] = np.round(pval, 5)\n",
    "\n",
    "print(independent_features)\n",
    "  "
   ]
  },
  {
   "cell_type": "code",
   "execution_count": 49,
   "metadata": {},
   "outputs": [],
   "source": [
    "for data in [train, test]:\n",
    "  data.drop(columns=independent_features.keys(), axis=1, inplace=True)"
   ]
  },
  {
   "cell_type": "markdown",
   "metadata": {},
   "source": [
    "___\n",
    "#### Okay, we're down to 23 features after some gentle feature selection.\n",
    "\n",
    "This is still quite a lot of features for our model. Atleast we've reduced the cardinality of the features we have.\n",
    "\n",
    "Let's test some models and see what sort of performance we're getting. We can try some recursive feature elimination to hone in on the most important features, and potentially revisit feature engineering to combine some of the more correlated features (no. of casualties and no. of vehicles) etc."
   ]
  },
  {
   "cell_type": "code",
   "execution_count": 50,
   "metadata": {},
   "outputs": [
    {
     "name": "stdout",
     "output_type": "stream",
     "text": [
      "<class 'pandas.core.frame.DataFrame'>\n",
      "Index: 530630 entries, 0 to 532805\n",
      "Data columns (total 26 columns):\n",
      " #   Column                                   Non-Null Count   Dtype  \n",
      "---  ------                                   --------------   -----  \n",
      " 0   accident_year                            530630 non-null  int64  \n",
      " 1   number_of_vehicles                       530630 non-null  int64  \n",
      " 2   number_of_casualties                     530630 non-null  int64  \n",
      " 3   day_of_week                              530630 non-null  object \n",
      " 4   first_road_class                         530630 non-null  object \n",
      " 5   road_type                                530630 non-null  object \n",
      " 6   speed_limit                              530630 non-null  float64\n",
      " 7   junction_detail                          530630 non-null  object \n",
      " 8   second_road_class                        530630 non-null  object \n",
      " 9   pedestrian_crossing_physical_facilities  530630 non-null  object \n",
      " 10  light_conditions                         530630 non-null  object \n",
      " 11  weather_conditions                       530630 non-null  object \n",
      " 12  road_surface_conditions                  530630 non-null  object \n",
      " 13  urban_or_rural_area                      530630 non-null  object \n",
      " 14  casualty_class                           530630 non-null  object \n",
      " 15  sex_of_casualty                          530630 non-null  object \n",
      " 16  age_band_of_casualty                     530630 non-null  object \n",
      " 17  casualty_severity                        530630 non-null  int64  \n",
      " 18  car_passenger                            530630 non-null  object \n",
      " 19  bus_or_coach_passenger                   530630 non-null  object \n",
      " 20  casualty_type                            530630 non-null  object \n",
      " 21  Hour                                     530630 non-null  int32  \n",
      " 22  Month                                    530630 non-null  int32  \n",
      " 23  Day                                      530630 non-null  int32  \n",
      " 24  high_winds                               530630 non-null  bool   \n",
      " 25  pedestrian_in_carriageway                530630 non-null  bool   \n",
      "dtypes: bool(2), float64(1), int32(3), int64(4), object(16)\n",
      "memory usage: 96.1+ MB\n"
     ]
    }
   ],
   "source": [
    "train.info()"
   ]
  },
  {
   "cell_type": "markdown",
   "metadata": {},
   "source": [
    "___ \n",
    "#### Time to encode and scale our data for modelling in Part 07"
   ]
  },
  {
   "cell_type": "code",
   "execution_count": 48,
   "metadata": {},
   "outputs": [],
   "source": [
    "train.to_csv('feat_sel_training_data.csv', index=False)\n",
    "test.to_csv('feat_sel_testing_data.csv', index=False)"
   ]
  },
  {
   "cell_type": "code",
   "execution_count": null,
   "metadata": {},
   "outputs": [],
   "source": []
  }
 ],
 "metadata": {
  "kernelspec": {
   "display_name": "DfT_project_env",
   "language": "python",
   "name": "python3"
  },
  "language_info": {
   "codemirror_mode": {
    "name": "ipython",
    "version": 3
   },
   "file_extension": ".py",
   "mimetype": "text/x-python",
   "name": "python",
   "nbconvert_exporter": "python",
   "pygments_lexer": "ipython3",
   "version": "3.12.0"
  }
 },
 "nbformat": 4,
 "nbformat_minor": 2
}
