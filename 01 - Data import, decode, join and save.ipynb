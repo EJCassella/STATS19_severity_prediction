{
 "cells": [
  {
   "cell_type": "markdown",
   "id": "040ff381",
   "metadata": {},
   "source": [
    "# 01 - Data importing, decoding, joining, and saving.\n",
    "___\n",
    "\n",
    "Step 1! Let's get our hands on the data and select for only collisions in South Yorkshire, as that's what the project focuses on. We'll decode the data to make it human readable, so that we can do some exploratory data analysis to get familiar with the data and have a bit more direction in training our model. We'll join the Casualty and Collision datasets into one big dataframe that we wil export to a .csv to read into our code for Step 2: Data cleaning."
   ]
  },
  {
   "cell_type": "code",
   "execution_count": 1,
   "id": "61fe3d8f",
   "metadata": {},
   "outputs": [],
   "source": [
    "import pandas as pd"
   ]
  },
  {
   "cell_type": "markdown",
   "id": "7d90130e",
   "metadata": {},
   "source": [
    "Here i'm reading in the information we need to convert the numbers in the downloaded data tables into their human readable equivalent. This is stored in the 'stats19_schema.csv' document"
   ]
  },
  {
   "cell_type": "code",
   "execution_count": 2,
   "id": "ee854be0",
   "metadata": {},
   "outputs": [],
   "source": [
    "schema = pd.read_csv('stats19_schema.csv')\n",
    "coll_schema = schema[schema.table=='Accident']\n",
    "cas_schema = schema[schema.table=='Casualty']"
   ]
  },
  {
   "cell_type": "markdown",
   "id": "68ee273a",
   "metadata": {},
   "source": [
    "Now time to download the data. I'm only downloading the last 5 years data because this is nice and fast for me to do (gov.uk website has compiled them for us!). This cell will take a little bit of time to run whilst it downloads everything."
   ]
  },
  {
   "cell_type": "code",
   "execution_count": 3,
   "id": "d7f90700",
   "metadata": {},
   "outputs": [],
   "source": [
    "coll_url = r\"https://data.dft.gov.uk/road-accidents-safety-data/dft-road-casualty-statistics-collision-last-5-years.csv\"\n",
    "cas_url = r\"https://data.dft.gov.uk/road-accidents-safety-data/dft-road-casualty-statistics-casualty-last-5-years.csv\"\n",
    "\n",
    "coll_df = pd.read_csv(coll_url, low_memory = False)\n",
    "cas_df = pd.read_csv(cas_url, low_memory = False)"
   ]
  },
  {
   "cell_type": "markdown",
   "id": "1063c563",
   "metadata": {},
   "source": [
    "Below is a neat little piece of code that i'm proud of! In just one line of code we're converting all of the data to their corresponding strings. 😎"
   ]
  },
  {
   "cell_type": "code",
   "execution_count": 4,
   "id": "06c9c151",
   "metadata": {},
   "outputs": [],
   "source": [
    "coll_df = pd.concat([coll_df[name].map(coll_schema[coll_schema.variable == name].set_index('code').label).copy() if name in coll_schema.variable.unique() else coll_df[name] for name in coll_df.columns], axis=1)"
   ]
  },
  {
   "cell_type": "code",
   "execution_count": 5,
   "id": "77178be1",
   "metadata": {},
   "outputs": [],
   "source": [
    "cas_df = pd.concat([\n",
    "    cas_df[name].map(cas_schema[cas_schema.variable == name].set_index('code').label).copy() if (name in cas_schema.variable.unique() and name != 'age_of_casualty') else cas_df[name] for name in cas_df.columns], axis=1)"
   ]
  },
  {
   "cell_type": "markdown",
   "id": "d3672352",
   "metadata": {},
   "source": [
    "Now we'll merge the two tables of data. Using a left join we drop any casualty data that doeesn't correspond to an accident in South Yorkshire."
   ]
  },
  {
   "cell_type": "code",
   "execution_count": 6,
   "id": "ed060d33",
   "metadata": {},
   "outputs": [],
   "source": [
    "joined = coll_df.merge(cas_df, on='accident_index', how='left')"
   ]
  },
  {
   "cell_type": "markdown",
   "id": "db40d203",
   "metadata": {},
   "source": [
    "And export it to a .csv for us to read in later on."
   ]
  },
  {
   "cell_type": "code",
   "execution_count": 7,
   "id": "b39fa8c8",
   "metadata": {},
   "outputs": [],
   "source": [
    "joined.to_csv('dft_statistics_collision_and_casualty_last_5_years.csv', index=False)"
   ]
  },
  {
   "cell_type": "markdown",
   "id": "92b444c5",
   "metadata": {},
   "source": []
  }
 ],
 "metadata": {
  "kernelspec": {
   "display_name": "DfT_project_env",
   "language": "python",
   "name": "python3"
  },
  "language_info": {
   "codemirror_mode": {
    "name": "ipython",
    "version": 3
   },
   "file_extension": ".py",
   "mimetype": "text/x-python",
   "name": "python",
   "nbconvert_exporter": "python",
   "pygments_lexer": "ipython3",
   "version": "3.12.0"
  }
 },
 "nbformat": 4,
 "nbformat_minor": 5
}
